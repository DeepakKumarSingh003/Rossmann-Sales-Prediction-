{
  "nbformat": 4,
  "nbformat_minor": 0,
  "metadata": {
    "kernelspec": {
      "display_name": "Python 3",
      "language": "python",
      "name": "python3"
    },
    "language_info": {
      "codemirror_mode": {
        "name": "ipython",
        "version": 3
      },
      "file_extension": ".py",
      "mimetype": "text/x-python",
      "name": "python",
      "nbconvert_exporter": "python",
      "pygments_lexer": "ipython3",
      "version": "3.6.6"
    },
    "colab": {
      "name": "Rossmann Sales Prediction - Capstone Project.ipynb",
      "provenance": [],
      "collapsed_sections": [],
      "include_colab_link": true
    }
  },
  "cells": [
    {
      "cell_type": "markdown",
      "metadata": {
        "id": "view-in-github",
        "colab_type": "text"
      },
      "source": [
        "<a href=\"https://colab.research.google.com/github/DeepakKumarSingh003/Rossmann-Sales-Prediction-/blob/main/Rossmann_Sales_Prediction_Capstone_Project.ipynb\" target=\"_parent\"><img src=\"https://colab.research.google.com/assets/colab-badge.svg\" alt=\"Open In Colab\"/></a>"
      ]
    },
    {
      "cell_type": "markdown",
      "metadata": {
        "id": "tOGC-qoyhJeX"
      },
      "source": [
        "# <b><u> Project Title : Sales Prediction : Predicting sales of a major store chain Rossmann</u></b>"
      ]
    },
    {
      "cell_type": "markdown",
      "metadata": {
        "id": "Y06xIdG26kRF"
      },
      "source": [
        "## <b> Problem Description </b>\n",
        "\n",
        "### Rossmann operates over 3,000 drug stores in 7 European countries. Currently, Rossmann store managers are tasked with predicting their daily sales for up to six weeks in advance. Store sales are influenced by many factors, including promotions, competition, school and state holidays, seasonality, and locality. With thousands of individual managers predicting sales based on their unique circumstances, the accuracy of results can be quite varied.\n",
        "\n",
        "### You are provided with historical sales data for 1,115 Rossmann stores. The task is to forecast the \"Sales\" column for the test set. Note that some stores in the dataset were temporarily closed for refurbishment."
      ]
    },
    {
      "cell_type": "markdown",
      "metadata": {
        "id": "WWeU1f9bwqQq"
      },
      "source": [
        "## <b> Data Description </b>\n",
        "\n",
        "### <b>Rossmann Stores Data.csv </b> - historical data including Sales\n",
        "### <b>store.csv </b> - supplemental information about the stores\n",
        "\n",
        "\n",
        "### <b><u>Data fields</u></b>\n",
        "### Most of the fields are self-explanatory. The following are descriptions for those that aren't.\n",
        "\n",
        "* #### Id - an Id that represents a (Store, Date) duple within the test set\n",
        "* #### Store - a unique Id for each store\n",
        "* #### Sales - the turnover for any given day (this is what you are predicting)\n",
        "* #### Customers - the number of customers on a given day\n",
        "* #### Open - an indicator for whether the store was open: 0 = closed, 1 = open\n",
        "* #### StateHoliday - indicates a state holiday. Normally all stores, with few exceptions, are closed on state holidays. Note that all schools are closed on public holidays and weekends. a = public holiday, b = Easter holiday, c = Christmas, 0 = None\n",
        "* #### SchoolHoliday - indicates if the (Store, Date) was affected by the closure of public schools\n",
        "* #### StoreType - differentiates between 4 different store models: a, b, c, d\n",
        "* #### Assortment - describes an assortment level: a = basic, b = extra, c = extended\n",
        "* #### CompetitionDistance - distance in meters to the nearest competitor store\n",
        "* #### CompetitionOpenSince[Month/Year] - gives the approximate year and month of the time the nearest competitor was opened\n",
        "* #### Promo - indicates whether a store is running a promo on that day\n",
        "* #### Promo2 - Promo2 is a continuing and consecutive promotion for some stores: 0 = store is not participating, 1 = store is participating\n",
        "* #### Promo2Since[Year/Week] - describes the year and calendar week when the store started participating in Promo2\n",
        "* #### PromoInterval - describes the consecutive intervals Promo2 is started, naming the months the promotion is started anew. E.g. \"Feb,May,Aug,Nov\" means each round starts in February, May, August, November of any given year for that store"
      ]
    },
    {
      "cell_type": "code",
      "metadata": {
        "id": "dByMsuzT8Tnw"
      },
      "source": [
        "#Import numpy with alias np\n",
        "import numpy as np\n",
        "#Import pandas with alias pd\n",
        "import pandas as pd\n",
        "#Import seaborn with alias sns\n",
        "import seaborn as sns\n",
        "#Import matplotlib.pyplot with alias plt\n",
        "import matplotlib.pyplot as plt\n",
        "%matplotlib inline\n",
        "sns.set_style('whitegrid')\n"
      ],
      "execution_count": 39,
      "outputs": []
    },
    {
      "cell_type": "code",
      "source": [
        "from google.colab import drive\n",
        "drive.mount ('/content/drive')"
      ],
      "metadata": {
        "colab": {
          "base_uri": "https://localhost:8080/"
        },
        "id": "ZACh4x0jJtsf",
        "outputId": "8942a91f-6ed2-4afa-9f77-7d1d6ac8e5f6"
      },
      "execution_count": 40,
      "outputs": [
        {
          "output_type": "stream",
          "name": "stdout",
          "text": [
            "Drive already mounted at /content/drive; to attempt to forcibly remount, call drive.mount(\"/content/drive\", force_remount=True).\n"
          ]
        }
      ]
    },
    {
      "cell_type": "code",
      "source": [
        "File1=\"/content/drive/MyDrive/Alma better Projects/Supervised ML-Regression/Copy of Rossmann Stores Data.csv\"\n",
        "File2=\"/content/drive/MyDrive/Alma better Projects/Supervised ML-Regression/Copy of store.csv\""
      ],
      "metadata": {
        "id": "m9fhhlQfJvB4"
      },
      "execution_count": 41,
      "outputs": []
    },
    {
      "cell_type": "code",
      "source": [
        "df0=pd.read_csv(File1)\n",
        "df1=pd.read_csv(File2,index_col=\"Store\")"
      ],
      "metadata": {
        "colab": {
          "base_uri": "https://localhost:8080/"
        },
        "id": "DmJF6TZqKMjY",
        "outputId": "0100e86a-bad4-4292-baf9-d55d2086369f"
      },
      "execution_count": 42,
      "outputs": [
        {
          "output_type": "stream",
          "name": "stderr",
          "text": [
            "/usr/local/lib/python3.7/dist-packages/IPython/core/interactiveshell.py:2882: DtypeWarning: Columns (7) have mixed types.Specify dtype option on import or set low_memory=False.\n",
            "  exec(code_obj, self.user_global_ns, self.user_ns)\n"
          ]
        }
      ]
    },
    {
      "cell_type": "code",
      "source": [
        "df0.head(1116)\n"
      ],
      "metadata": {
        "colab": {
          "base_uri": "https://localhost:8080/",
          "height": 424
        },
        "id": "UKGszad8KYT4",
        "outputId": "a26481de-023e-4524-a434-dae9bbaecadc"
      },
      "execution_count": 60,
      "outputs": [
        {
          "output_type": "execute_result",
          "data": {
            "text/html": [
              "\n",
              "  <div id=\"df-5e1c13f2-1fb7-4987-ad04-06c9b18f8d0b\">\n",
              "    <div class=\"colab-df-container\">\n",
              "      <div>\n",
              "<style scoped>\n",
              "    .dataframe tbody tr th:only-of-type {\n",
              "        vertical-align: middle;\n",
              "    }\n",
              "\n",
              "    .dataframe tbody tr th {\n",
              "        vertical-align: top;\n",
              "    }\n",
              "\n",
              "    .dataframe thead th {\n",
              "        text-align: right;\n",
              "    }\n",
              "</style>\n",
              "<table border=\"1\" class=\"dataframe\">\n",
              "  <thead>\n",
              "    <tr style=\"text-align: right;\">\n",
              "      <th></th>\n",
              "      <th>Store</th>\n",
              "      <th>DayOfWeek</th>\n",
              "      <th>Date</th>\n",
              "      <th>Sales</th>\n",
              "      <th>Customers</th>\n",
              "      <th>Open</th>\n",
              "      <th>Promo</th>\n",
              "      <th>StateHoliday</th>\n",
              "      <th>SchoolHoliday</th>\n",
              "    </tr>\n",
              "  </thead>\n",
              "  <tbody>\n",
              "    <tr>\n",
              "      <th>0</th>\n",
              "      <td>1</td>\n",
              "      <td>5</td>\n",
              "      <td>2015-07-31</td>\n",
              "      <td>5263</td>\n",
              "      <td>555</td>\n",
              "      <td>1</td>\n",
              "      <td>1</td>\n",
              "      <td>0</td>\n",
              "      <td>1</td>\n",
              "    </tr>\n",
              "    <tr>\n",
              "      <th>1</th>\n",
              "      <td>2</td>\n",
              "      <td>5</td>\n",
              "      <td>2015-07-31</td>\n",
              "      <td>6064</td>\n",
              "      <td>625</td>\n",
              "      <td>1</td>\n",
              "      <td>1</td>\n",
              "      <td>0</td>\n",
              "      <td>1</td>\n",
              "    </tr>\n",
              "    <tr>\n",
              "      <th>2</th>\n",
              "      <td>3</td>\n",
              "      <td>5</td>\n",
              "      <td>2015-07-31</td>\n",
              "      <td>8314</td>\n",
              "      <td>821</td>\n",
              "      <td>1</td>\n",
              "      <td>1</td>\n",
              "      <td>0</td>\n",
              "      <td>1</td>\n",
              "    </tr>\n",
              "    <tr>\n",
              "      <th>3</th>\n",
              "      <td>4</td>\n",
              "      <td>5</td>\n",
              "      <td>2015-07-31</td>\n",
              "      <td>13995</td>\n",
              "      <td>1498</td>\n",
              "      <td>1</td>\n",
              "      <td>1</td>\n",
              "      <td>0</td>\n",
              "      <td>1</td>\n",
              "    </tr>\n",
              "    <tr>\n",
              "      <th>4</th>\n",
              "      <td>5</td>\n",
              "      <td>5</td>\n",
              "      <td>2015-07-31</td>\n",
              "      <td>4822</td>\n",
              "      <td>559</td>\n",
              "      <td>1</td>\n",
              "      <td>1</td>\n",
              "      <td>0</td>\n",
              "      <td>1</td>\n",
              "    </tr>\n",
              "    <tr>\n",
              "      <th>...</th>\n",
              "      <td>...</td>\n",
              "      <td>...</td>\n",
              "      <td>...</td>\n",
              "      <td>...</td>\n",
              "      <td>...</td>\n",
              "      <td>...</td>\n",
              "      <td>...</td>\n",
              "      <td>...</td>\n",
              "      <td>...</td>\n",
              "    </tr>\n",
              "    <tr>\n",
              "      <th>1111</th>\n",
              "      <td>1112</td>\n",
              "      <td>5</td>\n",
              "      <td>2015-07-31</td>\n",
              "      <td>9626</td>\n",
              "      <td>767</td>\n",
              "      <td>1</td>\n",
              "      <td>1</td>\n",
              "      <td>0</td>\n",
              "      <td>1</td>\n",
              "    </tr>\n",
              "    <tr>\n",
              "      <th>1112</th>\n",
              "      <td>1113</td>\n",
              "      <td>5</td>\n",
              "      <td>2015-07-31</td>\n",
              "      <td>7289</td>\n",
              "      <td>720</td>\n",
              "      <td>1</td>\n",
              "      <td>1</td>\n",
              "      <td>0</td>\n",
              "      <td>1</td>\n",
              "    </tr>\n",
              "    <tr>\n",
              "      <th>1113</th>\n",
              "      <td>1114</td>\n",
              "      <td>5</td>\n",
              "      <td>2015-07-31</td>\n",
              "      <td>27508</td>\n",
              "      <td>3745</td>\n",
              "      <td>1</td>\n",
              "      <td>1</td>\n",
              "      <td>0</td>\n",
              "      <td>1</td>\n",
              "    </tr>\n",
              "    <tr>\n",
              "      <th>1114</th>\n",
              "      <td>1115</td>\n",
              "      <td>5</td>\n",
              "      <td>2015-07-31</td>\n",
              "      <td>8680</td>\n",
              "      <td>538</td>\n",
              "      <td>1</td>\n",
              "      <td>1</td>\n",
              "      <td>0</td>\n",
              "      <td>1</td>\n",
              "    </tr>\n",
              "    <tr>\n",
              "      <th>1115</th>\n",
              "      <td>1</td>\n",
              "      <td>4</td>\n",
              "      <td>2015-07-30</td>\n",
              "      <td>5020</td>\n",
              "      <td>546</td>\n",
              "      <td>1</td>\n",
              "      <td>1</td>\n",
              "      <td>0</td>\n",
              "      <td>1</td>\n",
              "    </tr>\n",
              "  </tbody>\n",
              "</table>\n",
              "<p>1116 rows × 9 columns</p>\n",
              "</div>\n",
              "      <button class=\"colab-df-convert\" onclick=\"convertToInteractive('df-5e1c13f2-1fb7-4987-ad04-06c9b18f8d0b')\"\n",
              "              title=\"Convert this dataframe to an interactive table.\"\n",
              "              style=\"display:none;\">\n",
              "        \n",
              "  <svg xmlns=\"http://www.w3.org/2000/svg\" height=\"24px\"viewBox=\"0 0 24 24\"\n",
              "       width=\"24px\">\n",
              "    <path d=\"M0 0h24v24H0V0z\" fill=\"none\"/>\n",
              "    <path d=\"M18.56 5.44l.94 2.06.94-2.06 2.06-.94-2.06-.94-.94-2.06-.94 2.06-2.06.94zm-11 1L8.5 8.5l.94-2.06 2.06-.94-2.06-.94L8.5 2.5l-.94 2.06-2.06.94zm10 10l.94 2.06.94-2.06 2.06-.94-2.06-.94-.94-2.06-.94 2.06-2.06.94z\"/><path d=\"M17.41 7.96l-1.37-1.37c-.4-.4-.92-.59-1.43-.59-.52 0-1.04.2-1.43.59L10.3 9.45l-7.72 7.72c-.78.78-.78 2.05 0 2.83L4 21.41c.39.39.9.59 1.41.59.51 0 1.02-.2 1.41-.59l7.78-7.78 2.81-2.81c.8-.78.8-2.07 0-2.86zM5.41 20L4 18.59l7.72-7.72 1.47 1.35L5.41 20z\"/>\n",
              "  </svg>\n",
              "      </button>\n",
              "      \n",
              "  <style>\n",
              "    .colab-df-container {\n",
              "      display:flex;\n",
              "      flex-wrap:wrap;\n",
              "      gap: 12px;\n",
              "    }\n",
              "\n",
              "    .colab-df-convert {\n",
              "      background-color: #E8F0FE;\n",
              "      border: none;\n",
              "      border-radius: 50%;\n",
              "      cursor: pointer;\n",
              "      display: none;\n",
              "      fill: #1967D2;\n",
              "      height: 32px;\n",
              "      padding: 0 0 0 0;\n",
              "      width: 32px;\n",
              "    }\n",
              "\n",
              "    .colab-df-convert:hover {\n",
              "      background-color: #E2EBFA;\n",
              "      box-shadow: 0px 1px 2px rgba(60, 64, 67, 0.3), 0px 1px 3px 1px rgba(60, 64, 67, 0.15);\n",
              "      fill: #174EA6;\n",
              "    }\n",
              "\n",
              "    [theme=dark] .colab-df-convert {\n",
              "      background-color: #3B4455;\n",
              "      fill: #D2E3FC;\n",
              "    }\n",
              "\n",
              "    [theme=dark] .colab-df-convert:hover {\n",
              "      background-color: #434B5C;\n",
              "      box-shadow: 0px 1px 3px 1px rgba(0, 0, 0, 0.15);\n",
              "      filter: drop-shadow(0px 1px 2px rgba(0, 0, 0, 0.3));\n",
              "      fill: #FFFFFF;\n",
              "    }\n",
              "  </style>\n",
              "\n",
              "      <script>\n",
              "        const buttonEl =\n",
              "          document.querySelector('#df-5e1c13f2-1fb7-4987-ad04-06c9b18f8d0b button.colab-df-convert');\n",
              "        buttonEl.style.display =\n",
              "          google.colab.kernel.accessAllowed ? 'block' : 'none';\n",
              "\n",
              "        async function convertToInteractive(key) {\n",
              "          const element = document.querySelector('#df-5e1c13f2-1fb7-4987-ad04-06c9b18f8d0b');\n",
              "          const dataTable =\n",
              "            await google.colab.kernel.invokeFunction('convertToInteractive',\n",
              "                                                     [key], {});\n",
              "          if (!dataTable) return;\n",
              "\n",
              "          const docLinkHtml = 'Like what you see? Visit the ' +\n",
              "            '<a target=\"_blank\" href=https://colab.research.google.com/notebooks/data_table.ipynb>data table notebook</a>'\n",
              "            + ' to learn more about interactive tables.';\n",
              "          element.innerHTML = '';\n",
              "          dataTable['output_type'] = 'display_data';\n",
              "          await google.colab.output.renderOutput(dataTable, element);\n",
              "          const docLink = document.createElement('div');\n",
              "          docLink.innerHTML = docLinkHtml;\n",
              "          element.appendChild(docLink);\n",
              "        }\n",
              "      </script>\n",
              "    </div>\n",
              "  </div>\n",
              "  "
            ],
            "text/plain": [
              "      Store  DayOfWeek        Date  ...  Promo  StateHoliday  SchoolHoliday\n",
              "0         1          5  2015-07-31  ...      1             0              1\n",
              "1         2          5  2015-07-31  ...      1             0              1\n",
              "2         3          5  2015-07-31  ...      1             0              1\n",
              "3         4          5  2015-07-31  ...      1             0              1\n",
              "4         5          5  2015-07-31  ...      1             0              1\n",
              "...     ...        ...         ...  ...    ...           ...            ...\n",
              "1111   1112          5  2015-07-31  ...      1             0              1\n",
              "1112   1113          5  2015-07-31  ...      1             0              1\n",
              "1113   1114          5  2015-07-31  ...      1             0              1\n",
              "1114   1115          5  2015-07-31  ...      1             0              1\n",
              "1115      1          4  2015-07-30  ...      1             0              1\n",
              "\n",
              "[1116 rows x 9 columns]"
            ]
          },
          "metadata": {},
          "execution_count": 60
        }
      ]
    },
    {
      "cell_type": "code",
      "source": [
        "df0.shape"
      ],
      "metadata": {
        "colab": {
          "base_uri": "https://localhost:8080/"
        },
        "id": "wqAdXd01PvjU",
        "outputId": "b1a126b8-3536-47a8-b004-01766507a0b3"
      },
      "execution_count": 44,
      "outputs": [
        {
          "output_type": "execute_result",
          "data": {
            "text/plain": [
              "(1017209, 9)"
            ]
          },
          "metadata": {},
          "execution_count": 44
        }
      ]
    },
    {
      "cell_type": "code",
      "source": [
        "df1.head()"
      ],
      "metadata": {
        "colab": {
          "base_uri": "https://localhost:8080/",
          "height": 282
        },
        "id": "mO_RD8ybKd4G",
        "outputId": "568ec930-9259-4934-d477-2f3680622cff"
      },
      "execution_count": 45,
      "outputs": [
        {
          "output_type": "execute_result",
          "data": {
            "text/html": [
              "\n",
              "  <div id=\"df-64d79f83-726b-4da8-b85d-0025f2476d17\">\n",
              "    <div class=\"colab-df-container\">\n",
              "      <div>\n",
              "<style scoped>\n",
              "    .dataframe tbody tr th:only-of-type {\n",
              "        vertical-align: middle;\n",
              "    }\n",
              "\n",
              "    .dataframe tbody tr th {\n",
              "        vertical-align: top;\n",
              "    }\n",
              "\n",
              "    .dataframe thead th {\n",
              "        text-align: right;\n",
              "    }\n",
              "</style>\n",
              "<table border=\"1\" class=\"dataframe\">\n",
              "  <thead>\n",
              "    <tr style=\"text-align: right;\">\n",
              "      <th></th>\n",
              "      <th>StoreType</th>\n",
              "      <th>Assortment</th>\n",
              "      <th>CompetitionDistance</th>\n",
              "      <th>CompetitionOpenSinceMonth</th>\n",
              "      <th>CompetitionOpenSinceYear</th>\n",
              "      <th>Promo2</th>\n",
              "      <th>Promo2SinceWeek</th>\n",
              "      <th>Promo2SinceYear</th>\n",
              "      <th>PromoInterval</th>\n",
              "    </tr>\n",
              "    <tr>\n",
              "      <th>Store</th>\n",
              "      <th></th>\n",
              "      <th></th>\n",
              "      <th></th>\n",
              "      <th></th>\n",
              "      <th></th>\n",
              "      <th></th>\n",
              "      <th></th>\n",
              "      <th></th>\n",
              "      <th></th>\n",
              "    </tr>\n",
              "  </thead>\n",
              "  <tbody>\n",
              "    <tr>\n",
              "      <th>1</th>\n",
              "      <td>c</td>\n",
              "      <td>a</td>\n",
              "      <td>1270.0</td>\n",
              "      <td>9.0</td>\n",
              "      <td>2008.0</td>\n",
              "      <td>0</td>\n",
              "      <td>NaN</td>\n",
              "      <td>NaN</td>\n",
              "      <td>NaN</td>\n",
              "    </tr>\n",
              "    <tr>\n",
              "      <th>2</th>\n",
              "      <td>a</td>\n",
              "      <td>a</td>\n",
              "      <td>570.0</td>\n",
              "      <td>11.0</td>\n",
              "      <td>2007.0</td>\n",
              "      <td>1</td>\n",
              "      <td>13.0</td>\n",
              "      <td>2010.0</td>\n",
              "      <td>Jan,Apr,Jul,Oct</td>\n",
              "    </tr>\n",
              "    <tr>\n",
              "      <th>3</th>\n",
              "      <td>a</td>\n",
              "      <td>a</td>\n",
              "      <td>14130.0</td>\n",
              "      <td>12.0</td>\n",
              "      <td>2006.0</td>\n",
              "      <td>1</td>\n",
              "      <td>14.0</td>\n",
              "      <td>2011.0</td>\n",
              "      <td>Jan,Apr,Jul,Oct</td>\n",
              "    </tr>\n",
              "    <tr>\n",
              "      <th>4</th>\n",
              "      <td>c</td>\n",
              "      <td>c</td>\n",
              "      <td>620.0</td>\n",
              "      <td>9.0</td>\n",
              "      <td>2009.0</td>\n",
              "      <td>0</td>\n",
              "      <td>NaN</td>\n",
              "      <td>NaN</td>\n",
              "      <td>NaN</td>\n",
              "    </tr>\n",
              "    <tr>\n",
              "      <th>5</th>\n",
              "      <td>a</td>\n",
              "      <td>a</td>\n",
              "      <td>29910.0</td>\n",
              "      <td>4.0</td>\n",
              "      <td>2015.0</td>\n",
              "      <td>0</td>\n",
              "      <td>NaN</td>\n",
              "      <td>NaN</td>\n",
              "      <td>NaN</td>\n",
              "    </tr>\n",
              "  </tbody>\n",
              "</table>\n",
              "</div>\n",
              "      <button class=\"colab-df-convert\" onclick=\"convertToInteractive('df-64d79f83-726b-4da8-b85d-0025f2476d17')\"\n",
              "              title=\"Convert this dataframe to an interactive table.\"\n",
              "              style=\"display:none;\">\n",
              "        \n",
              "  <svg xmlns=\"http://www.w3.org/2000/svg\" height=\"24px\"viewBox=\"0 0 24 24\"\n",
              "       width=\"24px\">\n",
              "    <path d=\"M0 0h24v24H0V0z\" fill=\"none\"/>\n",
              "    <path d=\"M18.56 5.44l.94 2.06.94-2.06 2.06-.94-2.06-.94-.94-2.06-.94 2.06-2.06.94zm-11 1L8.5 8.5l.94-2.06 2.06-.94-2.06-.94L8.5 2.5l-.94 2.06-2.06.94zm10 10l.94 2.06.94-2.06 2.06-.94-2.06-.94-.94-2.06-.94 2.06-2.06.94z\"/><path d=\"M17.41 7.96l-1.37-1.37c-.4-.4-.92-.59-1.43-.59-.52 0-1.04.2-1.43.59L10.3 9.45l-7.72 7.72c-.78.78-.78 2.05 0 2.83L4 21.41c.39.39.9.59 1.41.59.51 0 1.02-.2 1.41-.59l7.78-7.78 2.81-2.81c.8-.78.8-2.07 0-2.86zM5.41 20L4 18.59l7.72-7.72 1.47 1.35L5.41 20z\"/>\n",
              "  </svg>\n",
              "      </button>\n",
              "      \n",
              "  <style>\n",
              "    .colab-df-container {\n",
              "      display:flex;\n",
              "      flex-wrap:wrap;\n",
              "      gap: 12px;\n",
              "    }\n",
              "\n",
              "    .colab-df-convert {\n",
              "      background-color: #E8F0FE;\n",
              "      border: none;\n",
              "      border-radius: 50%;\n",
              "      cursor: pointer;\n",
              "      display: none;\n",
              "      fill: #1967D2;\n",
              "      height: 32px;\n",
              "      padding: 0 0 0 0;\n",
              "      width: 32px;\n",
              "    }\n",
              "\n",
              "    .colab-df-convert:hover {\n",
              "      background-color: #E2EBFA;\n",
              "      box-shadow: 0px 1px 2px rgba(60, 64, 67, 0.3), 0px 1px 3px 1px rgba(60, 64, 67, 0.15);\n",
              "      fill: #174EA6;\n",
              "    }\n",
              "\n",
              "    [theme=dark] .colab-df-convert {\n",
              "      background-color: #3B4455;\n",
              "      fill: #D2E3FC;\n",
              "    }\n",
              "\n",
              "    [theme=dark] .colab-df-convert:hover {\n",
              "      background-color: #434B5C;\n",
              "      box-shadow: 0px 1px 3px 1px rgba(0, 0, 0, 0.15);\n",
              "      filter: drop-shadow(0px 1px 2px rgba(0, 0, 0, 0.3));\n",
              "      fill: #FFFFFF;\n",
              "    }\n",
              "  </style>\n",
              "\n",
              "      <script>\n",
              "        const buttonEl =\n",
              "          document.querySelector('#df-64d79f83-726b-4da8-b85d-0025f2476d17 button.colab-df-convert');\n",
              "        buttonEl.style.display =\n",
              "          google.colab.kernel.accessAllowed ? 'block' : 'none';\n",
              "\n",
              "        async function convertToInteractive(key) {\n",
              "          const element = document.querySelector('#df-64d79f83-726b-4da8-b85d-0025f2476d17');\n",
              "          const dataTable =\n",
              "            await google.colab.kernel.invokeFunction('convertToInteractive',\n",
              "                                                     [key], {});\n",
              "          if (!dataTable) return;\n",
              "\n",
              "          const docLinkHtml = 'Like what you see? Visit the ' +\n",
              "            '<a target=\"_blank\" href=https://colab.research.google.com/notebooks/data_table.ipynb>data table notebook</a>'\n",
              "            + ' to learn more about interactive tables.';\n",
              "          element.innerHTML = '';\n",
              "          dataTable['output_type'] = 'display_data';\n",
              "          await google.colab.output.renderOutput(dataTable, element);\n",
              "          const docLink = document.createElement('div');\n",
              "          docLink.innerHTML = docLinkHtml;\n",
              "          element.appendChild(docLink);\n",
              "        }\n",
              "      </script>\n",
              "    </div>\n",
              "  </div>\n",
              "  "
            ],
            "text/plain": [
              "      StoreType Assortment  ...  Promo2SinceYear    PromoInterval\n",
              "Store                       ...                                  \n",
              "1             c          a  ...              NaN              NaN\n",
              "2             a          a  ...           2010.0  Jan,Apr,Jul,Oct\n",
              "3             a          a  ...           2011.0  Jan,Apr,Jul,Oct\n",
              "4             c          c  ...              NaN              NaN\n",
              "5             a          a  ...              NaN              NaN\n",
              "\n",
              "[5 rows x 9 columns]"
            ]
          },
          "metadata": {},
          "execution_count": 45
        }
      ]
    },
    {
      "cell_type": "code",
      "source": [
        ""
      ],
      "metadata": {
        "id": "3mGV4v-WQAFb"
      },
      "execution_count": 45,
      "outputs": []
    },
    {
      "cell_type": "code",
      "source": [
        "df0.info()\n",
        "print(\"\\n\")\n",
        "df1.info()"
      ],
      "metadata": {
        "id": "G782vIi2KnrI"
      },
      "execution_count": null,
      "outputs": []
    },
    {
      "cell_type": "code",
      "source": [
        "\n",
        "x=[]\n",
        "for i in df0:\n",
        "    x.append(i)   \n",
        "\n",
        "for k in x:\n",
        "    uni=df0[k].unique()\n",
        "    print(\"\\n\")\n",
        "    print(uni)\n",
        " \n"
      ],
      "metadata": {
        "colab": {
          "base_uri": "https://localhost:8080/"
        },
        "id": "Y2G5WGxGLYKM",
        "outputId": "98ba9370-4428-4f6d-cf72-e987467969ed"
      },
      "execution_count": 79,
      "outputs": [
        {
          "output_type": "stream",
          "name": "stdout",
          "text": [
            "\n",
            "\n",
            "[   1    2    3 ... 1113 1114 1115]\n",
            "\n",
            "\n",
            "[5 4 3 2 1 7 6]\n",
            "\n",
            "\n",
            "['2015-07-31' '2015-07-30' '2015-07-29' '2015-07-28' '2015-07-27'\n",
            " '2015-07-26' '2015-07-25' '2015-07-24' '2015-07-23' '2015-07-22'\n",
            " '2015-07-21' '2015-07-20' '2015-07-19' '2015-07-18' '2015-07-17'\n",
            " '2015-07-16' '2015-07-15' '2015-07-14' '2015-07-13' '2015-07-12'\n",
            " '2015-07-11' '2015-07-10' '2015-07-09' '2015-07-08' '2015-07-07'\n",
            " '2015-07-06' '2015-07-05' '2015-07-04' '2015-07-03' '2015-07-02'\n",
            " '2015-07-01' '2015-06-30' '2015-06-29' '2015-06-28' '2015-06-27'\n",
            " '2015-06-26' '2015-06-25' '2015-06-24' '2015-06-23' '2015-06-22'\n",
            " '2015-06-21' '2015-06-20' '2015-06-19' '2015-06-18' '2015-06-17'\n",
            " '2015-06-16' '2015-06-15' '2015-06-14' '2015-06-13' '2015-06-12'\n",
            " '2015-06-11' '2015-06-10' '2015-06-09' '2015-06-08' '2015-06-07'\n",
            " '2015-06-06' '2015-06-05' '2015-06-04' '2015-06-03' '2015-06-02'\n",
            " '2015-06-01' '2015-05-31' '2015-05-30' '2015-05-29' '2015-05-28'\n",
            " '2015-05-27' '2015-05-26' '2015-05-25' '2015-05-24' '2015-05-23'\n",
            " '2015-05-22' '2015-05-21' '2015-05-20' '2015-05-19' '2015-05-18'\n",
            " '2015-05-17' '2015-05-16' '2015-05-15' '2015-05-14' '2015-05-13'\n",
            " '2015-05-12' '2015-05-11' '2015-05-10' '2015-05-09' '2015-05-08'\n",
            " '2015-05-07' '2015-05-06' '2015-05-05' '2015-05-04' '2015-05-03'\n",
            " '2015-05-02' '2015-05-01' '2015-04-30' '2015-04-29' '2015-04-28'\n",
            " '2015-04-27' '2015-04-26' '2015-04-25' '2015-04-24' '2015-04-23'\n",
            " '2015-04-22' '2015-04-21' '2015-04-20' '2015-04-19' '2015-04-18'\n",
            " '2015-04-17' '2015-04-16' '2015-04-15' '2015-04-14' '2015-04-13'\n",
            " '2015-04-12' '2015-04-11' '2015-04-10' '2015-04-09' '2015-04-08'\n",
            " '2015-04-07' '2015-04-06' '2015-04-05' '2015-04-04' '2015-04-03'\n",
            " '2015-04-02' '2015-04-01' '2015-03-31' '2015-03-30' '2015-03-29'\n",
            " '2015-03-28' '2015-03-27' '2015-03-26' '2015-03-25' '2015-03-24'\n",
            " '2015-03-23' '2015-03-22' '2015-03-21' '2015-03-20' '2015-03-19'\n",
            " '2015-03-18' '2015-03-17' '2015-03-16' '2015-03-15' '2015-03-14'\n",
            " '2015-03-13' '2015-03-12' '2015-03-11' '2015-03-10' '2015-03-09'\n",
            " '2015-03-08' '2015-03-07' '2015-03-06' '2015-03-05' '2015-03-04'\n",
            " '2015-03-03' '2015-03-02' '2015-03-01' '2015-02-28' '2015-02-27'\n",
            " '2015-02-26' '2015-02-25' '2015-02-24' '2015-02-23' '2015-02-22'\n",
            " '2015-02-21' '2015-02-20' '2015-02-19' '2015-02-18' '2015-02-17'\n",
            " '2015-02-16' '2015-02-15' '2015-02-14' '2015-02-13' '2015-02-12'\n",
            " '2015-02-11' '2015-02-10' '2015-02-09' '2015-02-08' '2015-02-07'\n",
            " '2015-02-06' '2015-02-05' '2015-02-04' '2015-02-03' '2015-02-02'\n",
            " '2015-02-01' '2015-01-31' '2015-01-30' '2015-01-29' '2015-01-28'\n",
            " '2015-01-27' '2015-01-26' '2015-01-25' '2015-01-24' '2015-01-23'\n",
            " '2015-01-22' '2015-01-21' '2015-01-20' '2015-01-19' '2015-01-18'\n",
            " '2015-01-17' '2015-01-16' '2015-01-15' '2015-01-14' '2015-01-13'\n",
            " '2015-01-12' '2015-01-11' '2015-01-10' '2015-01-09' '2015-01-08'\n",
            " '2015-01-07' '2015-01-06' '2015-01-05' '2015-01-04' '2015-01-03'\n",
            " '2015-01-02' '2015-01-01' '2014-12-31' '2014-12-30' '2014-12-29'\n",
            " '2014-12-28' '2014-12-27' '2014-12-26' '2014-12-25' '2014-12-24'\n",
            " '2014-12-23' '2014-12-22' '2014-12-21' '2014-12-20' '2014-12-19'\n",
            " '2014-12-18' '2014-12-17' '2014-12-16' '2014-12-15' '2014-12-14'\n",
            " '2014-12-13' '2014-12-12' '2014-12-11' '2014-12-10' '2014-12-09'\n",
            " '2014-12-08' '2014-12-07' '2014-12-06' '2014-12-05' '2014-12-04'\n",
            " '2014-12-03' '2014-12-02' '2014-12-01' '2014-11-30' '2014-11-29'\n",
            " '2014-11-28' '2014-11-27' '2014-11-26' '2014-11-25' '2014-11-24'\n",
            " '2014-11-23' '2014-11-22' '2014-11-21' '2014-11-20' '2014-11-19'\n",
            " '2014-11-18' '2014-11-17' '2014-11-16' '2014-11-15' '2014-11-14'\n",
            " '2014-11-13' '2014-11-12' '2014-11-11' '2014-11-10' '2014-11-09'\n",
            " '2014-11-08' '2014-11-07' '2014-11-06' '2014-11-05' '2014-11-04'\n",
            " '2014-11-03' '2014-11-02' '2014-11-01' '2014-10-31' '2014-10-30'\n",
            " '2014-10-29' '2014-10-28' '2014-10-27' '2014-10-26' '2014-10-25'\n",
            " '2014-10-24' '2014-10-23' '2014-10-22' '2014-10-21' '2014-10-20'\n",
            " '2014-10-19' '2014-10-18' '2014-10-17' '2014-10-16' '2014-10-15'\n",
            " '2014-10-14' '2014-10-13' '2014-10-12' '2014-10-11' '2014-10-10'\n",
            " '2014-10-09' '2014-10-08' '2014-10-07' '2014-10-06' '2014-10-05'\n",
            " '2014-10-04' '2014-10-03' '2014-10-02' '2014-10-01' '2014-09-30'\n",
            " '2014-09-29' '2014-09-28' '2014-09-27' '2014-09-26' '2014-09-25'\n",
            " '2014-09-24' '2014-09-23' '2014-09-22' '2014-09-21' '2014-09-20'\n",
            " '2014-09-19' '2014-09-18' '2014-09-17' '2014-09-16' '2014-09-15'\n",
            " '2014-09-14' '2014-09-13' '2014-09-12' '2014-09-11' '2014-09-10'\n",
            " '2014-09-09' '2014-09-08' '2014-09-07' '2014-09-06' '2014-09-05'\n",
            " '2014-09-04' '2014-09-03' '2014-09-02' '2014-09-01' '2014-08-31'\n",
            " '2014-08-30' '2014-08-29' '2014-08-28' '2014-08-27' '2014-08-26'\n",
            " '2014-08-25' '2014-08-24' '2014-08-23' '2014-08-22' '2014-08-21'\n",
            " '2014-08-20' '2014-08-19' '2014-08-18' '2014-08-17' '2014-08-16'\n",
            " '2014-08-15' '2014-08-14' '2014-08-13' '2014-08-12' '2014-08-11'\n",
            " '2014-08-10' '2014-08-09' '2014-08-08' '2014-08-07' '2014-08-06'\n",
            " '2014-08-05' '2014-08-04' '2014-08-03' '2014-08-02' '2014-08-01'\n",
            " '2014-07-31' '2014-07-30' '2014-07-29' '2014-07-28' '2014-07-27'\n",
            " '2014-07-26' '2014-07-25' '2014-07-24' '2014-07-23' '2014-07-22'\n",
            " '2014-07-21' '2014-07-20' '2014-07-19' '2014-07-18' '2014-07-17'\n",
            " '2014-07-16' '2014-07-15' '2014-07-14' '2014-07-13' '2014-07-12'\n",
            " '2014-07-11' '2014-07-10' '2014-07-09' '2014-07-08' '2014-07-07'\n",
            " '2014-07-06' '2014-07-05' '2014-07-04' '2014-07-03' '2014-07-02'\n",
            " '2014-07-01' '2014-06-30' '2014-06-29' '2014-06-28' '2014-06-27'\n",
            " '2014-06-26' '2014-06-25' '2014-06-24' '2014-06-23' '2014-06-22'\n",
            " '2014-06-21' '2014-06-20' '2014-06-19' '2014-06-18' '2014-06-17'\n",
            " '2014-06-16' '2014-06-15' '2014-06-14' '2014-06-13' '2014-06-12'\n",
            " '2014-06-11' '2014-06-10' '2014-06-09' '2014-06-08' '2014-06-07'\n",
            " '2014-06-06' '2014-06-05' '2014-06-04' '2014-06-03' '2014-06-02'\n",
            " '2014-06-01' '2014-05-31' '2014-05-30' '2014-05-29' '2014-05-28'\n",
            " '2014-05-27' '2014-05-26' '2014-05-25' '2014-05-24' '2014-05-23'\n",
            " '2014-05-22' '2014-05-21' '2014-05-20' '2014-05-19' '2014-05-18'\n",
            " '2014-05-17' '2014-05-16' '2014-05-15' '2014-05-14' '2014-05-13'\n",
            " '2014-05-12' '2014-05-11' '2014-05-10' '2014-05-09' '2014-05-08'\n",
            " '2014-05-07' '2014-05-06' '2014-05-05' '2014-05-04' '2014-05-03'\n",
            " '2014-05-02' '2014-05-01' '2014-04-30' '2014-04-29' '2014-04-28'\n",
            " '2014-04-27' '2014-04-26' '2014-04-25' '2014-04-24' '2014-04-23'\n",
            " '2014-04-22' '2014-04-21' '2014-04-20' '2014-04-19' '2014-04-18'\n",
            " '2014-04-17' '2014-04-16' '2014-04-15' '2014-04-14' '2014-04-13'\n",
            " '2014-04-12' '2014-04-11' '2014-04-10' '2014-04-09' '2014-04-08'\n",
            " '2014-04-07' '2014-04-06' '2014-04-05' '2014-04-04' '2014-04-03'\n",
            " '2014-04-02' '2014-04-01' '2014-03-31' '2014-03-30' '2014-03-29'\n",
            " '2014-03-28' '2014-03-27' '2014-03-26' '2014-03-25' '2014-03-24'\n",
            " '2014-03-23' '2014-03-22' '2014-03-21' '2014-03-20' '2014-03-19'\n",
            " '2014-03-18' '2014-03-17' '2014-03-16' '2014-03-15' '2014-03-14'\n",
            " '2014-03-13' '2014-03-12' '2014-03-11' '2014-03-10' '2014-03-09'\n",
            " '2014-03-08' '2014-03-07' '2014-03-06' '2014-03-05' '2014-03-04'\n",
            " '2014-03-03' '2014-03-02' '2014-03-01' '2014-02-28' '2014-02-27'\n",
            " '2014-02-26' '2014-02-25' '2014-02-24' '2014-02-23' '2014-02-22'\n",
            " '2014-02-21' '2014-02-20' '2014-02-19' '2014-02-18' '2014-02-17'\n",
            " '2014-02-16' '2014-02-15' '2014-02-14' '2014-02-13' '2014-02-12'\n",
            " '2014-02-11' '2014-02-10' '2014-02-09' '2014-02-08' '2014-02-07'\n",
            " '2014-02-06' '2014-02-05' '2014-02-04' '2014-02-03' '2014-02-02'\n",
            " '2014-02-01' '2014-01-31' '2014-01-30' '2014-01-29' '2014-01-28'\n",
            " '2014-01-27' '2014-01-26' '2014-01-25' '2014-01-24' '2014-01-23'\n",
            " '2014-01-22' '2014-01-21' '2014-01-20' '2014-01-19' '2014-01-18'\n",
            " '2014-01-17' '2014-01-16' '2014-01-15' '2014-01-14' '2014-01-13'\n",
            " '2014-01-12' '2014-01-11' '2014-01-10' '2014-01-09' '2014-01-08'\n",
            " '2014-01-07' '2014-01-06' '2014-01-05' '2014-01-04' '2014-01-03'\n",
            " '2014-01-02' '2014-01-01' '2013-12-31' '2013-12-30' '2013-12-29'\n",
            " '2013-12-28' '2013-12-27' '2013-12-26' '2013-12-25' '2013-12-24'\n",
            " '2013-12-23' '2013-12-22' '2013-12-21' '2013-12-20' '2013-12-19'\n",
            " '2013-12-18' '2013-12-17' '2013-12-16' '2013-12-15' '2013-12-14'\n",
            " '2013-12-13' '2013-12-12' '2013-12-11' '2013-12-10' '2013-12-09'\n",
            " '2013-12-08' '2013-12-07' '2013-12-06' '2013-12-05' '2013-12-04'\n",
            " '2013-12-03' '2013-12-02' '2013-12-01' '2013-11-30' '2013-11-29'\n",
            " '2013-11-28' '2013-11-27' '2013-11-26' '2013-11-25' '2013-11-24'\n",
            " '2013-11-23' '2013-11-22' '2013-11-21' '2013-11-20' '2013-11-19'\n",
            " '2013-11-18' '2013-11-17' '2013-11-16' '2013-11-15' '2013-11-14'\n",
            " '2013-11-13' '2013-11-12' '2013-11-11' '2013-11-10' '2013-11-09'\n",
            " '2013-11-08' '2013-11-07' '2013-11-06' '2013-11-05' '2013-11-04'\n",
            " '2013-11-03' '2013-11-02' '2013-11-01' '2013-10-31' '2013-10-30'\n",
            " '2013-10-29' '2013-10-28' '2013-10-27' '2013-10-26' '2013-10-25'\n",
            " '2013-10-24' '2013-10-23' '2013-10-22' '2013-10-21' '2013-10-20'\n",
            " '2013-10-19' '2013-10-18' '2013-10-17' '2013-10-16' '2013-10-15'\n",
            " '2013-10-14' '2013-10-13' '2013-10-12' '2013-10-11' '2013-10-10'\n",
            " '2013-10-09' '2013-10-08' '2013-10-07' '2013-10-06' '2013-10-05'\n",
            " '2013-10-04' '2013-10-03' '2013-10-02' '2013-10-01' '2013-09-30'\n",
            " '2013-09-29' '2013-09-28' '2013-09-27' '2013-09-26' '2013-09-25'\n",
            " '2013-09-24' '2013-09-23' '2013-09-22' '2013-09-21' '2013-09-20'\n",
            " '2013-09-19' '2013-09-18' '2013-09-17' '2013-09-16' '2013-09-15'\n",
            " '2013-09-14' '2013-09-13' '2013-09-12' '2013-09-11' '2013-09-10'\n",
            " '2013-09-09' '2013-09-08' '2013-09-07' '2013-09-06' '2013-09-05'\n",
            " '2013-09-04' '2013-09-03' '2013-09-02' '2013-09-01' '2013-08-31'\n",
            " '2013-08-30' '2013-08-29' '2013-08-28' '2013-08-27' '2013-08-26'\n",
            " '2013-08-25' '2013-08-24' '2013-08-23' '2013-08-22' '2013-08-21'\n",
            " '2013-08-20' '2013-08-19' '2013-08-18' '2013-08-17' '2013-08-16'\n",
            " '2013-08-15' '2013-08-14' '2013-08-13' '2013-08-12' '2013-08-11'\n",
            " '2013-08-10' '2013-08-09' '2013-08-08' '2013-08-07' '2013-08-06'\n",
            " '2013-08-05' '2013-08-04' '2013-08-03' '2013-08-02' '2013-08-01'\n",
            " '2013-07-31' '2013-07-30' '2013-07-29' '2013-07-28' '2013-07-27'\n",
            " '2013-07-26' '2013-07-25' '2013-07-24' '2013-07-23' '2013-07-22'\n",
            " '2013-07-21' '2013-07-20' '2013-07-19' '2013-07-18' '2013-07-17'\n",
            " '2013-07-16' '2013-07-15' '2013-07-14' '2013-07-13' '2013-07-12'\n",
            " '2013-07-11' '2013-07-10' '2013-07-09' '2013-07-08' '2013-07-07'\n",
            " '2013-07-06' '2013-07-05' '2013-07-04' '2013-07-03' '2013-07-02'\n",
            " '2013-07-01' '2013-06-30' '2013-06-29' '2013-06-28' '2013-06-27'\n",
            " '2013-06-26' '2013-06-25' '2013-06-24' '2013-06-23' '2013-06-22'\n",
            " '2013-06-21' '2013-06-20' '2013-06-19' '2013-06-18' '2013-06-17'\n",
            " '2013-06-16' '2013-06-15' '2013-06-14' '2013-06-13' '2013-06-12'\n",
            " '2013-06-11' '2013-06-10' '2013-06-09' '2013-06-08' '2013-06-07'\n",
            " '2013-06-06' '2013-06-05' '2013-06-04' '2013-06-03' '2013-06-02'\n",
            " '2013-06-01' '2013-05-31' '2013-05-30' '2013-05-29' '2013-05-28'\n",
            " '2013-05-27' '2013-05-26' '2013-05-25' '2013-05-24' '2013-05-23'\n",
            " '2013-05-22' '2013-05-21' '2013-05-20' '2013-05-19' '2013-05-18'\n",
            " '2013-05-17' '2013-05-16' '2013-05-15' '2013-05-14' '2013-05-13'\n",
            " '2013-05-12' '2013-05-11' '2013-05-10' '2013-05-09' '2013-05-08'\n",
            " '2013-05-07' '2013-05-06' '2013-05-05' '2013-05-04' '2013-05-03'\n",
            " '2013-05-02' '2013-05-01' '2013-04-30' '2013-04-29' '2013-04-28'\n",
            " '2013-04-27' '2013-04-26' '2013-04-25' '2013-04-24' '2013-04-23'\n",
            " '2013-04-22' '2013-04-21' '2013-04-20' '2013-04-19' '2013-04-18'\n",
            " '2013-04-17' '2013-04-16' '2013-04-15' '2013-04-14' '2013-04-13'\n",
            " '2013-04-12' '2013-04-11' '2013-04-10' '2013-04-09' '2013-04-08'\n",
            " '2013-04-07' '2013-04-06' '2013-04-05' '2013-04-04' '2013-04-03'\n",
            " '2013-04-02' '2013-04-01' '2013-03-31' '2013-03-30' '2013-03-29'\n",
            " '2013-03-28' '2013-03-27' '2013-03-26' '2013-03-25' '2013-03-24'\n",
            " '2013-03-23' '2013-03-22' '2013-03-21' '2013-03-20' '2013-03-19'\n",
            " '2013-03-18' '2013-03-17' '2013-03-16' '2013-03-15' '2013-03-14'\n",
            " '2013-03-13' '2013-03-12' '2013-03-11' '2013-03-10' '2013-03-09'\n",
            " '2013-03-08' '2013-03-07' '2013-03-06' '2013-03-05' '2013-03-04'\n",
            " '2013-03-03' '2013-03-02' '2013-03-01' '2013-02-28' '2013-02-27'\n",
            " '2013-02-26' '2013-02-25' '2013-02-24' '2013-02-23' '2013-02-22'\n",
            " '2013-02-21' '2013-02-20' '2013-02-19' '2013-02-18' '2013-02-17'\n",
            " '2013-02-16' '2013-02-15' '2013-02-14' '2013-02-13' '2013-02-12'\n",
            " '2013-02-11' '2013-02-10' '2013-02-09' '2013-02-08' '2013-02-07'\n",
            " '2013-02-06' '2013-02-05' '2013-02-04' '2013-02-03' '2013-02-02'\n",
            " '2013-02-01' '2013-01-31' '2013-01-30' '2013-01-29' '2013-01-28'\n",
            " '2013-01-27' '2013-01-26' '2013-01-25' '2013-01-24' '2013-01-23'\n",
            " '2013-01-22' '2013-01-21' '2013-01-20' '2013-01-19' '2013-01-18'\n",
            " '2013-01-17' '2013-01-16' '2013-01-15' '2013-01-14' '2013-01-13'\n",
            " '2013-01-12' '2013-01-11' '2013-01-10' '2013-01-09' '2013-01-08'\n",
            " '2013-01-07' '2013-01-06' '2013-01-05' '2013-01-04' '2013-01-03'\n",
            " '2013-01-02' '2013-01-01']\n",
            "\n",
            "\n",
            "[ 5263  6064  8314 ...   660 17815 23303]\n",
            "\n",
            "\n",
            "[ 555  625  821 ... 3900   36 4065]\n",
            "\n",
            "\n",
            "[1 0]\n",
            "\n",
            "\n",
            "[1 0]\n",
            "\n",
            "\n",
            "['0' 'a' 'b' 'c' 0]\n",
            "\n",
            "\n",
            "[1 0]\n"
          ]
        }
      ]
    },
    {
      "cell_type": "code",
      "source": [
        "for j in x:\n",
        "  val=df0[j].value_counts()\n",
        "  print(\"\\n\")\n",
        "  print(val)\n",
        "  "
      ],
      "metadata": {
        "colab": {
          "base_uri": "https://localhost:8080/"
        },
        "id": "G0sA2TU98-cv",
        "outputId": "e0f4959f-dfda-49b5-a069-9f6d67168897"
      },
      "execution_count": 81,
      "outputs": [
        {
          "output_type": "stream",
          "name": "stdout",
          "text": [
            "\n",
            "\n",
            "1      942\n",
            "726    942\n",
            "708    942\n",
            "709    942\n",
            "713    942\n",
            "      ... \n",
            "159    758\n",
            "637    758\n",
            "636    758\n",
            "633    758\n",
            "155    758\n",
            "Name: Store, Length: 1115, dtype: int64\n",
            "\n",
            "\n",
            "5    145845\n",
            "4    145845\n",
            "3    145665\n",
            "2    145664\n",
            "1    144730\n",
            "7    144730\n",
            "6    144730\n",
            "Name: DayOfWeek, dtype: int64\n",
            "\n",
            "\n",
            "2015-07-31    1115\n",
            "2013-11-06    1115\n",
            "2013-11-18    1115\n",
            "2013-11-17    1115\n",
            "2013-11-16    1115\n",
            "              ... \n",
            "2014-10-28     935\n",
            "2014-10-27     935\n",
            "2014-10-26     935\n",
            "2014-10-25     935\n",
            "2014-12-08     935\n",
            "Name: Date, Length: 942, dtype: int64\n",
            "\n",
            "\n",
            "0        172871\n",
            "5674        215\n",
            "5558        197\n",
            "5483        196\n",
            "6214        195\n",
            "          ...  \n",
            "23806         1\n",
            "24183         1\n",
            "20651         1\n",
            "25083         1\n",
            "23303         1\n",
            "Name: Sales, Length: 21734, dtype: int64\n",
            "\n",
            "\n",
            "0       172869\n",
            "560       2414\n",
            "576       2363\n",
            "603       2337\n",
            "571       2330\n",
            "         ...  \n",
            "4815         1\n",
            "3998         1\n",
            "4210         1\n",
            "4920         1\n",
            "4065         1\n",
            "Name: Customers, Length: 4086, dtype: int64\n",
            "\n",
            "\n",
            "1    844392\n",
            "0    172817\n",
            "Name: Open, dtype: int64\n",
            "\n",
            "\n",
            "0    629129\n",
            "1    388080\n",
            "Name: Promo, dtype: int64\n",
            "\n",
            "\n",
            "0    855087\n",
            "0    131072\n",
            "a     20260\n",
            "b      6690\n",
            "c      4100\n",
            "Name: StateHoliday, dtype: int64\n",
            "\n",
            "\n",
            "0    835488\n",
            "1    181721\n",
            "Name: SchoolHoliday, dtype: int64\n"
          ]
        }
      ]
    },
    {
      "cell_type": "code",
      "source": [
        "Sales_on_Dayofweek=df0.groupby(['DayOfWeek'])[['Sales']].sum()\n",
        "Sales_on_Dayofweek"
      ],
      "metadata": {
        "colab": {
          "base_uri": "https://localhost:8080/",
          "height": 300
        },
        "id": "9tH6URr-pROB",
        "outputId": "c7c5a31e-21a4-44b9-f401-b75a32817668"
      },
      "execution_count": 102,
      "outputs": [
        {
          "output_type": "execute_result",
          "data": {
            "text/html": [
              "\n",
              "  <div id=\"df-c500886d-98c8-4b48-aa36-8cb35e715d0f\">\n",
              "    <div class=\"colab-df-container\">\n",
              "      <div>\n",
              "<style scoped>\n",
              "    .dataframe tbody tr th:only-of-type {\n",
              "        vertical-align: middle;\n",
              "    }\n",
              "\n",
              "    .dataframe tbody tr th {\n",
              "        vertical-align: top;\n",
              "    }\n",
              "\n",
              "    .dataframe thead th {\n",
              "        text-align: right;\n",
              "    }\n",
              "</style>\n",
              "<table border=\"1\" class=\"dataframe\">\n",
              "  <thead>\n",
              "    <tr style=\"text-align: right;\">\n",
              "      <th></th>\n",
              "      <th>Sales</th>\n",
              "    </tr>\n",
              "    <tr>\n",
              "      <th>DayOfWeek</th>\n",
              "      <th></th>\n",
              "    </tr>\n",
              "  </thead>\n",
              "  <tbody>\n",
              "    <tr>\n",
              "      <th>1</th>\n",
              "      <td>1130203012</td>\n",
              "    </tr>\n",
              "    <tr>\n",
              "      <th>2</th>\n",
              "      <td>1020411930</td>\n",
              "    </tr>\n",
              "    <tr>\n",
              "      <th>3</th>\n",
              "      <td>954962863</td>\n",
              "    </tr>\n",
              "    <tr>\n",
              "      <th>4</th>\n",
              "      <td>911177709</td>\n",
              "    </tr>\n",
              "    <tr>\n",
              "      <th>5</th>\n",
              "      <td>980555941</td>\n",
              "    </tr>\n",
              "    <tr>\n",
              "      <th>6</th>\n",
              "      <td>846317735</td>\n",
              "    </tr>\n",
              "    <tr>\n",
              "      <th>7</th>\n",
              "      <td>29551433</td>\n",
              "    </tr>\n",
              "  </tbody>\n",
              "</table>\n",
              "</div>\n",
              "      <button class=\"colab-df-convert\" onclick=\"convertToInteractive('df-c500886d-98c8-4b48-aa36-8cb35e715d0f')\"\n",
              "              title=\"Convert this dataframe to an interactive table.\"\n",
              "              style=\"display:none;\">\n",
              "        \n",
              "  <svg xmlns=\"http://www.w3.org/2000/svg\" height=\"24px\"viewBox=\"0 0 24 24\"\n",
              "       width=\"24px\">\n",
              "    <path d=\"M0 0h24v24H0V0z\" fill=\"none\"/>\n",
              "    <path d=\"M18.56 5.44l.94 2.06.94-2.06 2.06-.94-2.06-.94-.94-2.06-.94 2.06-2.06.94zm-11 1L8.5 8.5l.94-2.06 2.06-.94-2.06-.94L8.5 2.5l-.94 2.06-2.06.94zm10 10l.94 2.06.94-2.06 2.06-.94-2.06-.94-.94-2.06-.94 2.06-2.06.94z\"/><path d=\"M17.41 7.96l-1.37-1.37c-.4-.4-.92-.59-1.43-.59-.52 0-1.04.2-1.43.59L10.3 9.45l-7.72 7.72c-.78.78-.78 2.05 0 2.83L4 21.41c.39.39.9.59 1.41.59.51 0 1.02-.2 1.41-.59l7.78-7.78 2.81-2.81c.8-.78.8-2.07 0-2.86zM5.41 20L4 18.59l7.72-7.72 1.47 1.35L5.41 20z\"/>\n",
              "  </svg>\n",
              "      </button>\n",
              "      \n",
              "  <style>\n",
              "    .colab-df-container {\n",
              "      display:flex;\n",
              "      flex-wrap:wrap;\n",
              "      gap: 12px;\n",
              "    }\n",
              "\n",
              "    .colab-df-convert {\n",
              "      background-color: #E8F0FE;\n",
              "      border: none;\n",
              "      border-radius: 50%;\n",
              "      cursor: pointer;\n",
              "      display: none;\n",
              "      fill: #1967D2;\n",
              "      height: 32px;\n",
              "      padding: 0 0 0 0;\n",
              "      width: 32px;\n",
              "    }\n",
              "\n",
              "    .colab-df-convert:hover {\n",
              "      background-color: #E2EBFA;\n",
              "      box-shadow: 0px 1px 2px rgba(60, 64, 67, 0.3), 0px 1px 3px 1px rgba(60, 64, 67, 0.15);\n",
              "      fill: #174EA6;\n",
              "    }\n",
              "\n",
              "    [theme=dark] .colab-df-convert {\n",
              "      background-color: #3B4455;\n",
              "      fill: #D2E3FC;\n",
              "    }\n",
              "\n",
              "    [theme=dark] .colab-df-convert:hover {\n",
              "      background-color: #434B5C;\n",
              "      box-shadow: 0px 1px 3px 1px rgba(0, 0, 0, 0.15);\n",
              "      filter: drop-shadow(0px 1px 2px rgba(0, 0, 0, 0.3));\n",
              "      fill: #FFFFFF;\n",
              "    }\n",
              "  </style>\n",
              "\n",
              "      <script>\n",
              "        const buttonEl =\n",
              "          document.querySelector('#df-c500886d-98c8-4b48-aa36-8cb35e715d0f button.colab-df-convert');\n",
              "        buttonEl.style.display =\n",
              "          google.colab.kernel.accessAllowed ? 'block' : 'none';\n",
              "\n",
              "        async function convertToInteractive(key) {\n",
              "          const element = document.querySelector('#df-c500886d-98c8-4b48-aa36-8cb35e715d0f');\n",
              "          const dataTable =\n",
              "            await google.colab.kernel.invokeFunction('convertToInteractive',\n",
              "                                                     [key], {});\n",
              "          if (!dataTable) return;\n",
              "\n",
              "          const docLinkHtml = 'Like what you see? Visit the ' +\n",
              "            '<a target=\"_blank\" href=https://colab.research.google.com/notebooks/data_table.ipynb>data table notebook</a>'\n",
              "            + ' to learn more about interactive tables.';\n",
              "          element.innerHTML = '';\n",
              "          dataTable['output_type'] = 'display_data';\n",
              "          await google.colab.output.renderOutput(dataTable, element);\n",
              "          const docLink = document.createElement('div');\n",
              "          docLink.innerHTML = docLinkHtml;\n",
              "          element.appendChild(docLink);\n",
              "        }\n",
              "      </script>\n",
              "    </div>\n",
              "  </div>\n",
              "  "
            ],
            "text/plain": [
              "                Sales\n",
              "DayOfWeek            \n",
              "1          1130203012\n",
              "2          1020411930\n",
              "3           954962863\n",
              "4           911177709\n",
              "5           980555941\n",
              "6           846317735\n",
              "7            29551433"
            ]
          },
          "metadata": {},
          "execution_count": 102
        }
      ]
    },
    {
      "cell_type": "code",
      "source": [
        "sns.barplot(x = 'Promo',\n",
        "            y = 'Sales',\n",
        "            data = df0)\n",
        " \n",
        "# Show the plot\n",
        "plt.show()"
      ],
      "metadata": {
        "colab": {
          "base_uri": "https://localhost:8080/",
          "height": 279
        },
        "id": "S70-FJse_qru",
        "outputId": "057ec29d-c6fd-4a29-f81b-9756d76c4701"
      },
      "execution_count": 82,
      "outputs": [
        {
          "output_type": "display_data",
          "data": {
            "image/png": "[encoded data removed]",
            "text/plain": [
              "<Figure size 432x288 with 1 Axes>"
            ]
          },
          "metadata": {}
        }
      ]
    },
    {
      "cell_type": "code",
      "source": [
        "sns.barplot(x = 'DayOfWeek',\n",
        "            y = 'Sales',\n",
        "            data = df0)\n",
        " \n",
        "# Show the plot\n",
        "plt.show()"
      ],
      "metadata": {
        "colab": {
          "base_uri": "https://localhost:8080/",
          "height": 279
        },
        "id": "eCwC6MDQHfF2",
        "outputId": "d0e0c673-bc7f-4729-a3d4-ed5864f9e6a9"
      },
      "execution_count": 84,
      "outputs": [
        {
          "output_type": "display_data",
          "data": {
            "image/png": "[encoded data removed]",
            "text/plain": [
              "<Figure size 432x288 with 1 Axes>"
            ]
          },
          "metadata": {}
        }
      ]
    },
    {
      "cell_type": "code",
      "source": [
        "sns.barplot(x = 'Open',\n",
        "            y = 'Sales',\n",
        "            data = df0)\n",
        " \n",
        "# Show the plot\n",
        "plt.show()"
      ],
      "metadata": {
        "colab": {
          "base_uri": "https://localhost:8080/",
          "height": 279
        },
        "id": "7hph8456Heza",
        "outputId": "22690e7e-4bd3-40f2-d3ab-8347f73265b2"
      },
      "execution_count": 83,
      "outputs": [
        {
          "output_type": "display_data",
          "data": {
            "image/png": "[encoded data removed]",
            "text/plain": [
              "<Figure size 432x288 with 1 Axes>"
            ]
          },
          "metadata": {}
        }
      ]
    },
    {
      "cell_type": "code",
      "source": [
        "plt.subplots(figsize=(15,8));\n",
        "sns.scatterplot(df0[\"Sales\"],df0[\"Customers\"],data=df0)\n",
        "plt.title('Sales vs Customer',fontsize=18)\n",
        "plt.grid(False)\n",
        "plt.xlabel(\"Sales\",fontsize=12)\n",
        "plt.ylabel(\"Customer\",fontsize=12)\n",
        "plt.show()\n"
      ],
      "metadata": {
        "colab": {
          "base_uri": "https://localhost:8080/",
          "height": 575
        },
        "id": "D4peReS1H62Q",
        "outputId": "029983d0-7891-4573-b98d-4c91694b949f"
      },
      "execution_count": 98,
      "outputs": [
        {
          "output_type": "stream",
          "name": "stderr",
          "text": [
            "/usr/local/lib/python3.7/dist-packages/seaborn/_decorators.py:43: FutureWarning: Pass the following variables as keyword args: x, y. From version 0.12, the only valid positional argument will be `data`, and passing other arguments without an explicit keyword will result in an error or misinterpretation.\n",
            "  FutureWarning\n"
          ]
        },
        {
          "output_type": "display_data",
          "data": {
            "image/png": "[encoded data removed]",
            "text/plain": [
              "<Figure size 1080x576 with 1 Axes>"
            ]
          },
          "metadata": {}
        }
      ]
    },
    {
      "cell_type": "code",
      "source": [
        "df0.Store.unique()"
      ],
      "metadata": {
        "colab": {
          "base_uri": "https://localhost:8080/"
        },
        "id": "NHHD2ryVLcQh",
        "outputId": "b64e76cf-a5f3-487b-c82e-f5df1227c6a7"
      },
      "execution_count": 51,
      "outputs": [
        {
          "output_type": "execute_result",
          "data": {
            "text/plain": [
              "array([   1,    2,    3, ..., 1113, 1114, 1115])"
            ]
          },
          "metadata": {},
          "execution_count": 51
        }
      ]
    },
    {
      "cell_type": "code",
      "source": [
        "df0.corr()"
      ],
      "metadata": {
        "colab": {
          "base_uri": "https://localhost:8080/",
          "height": 269
        },
        "id": "Dul6cyWX2Z9J",
        "outputId": "252679bd-aa5b-4182-daa0-57fa893a6aed"
      },
      "execution_count": 52,
      "outputs": [
        {
          "output_type": "execute_result",
          "data": {
            "text/html": [
              "\n",
              "  <div id=\"df-f0d28bad-f7f8-4d92-8800-2afef0ad2bf5\">\n",
              "    <div class=\"colab-df-container\">\n",
              "      <div>\n",
              "<style scoped>\n",
              "    .dataframe tbody tr th:only-of-type {\n",
              "        vertical-align: middle;\n",
              "    }\n",
              "\n",
              "    .dataframe tbody tr th {\n",
              "        vertical-align: top;\n",
              "    }\n",
              "\n",
              "    .dataframe thead th {\n",
              "        text-align: right;\n",
              "    }\n",
              "</style>\n",
              "<table border=\"1\" class=\"dataframe\">\n",
              "  <thead>\n",
              "    <tr style=\"text-align: right;\">\n",
              "      <th></th>\n",
              "      <th>Store</th>\n",
              "      <th>DayOfWeek</th>\n",
              "      <th>Sales</th>\n",
              "      <th>Customers</th>\n",
              "      <th>Open</th>\n",
              "      <th>Promo</th>\n",
              "      <th>SchoolHoliday</th>\n",
              "    </tr>\n",
              "  </thead>\n",
              "  <tbody>\n",
              "    <tr>\n",
              "      <th>Store</th>\n",
              "      <td>1.000000</td>\n",
              "      <td>-0.000008</td>\n",
              "      <td>0.005126</td>\n",
              "      <td>0.024325</td>\n",
              "      <td>-0.000047</td>\n",
              "      <td>0.000058</td>\n",
              "      <td>0.000641</td>\n",
              "    </tr>\n",
              "    <tr>\n",
              "      <th>DayOfWeek</th>\n",
              "      <td>-0.000008</td>\n",
              "      <td>1.000000</td>\n",
              "      <td>-0.462125</td>\n",
              "      <td>-0.386445</td>\n",
              "      <td>-0.528963</td>\n",
              "      <td>-0.392925</td>\n",
              "      <td>-0.205388</td>\n",
              "    </tr>\n",
              "    <tr>\n",
              "      <th>Sales</th>\n",
              "      <td>0.005126</td>\n",
              "      <td>-0.462125</td>\n",
              "      <td>1.000000</td>\n",
              "      <td>0.894711</td>\n",
              "      <td>0.678472</td>\n",
              "      <td>0.452345</td>\n",
              "      <td>0.085124</td>\n",
              "    </tr>\n",
              "    <tr>\n",
              "      <th>Customers</th>\n",
              "      <td>0.024325</td>\n",
              "      <td>-0.386445</td>\n",
              "      <td>0.894711</td>\n",
              "      <td>1.000000</td>\n",
              "      <td>0.616768</td>\n",
              "      <td>0.316169</td>\n",
              "      <td>0.071568</td>\n",
              "    </tr>\n",
              "    <tr>\n",
              "      <th>Open</th>\n",
              "      <td>-0.000047</td>\n",
              "      <td>-0.528963</td>\n",
              "      <td>0.678472</td>\n",
              "      <td>0.616768</td>\n",
              "      <td>1.000000</td>\n",
              "      <td>0.295042</td>\n",
              "      <td>0.086171</td>\n",
              "    </tr>\n",
              "    <tr>\n",
              "      <th>Promo</th>\n",
              "      <td>0.000058</td>\n",
              "      <td>-0.392925</td>\n",
              "      <td>0.452345</td>\n",
              "      <td>0.316169</td>\n",
              "      <td>0.295042</td>\n",
              "      <td>1.000000</td>\n",
              "      <td>0.067483</td>\n",
              "    </tr>\n",
              "    <tr>\n",
              "      <th>SchoolHoliday</th>\n",
              "      <td>0.000641</td>\n",
              "      <td>-0.205388</td>\n",
              "      <td>0.085124</td>\n",
              "      <td>0.071568</td>\n",
              "      <td>0.086171</td>\n",
              "      <td>0.067483</td>\n",
              "      <td>1.000000</td>\n",
              "    </tr>\n",
              "  </tbody>\n",
              "</table>\n",
              "</div>\n",
              "      <button class=\"colab-df-convert\" onclick=\"convertToInteractive('df-f0d28bad-f7f8-4d92-8800-2afef0ad2bf5')\"\n",
              "              title=\"Convert this dataframe to an interactive table.\"\n",
              "              style=\"display:none;\">\n",
              "        \n",
              "  <svg xmlns=\"http://www.w3.org/2000/svg\" height=\"24px\"viewBox=\"0 0 24 24\"\n",
              "       width=\"24px\">\n",
              "    <path d=\"M0 0h24v24H0V0z\" fill=\"none\"/>\n",
              "    <path d=\"M18.56 5.44l.94 2.06.94-2.06 2.06-.94-2.06-.94-.94-2.06-.94 2.06-2.06.94zm-11 1L8.5 8.5l.94-2.06 2.06-.94-2.06-.94L8.5 2.5l-.94 2.06-2.06.94zm10 10l.94 2.06.94-2.06 2.06-.94-2.06-.94-.94-2.06-.94 2.06-2.06.94z\"/><path d=\"M17.41 7.96l-1.37-1.37c-.4-.4-.92-.59-1.43-.59-.52 0-1.04.2-1.43.59L10.3 9.45l-7.72 7.72c-.78.78-.78 2.05 0 2.83L4 21.41c.39.39.9.59 1.41.59.51 0 1.02-.2 1.41-.59l7.78-7.78 2.81-2.81c.8-.78.8-2.07 0-2.86zM5.41 20L4 18.59l7.72-7.72 1.47 1.35L5.41 20z\"/>\n",
              "  </svg>\n",
              "      </button>\n",
              "      \n",
              "  <style>\n",
              "    .colab-df-container {\n",
              "      display:flex;\n",
              "      flex-wrap:wrap;\n",
              "      gap: 12px;\n",
              "    }\n",
              "\n",
              "    .colab-df-convert {\n",
              "      background-color: #E8F0FE;\n",
              "      border: none;\n",
              "      border-radius: 50%;\n",
              "      cursor: pointer;\n",
              "      display: none;\n",
              "      fill: #1967D2;\n",
              "      height: 32px;\n",
              "      padding: 0 0 0 0;\n",
              "      width: 32px;\n",
              "    }\n",
              "\n",
              "    .colab-df-convert:hover {\n",
              "      background-color: #E2EBFA;\n",
              "      box-shadow: 0px 1px 2px rgba(60, 64, 67, 0.3), 0px 1px 3px 1px rgba(60, 64, 67, 0.15);\n",
              "      fill: #174EA6;\n",
              "    }\n",
              "\n",
              "    [theme=dark] .colab-df-convert {\n",
              "      background-color: #3B4455;\n",
              "      fill: #D2E3FC;\n",
              "    }\n",
              "\n",
              "    [theme=dark] .colab-df-convert:hover {\n",
              "      background-color: #434B5C;\n",
              "      box-shadow: 0px 1px 3px 1px rgba(0, 0, 0, 0.15);\n",
              "      filter: drop-shadow(0px 1px 2px rgba(0, 0, 0, 0.3));\n",
              "      fill: #FFFFFF;\n",
              "    }\n",
              "  </style>\n",
              "\n",
              "      <script>\n",
              "        const buttonEl =\n",
              "          document.querySelector('#df-f0d28bad-f7f8-4d92-8800-2afef0ad2bf5 button.colab-df-convert');\n",
              "        buttonEl.style.display =\n",
              "          google.colab.kernel.accessAllowed ? 'block' : 'none';\n",
              "\n",
              "        async function convertToInteractive(key) {\n",
              "          const element = document.querySelector('#df-f0d28bad-f7f8-4d92-8800-2afef0ad2bf5');\n",
              "          const dataTable =\n",
              "            await google.colab.kernel.invokeFunction('convertToInteractive',\n",
              "                                                     [key], {});\n",
              "          if (!dataTable) return;\n",
              "\n",
              "          const docLinkHtml = 'Like what you see? Visit the ' +\n",
              "            '<a target=\"_blank\" href=https://colab.research.google.com/notebooks/data_table.ipynb>data table notebook</a>'\n",
              "            + ' to learn more about interactive tables.';\n",
              "          element.innerHTML = '';\n",
              "          dataTable['output_type'] = 'display_data';\n",
              "          await google.colab.output.renderOutput(dataTable, element);\n",
              "          const docLink = document.createElement('div');\n",
              "          docLink.innerHTML = docLinkHtml;\n",
              "          element.appendChild(docLink);\n",
              "        }\n",
              "      </script>\n",
              "    </div>\n",
              "  </div>\n",
              "  "
            ],
            "text/plain": [
              "                  Store  DayOfWeek     Sales  ...      Open     Promo  SchoolHoliday\n",
              "Store          1.000000  -0.000008  0.005126  ... -0.000047  0.000058       0.000641\n",
              "DayOfWeek     -0.000008   1.000000 -0.462125  ... -0.528963 -0.392925      -0.205388\n",
              "Sales          0.005126  -0.462125  1.000000  ...  0.678472  0.452345       0.085124\n",
              "Customers      0.024325  -0.386445  0.894711  ...  0.616768  0.316169       0.071568\n",
              "Open          -0.000047  -0.528963  0.678472  ...  1.000000  0.295042       0.086171\n",
              "Promo          0.000058  -0.392925  0.452345  ...  0.295042  1.000000       0.067483\n",
              "SchoolHoliday  0.000641  -0.205388  0.085124  ...  0.086171  0.067483       1.000000\n",
              "\n",
              "[7 rows x 7 columns]"
            ]
          },
          "metadata": {},
          "execution_count": 52
        }
      ]
    },
    {
      "cell_type": "code",
      "source": [
        "df0[\"StateHoliday\"].astype(str)"
      ],
      "metadata": {
        "colab": {
          "base_uri": "https://localhost:8080/"
        },
        "id": "qH46l9d-vLmC",
        "outputId": "a9be62cc-9179-4957-90d6-fb024a7fce4f"
      },
      "execution_count": 86,
      "outputs": [
        {
          "output_type": "execute_result",
          "data": {
            "text/plain": [
              "0          0\n",
              "1          0\n",
              "2          0\n",
              "3          0\n",
              "4          0\n",
              "          ..\n",
              "1017204    a\n",
              "1017205    a\n",
              "1017206    a\n",
              "1017207    a\n",
              "1017208    a\n",
              "Name: StateHoliday, Length: 1017209, dtype: object"
            ]
          },
          "metadata": {},
          "execution_count": 86
        }
      ]
    },
    {
      "cell_type": "code",
      "source": [
        "df0[\"StateHoliday\"] = df0['StateHoliday'].apply(lambda x: str(x).replace('a',\"1\") if 'a' in str(x) else x)\n",
        "df0[\"StateHoliday\"] = df0['StateHoliday'].apply(lambda x: str(x).replace('b',\"1\") if 'b' in str(x) else x)\n",
        "df0[\"StateHoliday\"] = df0['StateHoliday'].apply(lambda x: str(x).replace('c',\"1\") if 'c' in str(x) else x)\n",
        "# df0[\"StateHoliday\"] = df0['StateHoliday'].apply(lambda x: str(x).replace('',\"1\") if 'c' in str(x) else x)\n",
        "#change k(KB) into MB convert string with k to float & divide by 1024\n",
        "#convert kB into MB (1024Kb=1Mb) \n",
        "# df['Size'] = df['Size'].apply(lambda x: float(str(x).replace('k', '')) / 1024 if 'k' in str(x) else x)\n"
      ],
      "metadata": {
        "id": "QNarSj5FvqoT"
      },
      "execution_count": 87,
      "outputs": []
    },
    {
      "cell_type": "code",
      "source": [
        "df0[\"StateHoliday\"].value_counts()"
      ],
      "metadata": {
        "colab": {
          "base_uri": "https://localhost:8080/"
        },
        "id": "20X2P8mvwfFb",
        "outputId": "b94c12d8-50d8-414a-9453-a36f0264e661"
      },
      "execution_count": 88,
      "outputs": [
        {
          "output_type": "execute_result",
          "data": {
            "text/plain": [
              "0    855087\n",
              "0    131072\n",
              "1     31050\n",
              "Name: StateHoliday, dtype: int64"
            ]
          },
          "metadata": {},
          "execution_count": 88
        }
      ]
    },
    {
      "cell_type": "code",
      "source": [
        "df0[\"StateHoliday\"] = df0[\"StateHoliday\"].apply(pd.to_numeric, errors='coerce')"
      ],
      "metadata": {
        "id": "3bfDJ7ozw1He"
      },
      "execution_count": 89,
      "outputs": []
    },
    {
      "cell_type": "code",
      "source": [
        "df0[\"StateHoliday\"].unique()"
      ],
      "metadata": {
        "colab": {
          "base_uri": "https://localhost:8080/"
        },
        "id": "V3wp4iBSu9z7",
        "outputId": "12f11ff0-cad8-4350-bb65-7dcc222e7b44"
      },
      "execution_count": 97,
      "outputs": [
        {
          "output_type": "execute_result",
          "data": {
            "text/plain": [
              "array([0, 1])"
            ]
          },
          "metadata": {},
          "execution_count": 97
        }
      ]
    },
    {
      "cell_type": "code",
      "source": [
        "sns.barplot(x = 'StateHoliday',\n",
        "            y = 'Sales',\n",
        "            data = df0)\n",
        " \n",
        "# Show the plot\n",
        "plt.show()"
      ],
      "metadata": {
        "colab": {
          "base_uri": "https://localhost:8080/",
          "height": 606
        },
        "id": "_iZzp3HNylay",
        "outputId": "e6f6218c-1b5b-43f2-9b38-ca3be4a3474d"
      },
      "execution_count": 100,
      "outputs": [
        {
          "output_type": "display_data",
          "data": {
            "image/png": "[encoded data removed]",
            "text/plain": [
              "<Figure size 720x720 with 1 Axes>"
            ]
          },
          "metadata": {}
        }
      ]
    },
    {
      "cell_type": "code",
      "source": [
        "sns.barplot(x = 'SchoolHoliday',\n",
        "            y = 'Sales',\n",
        "            data = df0)\n",
        " \n",
        "# Show the plot\n",
        "plt.show()"
      ],
      "metadata": {
        "colab": {
          "base_uri": "https://localhost:8080/",
          "height": 606
        },
        "id": "zbwac8LrMNoj",
        "outputId": "5bae413d-4486-4796-aee3-aa05c6b4f13d"
      },
      "execution_count": 101,
      "outputs": [
        {
          "output_type": "display_data",
          "data": {
            "image/png": "[encoded data removed]",
            "text/plain": [
              "<Figure size 720x720 with 1 Axes>"
            ]
          },
          "metadata": {}
        }
      ]
    },
    {
      "cell_type": "code",
      "source": [
        ""
      ],
      "metadata": {
        "id": "1Rnm9Z4bMf_g"
      },
      "execution_count": null,
      "outputs": []
    }
  ]
}