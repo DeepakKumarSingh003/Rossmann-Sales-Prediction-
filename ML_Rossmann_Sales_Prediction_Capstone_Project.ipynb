{
  "cells": [
    {
      "cell_type": "markdown",
      "metadata": {
        "id": "view-in-github",
        "colab_type": "text"
      },
      "source": [
        "<a href=\"https://colab.research.google.com/github/DeepakKumarSingh003/Rossmann-Sales-Prediction-/blob/main/ML_Rossmann_Sales_Prediction_Capstone_Project.ipynb\" target=\"_parent\"><img src=\"https://colab.research.google.com/assets/colab-badge.svg\" alt=\"Open In Colab\"/></a>"
      ]
    },
    {
      "cell_type": "markdown",
      "metadata": {
        "id": "tOGC-qoyhJeX"
      },
      "source": [
        "# <b><u> Project Title : Sales Prediction : Predicting sales of a major store chain Rossmann</u></b>"
      ]
    },
    {
      "cell_type": "markdown",
      "metadata": {
        "id": "Y06xIdG26kRF"
      },
      "source": [
        "## <b> Problem Description </b>\n",
        "\n",
        "### Rossmann operates over 3,000 drug stores in 7 European countries. Currently, Rossmann store managers are tasked with predicting their daily sales for up to six weeks in advance. Store sales are influenced by many factors, including promotions, competition, school and state holidays, seasonality, and locality. With thousands of individual managers predicting sales based on their unique circumstances, the accuracy of results can be quite varied.\n",
        "\n",
        "### You are provided with historical sales data for 1,115 Rossmann stores. The task is to forecast the \"Sales\" column for the test set. Note that some stores in the dataset were temporarily closed for refurbishment."
      ]
    },
    {
      "cell_type": "markdown",
      "metadata": {
        "id": "WWeU1f9bwqQq"
      },
      "source": [
        "## <b> Data Description </b>\n",
        "\n",
        "### <b>Rossmann Stores Data.csv </b> - historical data including Sales\n",
        "### <b>store.csv </b> - supplemental information about the stores\n",
        "\n",
        "\n",
        "### <b><u>Data fields</u></b>\n",
        "### Most of the fields are self-explanatory. The following are descriptions for those that aren't.\n",
        "\n",
        "* #### Id - an Id that represents a (Store, Date) duple within the test set\n",
        "* #### Store - a unique Id for each store\n",
        "* #### Sales - the turnover for any given day (this is what you are predicting)\n",
        "* #### Customers - the number of customers on a given day\n",
        "* #### Open - an indicator for whether the store was open: 0 = closed, 1 = open\n",
        "* #### StateHoliday - indicates a state holiday. Normally all stores, with few exceptions, are closed on state holidays. Note that all schools are closed on public holidays and weekends. a = public holiday, b = Easter holiday, c = Christmas, 0 = None\n",
        "* #### SchoolHoliday - indicates if the (Store, Date) was affected by the closure of public schools\n",
        "* #### StoreType - differentiates between 4 different store models: a, b, c, d\n",
        "* #### Assortment - describes an assortment level: a = basic, b = extra, c = extended\n",
        "* #### CompetitionDistance - distance in meters to the nearest competitor store\n",
        "* #### CompetitionOpenSince[Month/Year] - gives the approximate year and month of the time the nearest competitor was opened\n",
        "* #### Promo - indicates whether a store is running a promo on that day\n",
        "* #### Promo2 - Promo2 is a continuing and consecutive promotion for some stores: 0 = store is not participating, 1 = store is participating\n",
        "* #### Promo2Since[Year/Week] - describes the year and calendar week when the store started participating in Promo2\n",
        "* #### PromoInterval - describes the consecutive intervals Promo2 is started, naming the months the promotion is started anew. E.g. \"Feb,May,Aug,Nov\" means each round starts in February, May, August, November of any given year for that store"
      ]
    },
    {
      "cell_type": "markdown",
      "metadata": {
        "id": "Lb4DieX2-duq"
      },
      "source": [
        "#Import Important Libraries."
      ]
    },
    {
      "cell_type": "markdown",
      "metadata": {
        "id": "KyYYi_Sb-pRF"
      },
      "source": [
        "#Data Import"
      ]
    },
    {
      "cell_type": "code",
      "execution_count": null,
      "metadata": {
        "id": "dByMsuzT8Tnw"
      },
      "outputs": [],
      "source": [
        "#Basic platform Libraries\n",
        "import numpy as np\n",
        "import pandas as pd\n",
        "#Data Visualization Libraries\n",
        "import seaborn as sns\n",
        "import matplotlib.pyplot as plt\n",
        "%matplotlib inline\n",
        "sns.set_style('whitegrid')\n",
        "#ML Algo Libraries\n",
        "from sklearn.model_selection import train_test_split\n",
        "from sklearn import preprocessing\n",
        "from sklearn.linear_model import LinearRegression\n",
        "from sklearn.metrics import r2_score\n",
        "from sklearn import metrics\n",
        "from sklearn.ensemble import RandomForestRegressor\n",
        "from sklearn.model_selection import GridSearchCV\n",
        "import xgboost as xgb\n",
        "from sklearn import model_selection\n",
        "\n",
        "import warnings\n",
        "warnings.filterwarnings(\"ignore\", category=DeprecationWarning) \n"
      ]
    },
    {
      "cell_type": "code",
      "execution_count": null,
      "metadata": {
        "id": "ZACh4x0jJtsf",
        "colab": {
          "base_uri": "https://localhost:8080/"
        },
        "outputId": "9d077b3a-7c17-4a57-ea06-02e4bc27af0b"
      },
      "outputs": [
        {
          "output_type": "stream",
          "name": "stdout",
          "text": [
            "Drive already mounted at /content/drive; to attempt to forcibly remount, call drive.mount(\"/content/drive\", force_remount=True).\n"
          ]
        }
      ],
      "source": [
        "from google.colab import drive\n",
        "drive.mount ('/content/drive')"
      ]
    },
    {
      "cell_type": "code",
      "execution_count": null,
      "metadata": {
        "id": "m9fhhlQfJvB4"
      },
      "outputs": [],
      "source": [
        "#Data set csv Files location. \n",
        "File1=\"/content/drive/MyDrive/Alma better Projects/Supervised ML-Regression/Copy of Rossmann Stores Data.csv\"\n",
        "File2=\"/content/drive/MyDrive/Alma better Projects/Supervised ML-Regression/Copy of store.csv\""
      ]
    },
    {
      "cell_type": "markdown",
      "metadata": {
        "id": "4OB5p-0Z7UKB"
      },
      "source": [
        "#Using Machine Learning to predict sales.\n",
        "Without proper sales forecasting, many business decisions are based on unreliable estimates or instinct – which leads to many inefficiencies and missed opportunities. with forecating we can answer Questions like.\n",
        "* How much stock should be ordered? \n",
        "* How much revenue can be expected in upcoming Year.? \n",
        "\n",
        "#What is sales forecasting?\n",
        "\n",
        "* A sales forecast is an estimation of future sales. This estimation can be based on past values, economic indicators, seasonality, weather forecasts, promo, Assortment of product etc.\n",
        "\n",
        "**Lets explore the dataset and coin out the features those will help our Model to predict the Sales of Rossmann stores with best Accuracy.**"
      ]
    },
    {
      "cell_type": "code",
      "execution_count": null,
      "metadata": {
        "id": "DmJF6TZqKMjY"
      },
      "outputs": [],
      "source": [
        "import warnings\n",
        "warnings.filterwarnings(\"ignore\")\n",
        "\n",
        "#Load Rossmann store Data set.\n",
        "df0=pd.read_csv(File1)\n",
        "#Load store Data set.\n",
        "df1=pd.read_csv(File2,index_col=\"Store\")"
      ]
    },
    {
      "cell_type": "markdown",
      "source": [
        "#Content Outline\n",
        "* Understanding  Data Set\n",
        "* Preprocessing and Feature Engineering \n",
        "* Understanding the problem and the data available\n",
        "* Normality and skewness\n",
        "* Missing values\n",
        "* Dummy encoding\n",
        "* Rescaling\n",
        "#Regression\n",
        "* Linear regression\n",
        "* L1 regularisation\n",
        "* L2 regularisation\n",
        "* ElasticNet regularisation"
      ],
      "metadata": {
        "id": "e4x0W2nCcsTx"
      }
    },
    {
      "cell_type": "markdown",
      "source": [
        "#**1.Understanding Data set**"
      ],
      "metadata": {
        "id": "LB-tEOGneuu8"
      }
    },
    {
      "cell_type": "markdown",
      "metadata": {
        "id": "zK9xgEzW_fKE"
      },
      "source": [
        "#Exploring Data sets."
      ]
    },
    {
      "cell_type": "markdown",
      "metadata": {
        "id": "X-Mhj9beTE2j"
      },
      "source": [
        "**1** **Rossmann Data set**"
      ]
    },
    {
      "cell_type": "code",
      "execution_count": null,
      "metadata": {
        "colab": {
          "base_uri": "https://localhost:8080/"
        },
        "id": "UKGszad8KYT4",
        "outputId": "b146494a-58b3-40b4-892f-5ba056e5ce51"
      },
      "outputs": [
        {
          "output_type": "stream",
          "name": "stdout",
          "text": [
            "(Rows, Columns)= (1017209, 9)\n"
          ]
        },
        {
          "output_type": "execute_result",
          "data": {
            "text/html": [
              "\n",
              "  <div id=\"df-dad33883-0f99-4c0f-b773-86337b440352\">\n",
              "    <div class=\"colab-df-container\">\n",
              "      <div>\n",
              "<style scoped>\n",
              "    .dataframe tbody tr th:only-of-type {\n",
              "        vertical-align: middle;\n",
              "    }\n",
              "\n",
              "    .dataframe tbody tr th {\n",
              "        vertical-align: top;\n",
              "    }\n",
              "\n",
              "    .dataframe thead th {\n",
              "        text-align: right;\n",
              "    }\n",
              "</style>\n",
              "<table border=\"1\" class=\"dataframe\">\n",
              "  <thead>\n",
              "    <tr style=\"text-align: right;\">\n",
              "      <th></th>\n",
              "      <th>Store</th>\n",
              "      <th>DayOfWeek</th>\n",
              "      <th>Date</th>\n",
              "      <th>Sales</th>\n",
              "      <th>Customers</th>\n",
              "      <th>Open</th>\n",
              "      <th>Promo</th>\n",
              "      <th>StateHoliday</th>\n",
              "      <th>SchoolHoliday</th>\n",
              "    </tr>\n",
              "  </thead>\n",
              "  <tbody>\n",
              "    <tr>\n",
              "      <th>977606</th>\n",
              "      <td>537</td>\n",
              "      <td>2</td>\n",
              "      <td>2013-02-05</td>\n",
              "      <td>5114</td>\n",
              "      <td>561</td>\n",
              "      <td>1</td>\n",
              "      <td>1</td>\n",
              "      <td>0</td>\n",
              "      <td>0</td>\n",
              "    </tr>\n",
              "    <tr>\n",
              "      <th>42748</th>\n",
              "      <td>379</td>\n",
              "      <td>2</td>\n",
              "      <td>2015-06-23</td>\n",
              "      <td>2727</td>\n",
              "      <td>375</td>\n",
              "      <td>1</td>\n",
              "      <td>0</td>\n",
              "      <td>0</td>\n",
              "      <td>0</td>\n",
              "    </tr>\n",
              "    <tr>\n",
              "      <th>640200</th>\n",
              "      <td>976</td>\n",
              "      <td>4</td>\n",
              "      <td>2013-12-05</td>\n",
              "      <td>9544</td>\n",
              "      <td>859</td>\n",
              "      <td>1</td>\n",
              "      <td>1</td>\n",
              "      <td>0</td>\n",
              "      <td>0</td>\n",
              "    </tr>\n",
              "    <tr>\n",
              "      <th>306132</th>\n",
              "      <td>676</td>\n",
              "      <td>6</td>\n",
              "      <td>2014-10-18</td>\n",
              "      <td>4729</td>\n",
              "      <td>1064</td>\n",
              "      <td>1</td>\n",
              "      <td>0</td>\n",
              "      <td>0</td>\n",
              "      <td>0</td>\n",
              "    </tr>\n",
              "    <tr>\n",
              "      <th>590397</th>\n",
              "      <td>233</td>\n",
              "      <td>6</td>\n",
              "      <td>2014-01-18</td>\n",
              "      <td>7817</td>\n",
              "      <td>901</td>\n",
              "      <td>1</td>\n",
              "      <td>0</td>\n",
              "      <td>0</td>\n",
              "      <td>0</td>\n",
              "    </tr>\n",
              "    <tr>\n",
              "      <th>...</th>\n",
              "      <td>...</td>\n",
              "      <td>...</td>\n",
              "      <td>...</td>\n",
              "      <td>...</td>\n",
              "      <td>...</td>\n",
              "      <td>...</td>\n",
              "      <td>...</td>\n",
              "      <td>...</td>\n",
              "      <td>...</td>\n",
              "    </tr>\n",
              "    <tr>\n",
              "      <th>94416</th>\n",
              "      <td>757</td>\n",
              "      <td>5</td>\n",
              "      <td>2015-05-08</td>\n",
              "      <td>6619</td>\n",
              "      <td>599</td>\n",
              "      <td>1</td>\n",
              "      <td>1</td>\n",
              "      <td>0</td>\n",
              "      <td>0</td>\n",
              "    </tr>\n",
              "    <tr>\n",
              "      <th>934179</th>\n",
              "      <td>595</td>\n",
              "      <td>6</td>\n",
              "      <td>2013-03-16</td>\n",
              "      <td>16481</td>\n",
              "      <td>2063</td>\n",
              "      <td>1</td>\n",
              "      <td>0</td>\n",
              "      <td>0</td>\n",
              "      <td>0</td>\n",
              "    </tr>\n",
              "    <tr>\n",
              "      <th>700436</th>\n",
              "      <td>1002</td>\n",
              "      <td>6</td>\n",
              "      <td>2013-10-12</td>\n",
              "      <td>5619</td>\n",
              "      <td>733</td>\n",
              "      <td>1</td>\n",
              "      <td>0</td>\n",
              "      <td>0</td>\n",
              "      <td>0</td>\n",
              "    </tr>\n",
              "    <tr>\n",
              "      <th>168308</th>\n",
              "      <td>1059</td>\n",
              "      <td>2</td>\n",
              "      <td>2015-03-03</td>\n",
              "      <td>9980</td>\n",
              "      <td>1232</td>\n",
              "      <td>1</td>\n",
              "      <td>1</td>\n",
              "      <td>0</td>\n",
              "      <td>1</td>\n",
              "    </tr>\n",
              "    <tr>\n",
              "      <th>773963</th>\n",
              "      <td>939</td>\n",
              "      <td>3</td>\n",
              "      <td>2013-08-07</td>\n",
              "      <td>4660</td>\n",
              "      <td>478</td>\n",
              "      <td>1</td>\n",
              "      <td>0</td>\n",
              "      <td>0</td>\n",
              "      <td>1</td>\n",
              "    </tr>\n",
              "  </tbody>\n",
              "</table>\n",
              "<p>1116 rows × 9 columns</p>\n",
              "</div>\n",
              "      <button class=\"colab-df-convert\" onclick=\"convertToInteractive('df-dad33883-0f99-4c0f-b773-86337b440352')\"\n",
              "              title=\"Convert this dataframe to an interactive table.\"\n",
              "              style=\"display:none;\">\n",
              "        \n",
              "  <svg xmlns=\"http://www.w3.org/2000/svg\" height=\"24px\"viewBox=\"0 0 24 24\"\n",
              "       width=\"24px\">\n",
              "    <path d=\"M0 0h24v24H0V0z\" fill=\"none\"/>\n",
              "    <path d=\"M18.56 5.44l.94 2.06.94-2.06 2.06-.94-2.06-.94-.94-2.06-.94 2.06-2.06.94zm-11 1L8.5 8.5l.94-2.06 2.06-.94-2.06-.94L8.5 2.5l-.94 2.06-2.06.94zm10 10l.94 2.06.94-2.06 2.06-.94-2.06-.94-.94-2.06-.94 2.06-2.06.94z\"/><path d=\"M17.41 7.96l-1.37-1.37c-.4-.4-.92-.59-1.43-.59-.52 0-1.04.2-1.43.59L10.3 9.45l-7.72 7.72c-.78.78-.78 2.05 0 2.83L4 21.41c.39.39.9.59 1.41.59.51 0 1.02-.2 1.41-.59l7.78-7.78 2.81-2.81c.8-.78.8-2.07 0-2.86zM5.41 20L4 18.59l7.72-7.72 1.47 1.35L5.41 20z\"/>\n",
              "  </svg>\n",
              "      </button>\n",
              "      \n",
              "  <style>\n",
              "    .colab-df-container {\n",
              "      display:flex;\n",
              "      flex-wrap:wrap;\n",
              "      gap: 12px;\n",
              "    }\n",
              "\n",
              "    .colab-df-convert {\n",
              "      background-color: #E8F0FE;\n",
              "      border: none;\n",
              "      border-radius: 50%;\n",
              "      cursor: pointer;\n",
              "      display: none;\n",
              "      fill: #1967D2;\n",
              "      height: 32px;\n",
              "      padding: 0 0 0 0;\n",
              "      width: 32px;\n",
              "    }\n",
              "\n",
              "    .colab-df-convert:hover {\n",
              "      background-color: #E2EBFA;\n",
              "      box-shadow: 0px 1px 2px rgba(60, 64, 67, 0.3), 0px 1px 3px 1px rgba(60, 64, 67, 0.15);\n",
              "      fill: #174EA6;\n",
              "    }\n",
              "\n",
              "    [theme=dark] .colab-df-convert {\n",
              "      background-color: #3B4455;\n",
              "      fill: #D2E3FC;\n",
              "    }\n",
              "\n",
              "    [theme=dark] .colab-df-convert:hover {\n",
              "      background-color: #434B5C;\n",
              "      box-shadow: 0px 1px 3px 1px rgba(0, 0, 0, 0.15);\n",
              "      filter: drop-shadow(0px 1px 2px rgba(0, 0, 0, 0.3));\n",
              "      fill: #FFFFFF;\n",
              "    }\n",
              "  </style>\n",
              "\n",
              "      <script>\n",
              "        const buttonEl =\n",
              "          document.querySelector('#df-dad33883-0f99-4c0f-b773-86337b440352 button.colab-df-convert');\n",
              "        buttonEl.style.display =\n",
              "          google.colab.kernel.accessAllowed ? 'block' : 'none';\n",
              "\n",
              "        async function convertToInteractive(key) {\n",
              "          const element = document.querySelector('#df-dad33883-0f99-4c0f-b773-86337b440352');\n",
              "          const dataTable =\n",
              "            await google.colab.kernel.invokeFunction('convertToInteractive',\n",
              "                                                     [key], {});\n",
              "          if (!dataTable) return;\n",
              "\n",
              "          const docLinkHtml = 'Like what you see? Visit the ' +\n",
              "            '<a target=\"_blank\" href=https://colab.research.google.com/notebooks/data_table.ipynb>data table notebook</a>'\n",
              "            + ' to learn more about interactive tables.';\n",
              "          element.innerHTML = '';\n",
              "          dataTable['output_type'] = 'display_data';\n",
              "          await google.colab.output.renderOutput(dataTable, element);\n",
              "          const docLink = document.createElement('div');\n",
              "          docLink.innerHTML = docLinkHtml;\n",
              "          element.appendChild(docLink);\n",
              "        }\n",
              "      </script>\n",
              "    </div>\n",
              "  </div>\n",
              "  "
            ],
            "text/plain": [
              "        Store  DayOfWeek        Date  Sales  Customers  Open  Promo  \\\n",
              "977606    537          2  2013-02-05   5114        561     1      1   \n",
              "42748     379          2  2015-06-23   2727        375     1      0   \n",
              "640200    976          4  2013-12-05   9544        859     1      1   \n",
              "306132    676          6  2014-10-18   4729       1064     1      0   \n",
              "590397    233          6  2014-01-18   7817        901     1      0   \n",
              "...       ...        ...         ...    ...        ...   ...    ...   \n",
              "94416     757          5  2015-05-08   6619        599     1      1   \n",
              "934179    595          6  2013-03-16  16481       2063     1      0   \n",
              "700436   1002          6  2013-10-12   5619        733     1      0   \n",
              "168308   1059          2  2015-03-03   9980       1232     1      1   \n",
              "773963    939          3  2013-08-07   4660        478     1      0   \n",
              "\n",
              "       StateHoliday  SchoolHoliday  \n",
              "977606            0              0  \n",
              "42748             0              0  \n",
              "640200            0              0  \n",
              "306132            0              0  \n",
              "590397            0              0  \n",
              "...             ...            ...  \n",
              "94416             0              0  \n",
              "934179            0              0  \n",
              "700436            0              0  \n",
              "168308            0              1  \n",
              "773963            0              1  \n",
              "\n",
              "[1116 rows x 9 columns]"
            ]
          },
          "metadata": {},
          "execution_count": 5
        }
      ],
      "source": [
        "#Rossmann Data frame\n",
        "print(\"(Rows, Columns)=\",df0.shape)\n",
        "df0.sample(1116)"
      ]
    },
    {
      "cell_type": "code",
      "execution_count": null,
      "metadata": {
        "colab": {
          "base_uri": "https://localhost:8080/"
        },
        "id": "ZotvIr_wpiOG",
        "outputId": "a71b46e2-7f78-4855-c41c-585fd631d9cf"
      },
      "outputs": [
        {
          "output_type": "stream",
          "name": "stdout",
          "text": [
            "(Rows, Columns)= (1115, 9)\n"
          ]
        },
        {
          "output_type": "execute_result",
          "data": {
            "text/html": [
              "\n",
              "  <div id=\"df-045a2eb1-f212-467c-8052-8e65619195b5\">\n",
              "    <div class=\"colab-df-container\">\n",
              "      <div>\n",
              "<style scoped>\n",
              "    .dataframe tbody tr th:only-of-type {\n",
              "        vertical-align: middle;\n",
              "    }\n",
              "\n",
              "    .dataframe tbody tr th {\n",
              "        vertical-align: top;\n",
              "    }\n",
              "\n",
              "    .dataframe thead th {\n",
              "        text-align: right;\n",
              "    }\n",
              "</style>\n",
              "<table border=\"1\" class=\"dataframe\">\n",
              "  <thead>\n",
              "    <tr style=\"text-align: right;\">\n",
              "      <th></th>\n",
              "      <th>StoreType</th>\n",
              "      <th>Assortment</th>\n",
              "      <th>CompetitionDistance</th>\n",
              "      <th>CompetitionOpenSinceMonth</th>\n",
              "      <th>CompetitionOpenSinceYear</th>\n",
              "      <th>Promo2</th>\n",
              "      <th>Promo2SinceWeek</th>\n",
              "      <th>Promo2SinceYear</th>\n",
              "      <th>PromoInterval</th>\n",
              "    </tr>\n",
              "    <tr>\n",
              "      <th>Store</th>\n",
              "      <th></th>\n",
              "      <th></th>\n",
              "      <th></th>\n",
              "      <th></th>\n",
              "      <th></th>\n",
              "      <th></th>\n",
              "      <th></th>\n",
              "      <th></th>\n",
              "      <th></th>\n",
              "    </tr>\n",
              "  </thead>\n",
              "  <tbody>\n",
              "    <tr>\n",
              "      <th>970</th>\n",
              "      <td>a</td>\n",
              "      <td>a</td>\n",
              "      <td>910.0</td>\n",
              "      <td>12.0</td>\n",
              "      <td>2014.0</td>\n",
              "      <td>1</td>\n",
              "      <td>37.0</td>\n",
              "      <td>2009.0</td>\n",
              "      <td>Jan,Apr,Jul,Oct</td>\n",
              "    </tr>\n",
              "    <tr>\n",
              "      <th>445</th>\n",
              "      <td>a</td>\n",
              "      <td>a</td>\n",
              "      <td>240.0</td>\n",
              "      <td>NaN</td>\n",
              "      <td>NaN</td>\n",
              "      <td>0</td>\n",
              "      <td>NaN</td>\n",
              "      <td>NaN</td>\n",
              "      <td>NaN</td>\n",
              "    </tr>\n",
              "    <tr>\n",
              "      <th>964</th>\n",
              "      <td>a</td>\n",
              "      <td>a</td>\n",
              "      <td>270.0</td>\n",
              "      <td>NaN</td>\n",
              "      <td>NaN</td>\n",
              "      <td>1</td>\n",
              "      <td>5.0</td>\n",
              "      <td>2013.0</td>\n",
              "      <td>Feb,May,Aug,Nov</td>\n",
              "    </tr>\n",
              "    <tr>\n",
              "      <th>43</th>\n",
              "      <td>d</td>\n",
              "      <td>a</td>\n",
              "      <td>4880.0</td>\n",
              "      <td>NaN</td>\n",
              "      <td>NaN</td>\n",
              "      <td>1</td>\n",
              "      <td>37.0</td>\n",
              "      <td>2009.0</td>\n",
              "      <td>Jan,Apr,Jul,Oct</td>\n",
              "    </tr>\n",
              "    <tr>\n",
              "      <th>780</th>\n",
              "      <td>a</td>\n",
              "      <td>a</td>\n",
              "      <td>18160.0</td>\n",
              "      <td>NaN</td>\n",
              "      <td>NaN</td>\n",
              "      <td>0</td>\n",
              "      <td>NaN</td>\n",
              "      <td>NaN</td>\n",
              "      <td>NaN</td>\n",
              "    </tr>\n",
              "  </tbody>\n",
              "</table>\n",
              "</div>\n",
              "      <button class=\"colab-df-convert\" onclick=\"convertToInteractive('df-045a2eb1-f212-467c-8052-8e65619195b5')\"\n",
              "              title=\"Convert this dataframe to an interactive table.\"\n",
              "              style=\"display:none;\">\n",
              "        \n",
              "  <svg xmlns=\"http://www.w3.org/2000/svg\" height=\"24px\"viewBox=\"0 0 24 24\"\n",
              "       width=\"24px\">\n",
              "    <path d=\"M0 0h24v24H0V0z\" fill=\"none\"/>\n",
              "    <path d=\"M18.56 5.44l.94 2.06.94-2.06 2.06-.94-2.06-.94-.94-2.06-.94 2.06-2.06.94zm-11 1L8.5 8.5l.94-2.06 2.06-.94-2.06-.94L8.5 2.5l-.94 2.06-2.06.94zm10 10l.94 2.06.94-2.06 2.06-.94-2.06-.94-.94-2.06-.94 2.06-2.06.94z\"/><path d=\"M17.41 7.96l-1.37-1.37c-.4-.4-.92-.59-1.43-.59-.52 0-1.04.2-1.43.59L10.3 9.45l-7.72 7.72c-.78.78-.78 2.05 0 2.83L4 21.41c.39.39.9.59 1.41.59.51 0 1.02-.2 1.41-.59l7.78-7.78 2.81-2.81c.8-.78.8-2.07 0-2.86zM5.41 20L4 18.59l7.72-7.72 1.47 1.35L5.41 20z\"/>\n",
              "  </svg>\n",
              "      </button>\n",
              "      \n",
              "  <style>\n",
              "    .colab-df-container {\n",
              "      display:flex;\n",
              "      flex-wrap:wrap;\n",
              "      gap: 12px;\n",
              "    }\n",
              "\n",
              "    .colab-df-convert {\n",
              "      background-color: #E8F0FE;\n",
              "      border: none;\n",
              "      border-radius: 50%;\n",
              "      cursor: pointer;\n",
              "      display: none;\n",
              "      fill: #1967D2;\n",
              "      height: 32px;\n",
              "      padding: 0 0 0 0;\n",
              "      width: 32px;\n",
              "    }\n",
              "\n",
              "    .colab-df-convert:hover {\n",
              "      background-color: #E2EBFA;\n",
              "      box-shadow: 0px 1px 2px rgba(60, 64, 67, 0.3), 0px 1px 3px 1px rgba(60, 64, 67, 0.15);\n",
              "      fill: #174EA6;\n",
              "    }\n",
              "\n",
              "    [theme=dark] .colab-df-convert {\n",
              "      background-color: #3B4455;\n",
              "      fill: #D2E3FC;\n",
              "    }\n",
              "\n",
              "    [theme=dark] .colab-df-convert:hover {\n",
              "      background-color: #434B5C;\n",
              "      box-shadow: 0px 1px 3px 1px rgba(0, 0, 0, 0.15);\n",
              "      filter: drop-shadow(0px 1px 2px rgba(0, 0, 0, 0.3));\n",
              "      fill: #FFFFFF;\n",
              "    }\n",
              "  </style>\n",
              "\n",
              "      <script>\n",
              "        const buttonEl =\n",
              "          document.querySelector('#df-045a2eb1-f212-467c-8052-8e65619195b5 button.colab-df-convert');\n",
              "        buttonEl.style.display =\n",
              "          google.colab.kernel.accessAllowed ? 'block' : 'none';\n",
              "\n",
              "        async function convertToInteractive(key) {\n",
              "          const element = document.querySelector('#df-045a2eb1-f212-467c-8052-8e65619195b5');\n",
              "          const dataTable =\n",
              "            await google.colab.kernel.invokeFunction('convertToInteractive',\n",
              "                                                     [key], {});\n",
              "          if (!dataTable) return;\n",
              "\n",
              "          const docLinkHtml = 'Like what you see? Visit the ' +\n",
              "            '<a target=\"_blank\" href=https://colab.research.google.com/notebooks/data_table.ipynb>data table notebook</a>'\n",
              "            + ' to learn more about interactive tables.';\n",
              "          element.innerHTML = '';\n",
              "          dataTable['output_type'] = 'display_data';\n",
              "          await google.colab.output.renderOutput(dataTable, element);\n",
              "          const docLink = document.createElement('div');\n",
              "          docLink.innerHTML = docLinkHtml;\n",
              "          element.appendChild(docLink);\n",
              "        }\n",
              "      </script>\n",
              "    </div>\n",
              "  </div>\n",
              "  "
            ],
            "text/plain": [
              "      StoreType Assortment  CompetitionDistance  CompetitionOpenSinceMonth  \\\n",
              "Store                                                                        \n",
              "970           a          a                910.0                       12.0   \n",
              "445           a          a                240.0                        NaN   \n",
              "964           a          a                270.0                        NaN   \n",
              "43            d          a               4880.0                        NaN   \n",
              "780           a          a              18160.0                        NaN   \n",
              "\n",
              "       CompetitionOpenSinceYear  Promo2  Promo2SinceWeek  Promo2SinceYear  \\\n",
              "Store                                                                       \n",
              "970                      2014.0       1             37.0           2009.0   \n",
              "445                         NaN       0              NaN              NaN   \n",
              "964                         NaN       1              5.0           2013.0   \n",
              "43                          NaN       1             37.0           2009.0   \n",
              "780                         NaN       0              NaN              NaN   \n",
              "\n",
              "         PromoInterval  \n",
              "Store                   \n",
              "970    Jan,Apr,Jul,Oct  \n",
              "445                NaN  \n",
              "964    Feb,May,Aug,Nov  \n",
              "43     Jan,Apr,Jul,Oct  \n",
              "780                NaN  "
            ]
          },
          "metadata": {},
          "execution_count": 6
        }
      ],
      "source": [
        "#Stores Data Frame\n",
        "print(\"(Rows, Columns)=\",df1.shape)\n",
        "df1.sample(5)"
      ]
    },
    {
      "cell_type": "markdown",
      "metadata": {
        "id": "7HgfealZlcXd"
      },
      "source": [
        "* **Instead of preparing each dataset individually lets merge them and prepare the features using single data set.**"
      ]
    },
    {
      "cell_type": "markdown",
      "metadata": {
        "id": "3S8J5uihn0ya"
      },
      "source": [
        "#Merged DataSet"
      ]
    },
    {
      "cell_type": "code",
      "execution_count": null,
      "metadata": {
        "colab": {
          "base_uri": "https://localhost:8080/"
        },
        "id": "Kanof3XLnz_j",
        "outputId": "6007541c-6887-495b-bed8-505d3f2070b9"
      },
      "outputs": [
        {
          "output_type": "stream",
          "name": "stdout",
          "text": [
            "(1017209, 18)\n"
          ]
        }
      ],
      "source": [
        "#Merge Both Data sets on store.\n",
        "df= df0.merge(df1 , on='Store' , how='left')\n",
        "print(df.shape)"
      ]
    },
    {
      "cell_type": "code",
      "execution_count": null,
      "metadata": {
        "colab": {
          "base_uri": "https://localhost:8080/"
        },
        "id": "G782vIi2KnrI",
        "outputId": "5a97b6eb-4d51-4ed4-c237-1b6432249ebe"
      },
      "outputs": [
        {
          "output_type": "execute_result",
          "data": {
            "text/html": [
              "\n",
              "  <div id=\"df-75661622-2ebe-42da-a4cd-abf5e8858f33\">\n",
              "    <div class=\"colab-df-container\">\n",
              "      <div>\n",
              "<style scoped>\n",
              "    .dataframe tbody tr th:only-of-type {\n",
              "        vertical-align: middle;\n",
              "    }\n",
              "\n",
              "    .dataframe tbody tr th {\n",
              "        vertical-align: top;\n",
              "    }\n",
              "\n",
              "    .dataframe thead th {\n",
              "        text-align: right;\n",
              "    }\n",
              "</style>\n",
              "<table border=\"1\" class=\"dataframe\">\n",
              "  <thead>\n",
              "    <tr style=\"text-align: right;\">\n",
              "      <th></th>\n",
              "      <th>Store</th>\n",
              "      <th>DayOfWeek</th>\n",
              "      <th>Sales</th>\n",
              "      <th>Customers</th>\n",
              "      <th>Open</th>\n",
              "      <th>Promo</th>\n",
              "      <th>SchoolHoliday</th>\n",
              "      <th>CompetitionDistance</th>\n",
              "      <th>CompetitionOpenSinceMonth</th>\n",
              "      <th>CompetitionOpenSinceYear</th>\n",
              "      <th>Promo2</th>\n",
              "      <th>Promo2SinceWeek</th>\n",
              "      <th>Promo2SinceYear</th>\n",
              "    </tr>\n",
              "  </thead>\n",
              "  <tbody>\n",
              "    <tr>\n",
              "      <th>count</th>\n",
              "      <td>1.017209e+06</td>\n",
              "      <td>1.017209e+06</td>\n",
              "      <td>1.017209e+06</td>\n",
              "      <td>1.017209e+06</td>\n",
              "      <td>1.017209e+06</td>\n",
              "      <td>1.017209e+06</td>\n",
              "      <td>1.017209e+06</td>\n",
              "      <td>1.014567e+06</td>\n",
              "      <td>693861.000000</td>\n",
              "      <td>693861.000000</td>\n",
              "      <td>1.017209e+06</td>\n",
              "      <td>509178.000000</td>\n",
              "      <td>509178.000000</td>\n",
              "    </tr>\n",
              "    <tr>\n",
              "      <th>mean</th>\n",
              "      <td>5.584297e+02</td>\n",
              "      <td>3.998341e+00</td>\n",
              "      <td>5.773819e+03</td>\n",
              "      <td>6.331459e+02</td>\n",
              "      <td>8.301067e-01</td>\n",
              "      <td>3.815145e-01</td>\n",
              "      <td>1.786467e-01</td>\n",
              "      <td>5.430086e+03</td>\n",
              "      <td>7.222866</td>\n",
              "      <td>2008.690228</td>\n",
              "      <td>5.005638e-01</td>\n",
              "      <td>23.269093</td>\n",
              "      <td>2011.752774</td>\n",
              "    </tr>\n",
              "    <tr>\n",
              "      <th>std</th>\n",
              "      <td>3.219087e+02</td>\n",
              "      <td>1.997391e+00</td>\n",
              "      <td>3.849926e+03</td>\n",
              "      <td>4.644117e+02</td>\n",
              "      <td>3.755392e-01</td>\n",
              "      <td>4.857586e-01</td>\n",
              "      <td>3.830564e-01</td>\n",
              "      <td>7.715324e+03</td>\n",
              "      <td>3.211832</td>\n",
              "      <td>5.992644</td>\n",
              "      <td>4.999999e-01</td>\n",
              "      <td>14.095973</td>\n",
              "      <td>1.662870</td>\n",
              "    </tr>\n",
              "    <tr>\n",
              "      <th>min</th>\n",
              "      <td>1.000000e+00</td>\n",
              "      <td>1.000000e+00</td>\n",
              "      <td>0.000000e+00</td>\n",
              "      <td>0.000000e+00</td>\n",
              "      <td>0.000000e+00</td>\n",
              "      <td>0.000000e+00</td>\n",
              "      <td>0.000000e+00</td>\n",
              "      <td>2.000000e+01</td>\n",
              "      <td>1.000000</td>\n",
              "      <td>1900.000000</td>\n",
              "      <td>0.000000e+00</td>\n",
              "      <td>1.000000</td>\n",
              "      <td>2009.000000</td>\n",
              "    </tr>\n",
              "    <tr>\n",
              "      <th>25%</th>\n",
              "      <td>2.800000e+02</td>\n",
              "      <td>2.000000e+00</td>\n",
              "      <td>3.727000e+03</td>\n",
              "      <td>4.050000e+02</td>\n",
              "      <td>1.000000e+00</td>\n",
              "      <td>0.000000e+00</td>\n",
              "      <td>0.000000e+00</td>\n",
              "      <td>7.100000e+02</td>\n",
              "      <td>4.000000</td>\n",
              "      <td>2006.000000</td>\n",
              "      <td>0.000000e+00</td>\n",
              "      <td>13.000000</td>\n",
              "      <td>2011.000000</td>\n",
              "    </tr>\n",
              "    <tr>\n",
              "      <th>50%</th>\n",
              "      <td>5.580000e+02</td>\n",
              "      <td>4.000000e+00</td>\n",
              "      <td>5.744000e+03</td>\n",
              "      <td>6.090000e+02</td>\n",
              "      <td>1.000000e+00</td>\n",
              "      <td>0.000000e+00</td>\n",
              "      <td>0.000000e+00</td>\n",
              "      <td>2.330000e+03</td>\n",
              "      <td>8.000000</td>\n",
              "      <td>2010.000000</td>\n",
              "      <td>1.000000e+00</td>\n",
              "      <td>22.000000</td>\n",
              "      <td>2012.000000</td>\n",
              "    </tr>\n",
              "    <tr>\n",
              "      <th>75%</th>\n",
              "      <td>8.380000e+02</td>\n",
              "      <td>6.000000e+00</td>\n",
              "      <td>7.856000e+03</td>\n",
              "      <td>8.370000e+02</td>\n",
              "      <td>1.000000e+00</td>\n",
              "      <td>1.000000e+00</td>\n",
              "      <td>0.000000e+00</td>\n",
              "      <td>6.890000e+03</td>\n",
              "      <td>10.000000</td>\n",
              "      <td>2013.000000</td>\n",
              "      <td>1.000000e+00</td>\n",
              "      <td>37.000000</td>\n",
              "      <td>2013.000000</td>\n",
              "    </tr>\n",
              "    <tr>\n",
              "      <th>max</th>\n",
              "      <td>1.115000e+03</td>\n",
              "      <td>7.000000e+00</td>\n",
              "      <td>4.155100e+04</td>\n",
              "      <td>7.388000e+03</td>\n",
              "      <td>1.000000e+00</td>\n",
              "      <td>1.000000e+00</td>\n",
              "      <td>1.000000e+00</td>\n",
              "      <td>7.586000e+04</td>\n",
              "      <td>12.000000</td>\n",
              "      <td>2015.000000</td>\n",
              "      <td>1.000000e+00</td>\n",
              "      <td>50.000000</td>\n",
              "      <td>2015.000000</td>\n",
              "    </tr>\n",
              "  </tbody>\n",
              "</table>\n",
              "</div>\n",
              "      <button class=\"colab-df-convert\" onclick=\"convertToInteractive('df-75661622-2ebe-42da-a4cd-abf5e8858f33')\"\n",
              "              title=\"Convert this dataframe to an interactive table.\"\n",
              "              style=\"display:none;\">\n",
              "        \n",
              "  <svg xmlns=\"http://www.w3.org/2000/svg\" height=\"24px\"viewBox=\"0 0 24 24\"\n",
              "       width=\"24px\">\n",
              "    <path d=\"M0 0h24v24H0V0z\" fill=\"none\"/>\n",
              "    <path d=\"M18.56 5.44l.94 2.06.94-2.06 2.06-.94-2.06-.94-.94-2.06-.94 2.06-2.06.94zm-11 1L8.5 8.5l.94-2.06 2.06-.94-2.06-.94L8.5 2.5l-.94 2.06-2.06.94zm10 10l.94 2.06.94-2.06 2.06-.94-2.06-.94-.94-2.06-.94 2.06-2.06.94z\"/><path d=\"M17.41 7.96l-1.37-1.37c-.4-.4-.92-.59-1.43-.59-.52 0-1.04.2-1.43.59L10.3 9.45l-7.72 7.72c-.78.78-.78 2.05 0 2.83L4 21.41c.39.39.9.59 1.41.59.51 0 1.02-.2 1.41-.59l7.78-7.78 2.81-2.81c.8-.78.8-2.07 0-2.86zM5.41 20L4 18.59l7.72-7.72 1.47 1.35L5.41 20z\"/>\n",
              "  </svg>\n",
              "      </button>\n",
              "      \n",
              "  <style>\n",
              "    .colab-df-container {\n",
              "      display:flex;\n",
              "      flex-wrap:wrap;\n",
              "      gap: 12px;\n",
              "    }\n",
              "\n",
              "    .colab-df-convert {\n",
              "      background-color: #E8F0FE;\n",
              "      border: none;\n",
              "      border-radius: 50%;\n",
              "      cursor: pointer;\n",
              "      display: none;\n",
              "      fill: #1967D2;\n",
              "      height: 32px;\n",
              "      padding: 0 0 0 0;\n",
              "      width: 32px;\n",
              "    }\n",
              "\n",
              "    .colab-df-convert:hover {\n",
              "      background-color: #E2EBFA;\n",
              "      box-shadow: 0px 1px 2px rgba(60, 64, 67, 0.3), 0px 1px 3px 1px rgba(60, 64, 67, 0.15);\n",
              "      fill: #174EA6;\n",
              "    }\n",
              "\n",
              "    [theme=dark] .colab-df-convert {\n",
              "      background-color: #3B4455;\n",
              "      fill: #D2E3FC;\n",
              "    }\n",
              "\n",
              "    [theme=dark] .colab-df-convert:hover {\n",
              "      background-color: #434B5C;\n",
              "      box-shadow: 0px 1px 3px 1px rgba(0, 0, 0, 0.15);\n",
              "      filter: drop-shadow(0px 1px 2px rgba(0, 0, 0, 0.3));\n",
              "      fill: #FFFFFF;\n",
              "    }\n",
              "  </style>\n",
              "\n",
              "      <script>\n",
              "        const buttonEl =\n",
              "          document.querySelector('#df-75661622-2ebe-42da-a4cd-abf5e8858f33 button.colab-df-convert');\n",
              "        buttonEl.style.display =\n",
              "          google.colab.kernel.accessAllowed ? 'block' : 'none';\n",
              "\n",
              "        async function convertToInteractive(key) {\n",
              "          const element = document.querySelector('#df-75661622-2ebe-42da-a4cd-abf5e8858f33');\n",
              "          const dataTable =\n",
              "            await google.colab.kernel.invokeFunction('convertToInteractive',\n",
              "                                                     [key], {});\n",
              "          if (!dataTable) return;\n",
              "\n",
              "          const docLinkHtml = 'Like what you see? Visit the ' +\n",
              "            '<a target=\"_blank\" href=https://colab.research.google.com/notebooks/data_table.ipynb>data table notebook</a>'\n",
              "            + ' to learn more about interactive tables.';\n",
              "          element.innerHTML = '';\n",
              "          dataTable['output_type'] = 'display_data';\n",
              "          await google.colab.output.renderOutput(dataTable, element);\n",
              "          const docLink = document.createElement('div');\n",
              "          docLink.innerHTML = docLinkHtml;\n",
              "          element.appendChild(docLink);\n",
              "        }\n",
              "      </script>\n",
              "    </div>\n",
              "  </div>\n",
              "  "
            ],
            "text/plain": [
              "              Store     DayOfWeek         Sales     Customers          Open  \\\n",
              "count  1.017209e+06  1.017209e+06  1.017209e+06  1.017209e+06  1.017209e+06   \n",
              "mean   5.584297e+02  3.998341e+00  5.773819e+03  6.331459e+02  8.301067e-01   \n",
              "std    3.219087e+02  1.997391e+00  3.849926e+03  4.644117e+02  3.755392e-01   \n",
              "min    1.000000e+00  1.000000e+00  0.000000e+00  0.000000e+00  0.000000e+00   \n",
              "25%    2.800000e+02  2.000000e+00  3.727000e+03  4.050000e+02  1.000000e+00   \n",
              "50%    5.580000e+02  4.000000e+00  5.744000e+03  6.090000e+02  1.000000e+00   \n",
              "75%    8.380000e+02  6.000000e+00  7.856000e+03  8.370000e+02  1.000000e+00   \n",
              "max    1.115000e+03  7.000000e+00  4.155100e+04  7.388000e+03  1.000000e+00   \n",
              "\n",
              "              Promo  SchoolHoliday  CompetitionDistance  \\\n",
              "count  1.017209e+06   1.017209e+06         1.014567e+06   \n",
              "mean   3.815145e-01   1.786467e-01         5.430086e+03   \n",
              "std    4.857586e-01   3.830564e-01         7.715324e+03   \n",
              "min    0.000000e+00   0.000000e+00         2.000000e+01   \n",
              "25%    0.000000e+00   0.000000e+00         7.100000e+02   \n",
              "50%    0.000000e+00   0.000000e+00         2.330000e+03   \n",
              "75%    1.000000e+00   0.000000e+00         6.890000e+03   \n",
              "max    1.000000e+00   1.000000e+00         7.586000e+04   \n",
              "\n",
              "       CompetitionOpenSinceMonth  CompetitionOpenSinceYear        Promo2  \\\n",
              "count              693861.000000             693861.000000  1.017209e+06   \n",
              "mean                    7.222866               2008.690228  5.005638e-01   \n",
              "std                     3.211832                  5.992644  4.999999e-01   \n",
              "min                     1.000000               1900.000000  0.000000e+00   \n",
              "25%                     4.000000               2006.000000  0.000000e+00   \n",
              "50%                     8.000000               2010.000000  1.000000e+00   \n",
              "75%                    10.000000               2013.000000  1.000000e+00   \n",
              "max                    12.000000               2015.000000  1.000000e+00   \n",
              "\n",
              "       Promo2SinceWeek  Promo2SinceYear  \n",
              "count    509178.000000    509178.000000  \n",
              "mean         23.269093      2011.752774  \n",
              "std          14.095973         1.662870  \n",
              "min           1.000000      2009.000000  \n",
              "25%          13.000000      2011.000000  \n",
              "50%          22.000000      2012.000000  \n",
              "75%          37.000000      2013.000000  \n",
              "max          50.000000      2015.000000  "
            ]
          },
          "metadata": {},
          "execution_count": 8
        }
      ],
      "source": [
        "df.describe()"
      ]
    },
    {
      "cell_type": "code",
      "execution_count": null,
      "metadata": {
        "id": "W4d6W_EnUETL",
        "colab": {
          "base_uri": "https://localhost:8080/"
        },
        "outputId": "01d7245e-03cd-49fa-c648-6bf699c454d6"
      },
      "outputs": [
        {
          "output_type": "execute_result",
          "data": {
            "text/html": [
              "\n",
              "  <div id=\"df-3d7a158e-7db9-4fb0-9f27-8d4d0bd4a708\">\n",
              "    <div class=\"colab-df-container\">\n",
              "      <div>\n",
              "<style scoped>\n",
              "    .dataframe tbody tr th:only-of-type {\n",
              "        vertical-align: middle;\n",
              "    }\n",
              "\n",
              "    .dataframe tbody tr th {\n",
              "        vertical-align: top;\n",
              "    }\n",
              "\n",
              "    .dataframe thead th {\n",
              "        text-align: right;\n",
              "    }\n",
              "</style>\n",
              "<table border=\"1\" class=\"dataframe\">\n",
              "  <thead>\n",
              "    <tr style=\"text-align: right;\">\n",
              "      <th></th>\n",
              "      <th>dtype</th>\n",
              "      <th>Unique</th>\n",
              "      <th>Num_ofNullValues</th>\n",
              "      <th>Num_nonNullValues</th>\n",
              "      <th>percent_ofNullValues</th>\n",
              "    </tr>\n",
              "  </thead>\n",
              "  <tbody>\n",
              "    <tr>\n",
              "      <th>Store</th>\n",
              "      <td>int64</td>\n",
              "      <td>1115</td>\n",
              "      <td>0</td>\n",
              "      <td>1017209</td>\n",
              "      <td>0.000000</td>\n",
              "    </tr>\n",
              "    <tr>\n",
              "      <th>DayOfWeek</th>\n",
              "      <td>int64</td>\n",
              "      <td>7</td>\n",
              "      <td>0</td>\n",
              "      <td>1017209</td>\n",
              "      <td>0.000000</td>\n",
              "    </tr>\n",
              "    <tr>\n",
              "      <th>Date</th>\n",
              "      <td>object</td>\n",
              "      <td>942</td>\n",
              "      <td>0</td>\n",
              "      <td>1017209</td>\n",
              "      <td>0.000000</td>\n",
              "    </tr>\n",
              "    <tr>\n",
              "      <th>Sales</th>\n",
              "      <td>int64</td>\n",
              "      <td>21734</td>\n",
              "      <td>0</td>\n",
              "      <td>1017209</td>\n",
              "      <td>0.000000</td>\n",
              "    </tr>\n",
              "    <tr>\n",
              "      <th>Customers</th>\n",
              "      <td>int64</td>\n",
              "      <td>4086</td>\n",
              "      <td>0</td>\n",
              "      <td>1017209</td>\n",
              "      <td>0.000000</td>\n",
              "    </tr>\n",
              "    <tr>\n",
              "      <th>Open</th>\n",
              "      <td>int64</td>\n",
              "      <td>2</td>\n",
              "      <td>0</td>\n",
              "      <td>1017209</td>\n",
              "      <td>0.000000</td>\n",
              "    </tr>\n",
              "    <tr>\n",
              "      <th>Promo</th>\n",
              "      <td>int64</td>\n",
              "      <td>2</td>\n",
              "      <td>0</td>\n",
              "      <td>1017209</td>\n",
              "      <td>0.000000</td>\n",
              "    </tr>\n",
              "    <tr>\n",
              "      <th>StateHoliday</th>\n",
              "      <td>object</td>\n",
              "      <td>5</td>\n",
              "      <td>0</td>\n",
              "      <td>1017209</td>\n",
              "      <td>0.000000</td>\n",
              "    </tr>\n",
              "    <tr>\n",
              "      <th>SchoolHoliday</th>\n",
              "      <td>int64</td>\n",
              "      <td>2</td>\n",
              "      <td>0</td>\n",
              "      <td>1017209</td>\n",
              "      <td>0.000000</td>\n",
              "    </tr>\n",
              "    <tr>\n",
              "      <th>StoreType</th>\n",
              "      <td>object</td>\n",
              "      <td>4</td>\n",
              "      <td>0</td>\n",
              "      <td>1017209</td>\n",
              "      <td>0.000000</td>\n",
              "    </tr>\n",
              "    <tr>\n",
              "      <th>Assortment</th>\n",
              "      <td>object</td>\n",
              "      <td>3</td>\n",
              "      <td>0</td>\n",
              "      <td>1017209</td>\n",
              "      <td>0.000000</td>\n",
              "    </tr>\n",
              "    <tr>\n",
              "      <th>CompetitionDistance</th>\n",
              "      <td>float64</td>\n",
              "      <td>654</td>\n",
              "      <td>2642</td>\n",
              "      <td>1014567</td>\n",
              "      <td>0.259730</td>\n",
              "    </tr>\n",
              "    <tr>\n",
              "      <th>CompetitionOpenSinceMonth</th>\n",
              "      <td>float64</td>\n",
              "      <td>12</td>\n",
              "      <td>323348</td>\n",
              "      <td>693861</td>\n",
              "      <td>31.787764</td>\n",
              "    </tr>\n",
              "    <tr>\n",
              "      <th>CompetitionOpenSinceYear</th>\n",
              "      <td>float64</td>\n",
              "      <td>23</td>\n",
              "      <td>323348</td>\n",
              "      <td>693861</td>\n",
              "      <td>31.787764</td>\n",
              "    </tr>\n",
              "    <tr>\n",
              "      <th>Promo2</th>\n",
              "      <td>int64</td>\n",
              "      <td>2</td>\n",
              "      <td>0</td>\n",
              "      <td>1017209</td>\n",
              "      <td>0.000000</td>\n",
              "    </tr>\n",
              "    <tr>\n",
              "      <th>Promo2SinceWeek</th>\n",
              "      <td>float64</td>\n",
              "      <td>24</td>\n",
              "      <td>508031</td>\n",
              "      <td>509178</td>\n",
              "      <td>49.943620</td>\n",
              "    </tr>\n",
              "    <tr>\n",
              "      <th>Promo2SinceYear</th>\n",
              "      <td>float64</td>\n",
              "      <td>7</td>\n",
              "      <td>508031</td>\n",
              "      <td>509178</td>\n",
              "      <td>49.943620</td>\n",
              "    </tr>\n",
              "    <tr>\n",
              "      <th>PromoInterval</th>\n",
              "      <td>object</td>\n",
              "      <td>3</td>\n",
              "      <td>508031</td>\n",
              "      <td>509178</td>\n",
              "      <td>49.943620</td>\n",
              "    </tr>\n",
              "  </tbody>\n",
              "</table>\n",
              "</div>\n",
              "      <button class=\"colab-df-convert\" onclick=\"convertToInteractive('df-3d7a158e-7db9-4fb0-9f27-8d4d0bd4a708')\"\n",
              "              title=\"Convert this dataframe to an interactive table.\"\n",
              "              style=\"display:none;\">\n",
              "        \n",
              "  <svg xmlns=\"http://www.w3.org/2000/svg\" height=\"24px\"viewBox=\"0 0 24 24\"\n",
              "       width=\"24px\">\n",
              "    <path d=\"M0 0h24v24H0V0z\" fill=\"none\"/>\n",
              "    <path d=\"M18.56 5.44l.94 2.06.94-2.06 2.06-.94-2.06-.94-.94-2.06-.94 2.06-2.06.94zm-11 1L8.5 8.5l.94-2.06 2.06-.94-2.06-.94L8.5 2.5l-.94 2.06-2.06.94zm10 10l.94 2.06.94-2.06 2.06-.94-2.06-.94-.94-2.06-.94 2.06-2.06.94z\"/><path d=\"M17.41 7.96l-1.37-1.37c-.4-.4-.92-.59-1.43-.59-.52 0-1.04.2-1.43.59L10.3 9.45l-7.72 7.72c-.78.78-.78 2.05 0 2.83L4 21.41c.39.39.9.59 1.41.59.51 0 1.02-.2 1.41-.59l7.78-7.78 2.81-2.81c.8-.78.8-2.07 0-2.86zM5.41 20L4 18.59l7.72-7.72 1.47 1.35L5.41 20z\"/>\n",
              "  </svg>\n",
              "      </button>\n",
              "      \n",
              "  <style>\n",
              "    .colab-df-container {\n",
              "      display:flex;\n",
              "      flex-wrap:wrap;\n",
              "      gap: 12px;\n",
              "    }\n",
              "\n",
              "    .colab-df-convert {\n",
              "      background-color: #E8F0FE;\n",
              "      border: none;\n",
              "      border-radius: 50%;\n",
              "      cursor: pointer;\n",
              "      display: none;\n",
              "      fill: #1967D2;\n",
              "      height: 32px;\n",
              "      padding: 0 0 0 0;\n",
              "      width: 32px;\n",
              "    }\n",
              "\n",
              "    .colab-df-convert:hover {\n",
              "      background-color: #E2EBFA;\n",
              "      box-shadow: 0px 1px 2px rgba(60, 64, 67, 0.3), 0px 1px 3px 1px rgba(60, 64, 67, 0.15);\n",
              "      fill: #174EA6;\n",
              "    }\n",
              "\n",
              "    [theme=dark] .colab-df-convert {\n",
              "      background-color: #3B4455;\n",
              "      fill: #D2E3FC;\n",
              "    }\n",
              "\n",
              "    [theme=dark] .colab-df-convert:hover {\n",
              "      background-color: #434B5C;\n",
              "      box-shadow: 0px 1px 3px 1px rgba(0, 0, 0, 0.15);\n",
              "      filter: drop-shadow(0px 1px 2px rgba(0, 0, 0, 0.3));\n",
              "      fill: #FFFFFF;\n",
              "    }\n",
              "  </style>\n",
              "\n",
              "      <script>\n",
              "        const buttonEl =\n",
              "          document.querySelector('#df-3d7a158e-7db9-4fb0-9f27-8d4d0bd4a708 button.colab-df-convert');\n",
              "        buttonEl.style.display =\n",
              "          google.colab.kernel.accessAllowed ? 'block' : 'none';\n",
              "\n",
              "        async function convertToInteractive(key) {\n",
              "          const element = document.querySelector('#df-3d7a158e-7db9-4fb0-9f27-8d4d0bd4a708');\n",
              "          const dataTable =\n",
              "            await google.colab.kernel.invokeFunction('convertToInteractive',\n",
              "                                                     [key], {});\n",
              "          if (!dataTable) return;\n",
              "\n",
              "          const docLinkHtml = 'Like what you see? Visit the ' +\n",
              "            '<a target=\"_blank\" href=https://colab.research.google.com/notebooks/data_table.ipynb>data table notebook</a>'\n",
              "            + ' to learn more about interactive tables.';\n",
              "          element.innerHTML = '';\n",
              "          dataTable['output_type'] = 'display_data';\n",
              "          await google.colab.output.renderOutput(dataTable, element);\n",
              "          const docLink = document.createElement('div');\n",
              "          docLink.innerHTML = docLinkHtml;\n",
              "          element.appendChild(docLink);\n",
              "        }\n",
              "      </script>\n",
              "    </div>\n",
              "  </div>\n",
              "  "
            ],
            "text/plain": [
              "                             dtype  Unique  Num_ofNullValues  \\\n",
              "Store                        int64    1115                 0   \n",
              "DayOfWeek                    int64       7                 0   \n",
              "Date                        object     942                 0   \n",
              "Sales                        int64   21734                 0   \n",
              "Customers                    int64    4086                 0   \n",
              "Open                         int64       2                 0   \n",
              "Promo                        int64       2                 0   \n",
              "StateHoliday                object       5                 0   \n",
              "SchoolHoliday                int64       2                 0   \n",
              "StoreType                   object       4                 0   \n",
              "Assortment                  object       3                 0   \n",
              "CompetitionDistance        float64     654              2642   \n",
              "CompetitionOpenSinceMonth  float64      12            323348   \n",
              "CompetitionOpenSinceYear   float64      23            323348   \n",
              "Promo2                       int64       2                 0   \n",
              "Promo2SinceWeek            float64      24            508031   \n",
              "Promo2SinceYear            float64       7            508031   \n",
              "PromoInterval               object       3            508031   \n",
              "\n",
              "                           Num_nonNullValues  percent_ofNullValues  \n",
              "Store                                1017209              0.000000  \n",
              "DayOfWeek                            1017209              0.000000  \n",
              "Date                                 1017209              0.000000  \n",
              "Sales                                1017209              0.000000  \n",
              "Customers                            1017209              0.000000  \n",
              "Open                                 1017209              0.000000  \n",
              "Promo                                1017209              0.000000  \n",
              "StateHoliday                         1017209              0.000000  \n",
              "SchoolHoliday                        1017209              0.000000  \n",
              "StoreType                            1017209              0.000000  \n",
              "Assortment                           1017209              0.000000  \n",
              "CompetitionDistance                  1014567              0.259730  \n",
              "CompetitionOpenSinceMonth             693861             31.787764  \n",
              "CompetitionOpenSinceYear              693861             31.787764  \n",
              "Promo2                               1017209              0.000000  \n",
              "Promo2SinceWeek                       509178             49.943620  \n",
              "Promo2SinceYear                       509178             49.943620  \n",
              "PromoInterval                         509178             49.943620  "
            ]
          },
          "metadata": {},
          "execution_count": 9
        }
      ],
      "source": [
        "#Make a function for detail information.\n",
        "def Detailed_info(DataFrame):\n",
        "  '''This Function will give detailed information with clearity about the DataFrame it will provide:\n",
        "      1.Columns name,2.Data type,3.Unique in Data frame,4.Total nulls,5.Not Nulls,6.Percentage of Nulls\n",
        "  '''\n",
        "  info = pd.DataFrame(index=DataFrame.columns)\n",
        "  info['dtype'] = DataFrame.dtypes\n",
        "  info['Unique'] = DataFrame.nunique()\n",
        "  info['Num_ofNullValues'] = DataFrame.isnull().sum()\n",
        "  info['Num_nonNullValues'] = DataFrame.count()\n",
        "  info['percent_ofNullValues'] = info['Num_ofNullValues']/len(DataFrame) * 100\n",
        "  return info\n",
        "\n",
        "#Call the above function.\n",
        "Detailed_info(df)"
      ]
    },
    {
      "cell_type": "markdown",
      "metadata": {
        "id": "6TBn6Zu1mVhc"
      },
      "source": [
        "**Observations:-**\n",
        "* Features with Datatype string are (Date,StateHoliday,StoreType,Assortment and Promointerval.)\n",
        "* Features with majority of nulls in them are (Promo2Since week,Promo2SinceYear,Promonterval,competitionOpenSinceMonth,CompetitionOpenSinceYear)\n",
        "* From the description and the unique Elements in the Features we come to know that we have lots of categorical based features.\n",
        "* Our Target variable \"Sales\" is a Continuous Type.\n",
        "\n",
        "* **Lets Dig deeper into our Data set and performe some operations to clean these features and make them suitable to visualize and use them in best of their availability.**"
      ]
    },
    {
      "cell_type": "markdown",
      "metadata": {
        "id": "AnkNI9TC1Nuv"
      },
      "source": [
        "#**2.Preprocessing & Feature Enigeering.**\n",
        "\n",
        "\n",
        " "
      ]
    },
    {
      "cell_type": "markdown",
      "metadata": {
        "id": "-Pa9nxiqqjgo"
      },
      "source": [
        "#Feature Transformation"
      ]
    },
    {
      "cell_type": "code",
      "execution_count": null,
      "metadata": {
        "colab": {
          "base_uri": "https://localhost:8080/"
        },
        "id": "08kAdC1tpwYw",
        "outputId": "7032adc4-765a-45cd-98a8-3209d7487a24"
      },
      "outputs": [
        {
          "output_type": "stream",
          "name": "stdout",
          "text": [
            "Store\n",
            "[   1    2    3 ... 1113 1114 1115]\n",
            "DayOfWeek\n",
            "[5 4 3 2 1 7 6]\n",
            "Sales\n",
            "[ 5263  6064  8314 ...   660 17815 23303]\n",
            "Customers\n",
            "[ 555  625  821 ... 3900   36 4065]\n",
            "Open\n",
            "[1 0]\n",
            "Promo\n",
            "[1 0]\n",
            "StateHoliday\n",
            "['0' 'a' 'b' 'c' 0]\n",
            "SchoolHoliday\n",
            "[1 0]\n",
            "StoreType\n",
            "['c' 'a' 'd' 'b']\n",
            "Assortment\n",
            "['a' 'c' 'b']\n",
            "CompetitionOpenSinceMonth\n",
            "[ 9. 11. 12.  4. 10.  8. nan  3.  6.  5.  1.  2.  7.]\n",
            "CompetitionOpenSinceYear\n",
            "[2008. 2007. 2006. 2009. 2015. 2013. 2014. 2000. 2011.   nan 2010. 2005.\n",
            " 1999. 2003. 2012. 2004. 2002. 1961. 1995. 2001. 1990. 1994. 1900. 1998.]\n",
            "Promo2\n",
            "[0 1]\n",
            "Promo2SinceWeek\n",
            "[nan 13. 14.  1. 45. 40. 26. 22.  5.  6. 10. 31. 37.  9. 39. 27. 18. 35.\n",
            " 23. 48. 36. 50. 44. 49. 28.]\n",
            "Promo2SinceYear\n",
            "[  nan 2010. 2011. 2012. 2009. 2014. 2015. 2013.]\n",
            "PromoInterval\n",
            "[nan 'Jan,Apr,Jul,Oct' 'Feb,May,Aug,Nov' 'Mar,Jun,Sept,Dec']\n"
          ]
        }
      ],
      "source": [
        "#get the unique values for features in data set.\n",
        "columns = list(df.columns)\n",
        "columns.remove('Date')\n",
        "columns.remove('CompetitionDistance')\n",
        "for i in columns:\n",
        "    print(i)\n",
        "    print(df[i].unique())"
      ]
    },
    {
      "cell_type": "code",
      "execution_count": null,
      "metadata": {
        "colab": {
          "base_uri": "https://localhost:8080/",
          "height": 1000
        },
        "id": "cNJ2EPKhrQq8",
        "outputId": "591d37b1-9b3c-4264-95f6-67685045b205"
      },
      "outputs": [
        {
          "output_type": "execute_result",
          "data": {
            "text/html": [
              "\n",
              "  <div id=\"df-d9a3b7c2-52bc-4508-9825-134976f8e2ed\">\n",
              "    <div class=\"colab-df-container\">\n",
              "      <div>\n",
              "<style scoped>\n",
              "    .dataframe tbody tr th:only-of-type {\n",
              "        vertical-align: middle;\n",
              "    }\n",
              "\n",
              "    .dataframe tbody tr th {\n",
              "        vertical-align: top;\n",
              "    }\n",
              "\n",
              "    .dataframe thead th {\n",
              "        text-align: right;\n",
              "    }\n",
              "</style>\n",
              "<table border=\"1\" class=\"dataframe\">\n",
              "  <thead>\n",
              "    <tr style=\"text-align: right;\">\n",
              "      <th></th>\n",
              "      <th>Store</th>\n",
              "      <th>DayOfWeek</th>\n",
              "      <th>Date</th>\n",
              "      <th>Sales</th>\n",
              "      <th>Customers</th>\n",
              "      <th>Open</th>\n",
              "      <th>Promo</th>\n",
              "      <th>StateHoliday</th>\n",
              "      <th>SchoolHoliday</th>\n",
              "      <th>StoreType</th>\n",
              "      <th>Assortment</th>\n",
              "      <th>CompetitionDistance</th>\n",
              "      <th>CompetitionOpenSinceMonth</th>\n",
              "      <th>CompetitionOpenSinceYear</th>\n",
              "      <th>Promo2</th>\n",
              "      <th>Promo2SinceWeek</th>\n",
              "      <th>Promo2SinceYear</th>\n",
              "      <th>PromoInterval</th>\n",
              "    </tr>\n",
              "  </thead>\n",
              "  <tbody>\n",
              "    <tr>\n",
              "      <th>321275</th>\n",
              "      <td>892</td>\n",
              "      <td>4</td>\n",
              "      <td>2014-10-02</td>\n",
              "      <td>9388</td>\n",
              "      <td>1040</td>\n",
              "      <td>1</td>\n",
              "      <td>1</td>\n",
              "      <td>0</td>\n",
              "      <td>0</td>\n",
              "      <td>a</td>\n",
              "      <td>a</td>\n",
              "      <td>19370.0</td>\n",
              "      <td>4.0</td>\n",
              "      <td>2002.0</td>\n",
              "      <td>0</td>\n",
              "      <td>NaN</td>\n",
              "      <td>NaN</td>\n",
              "      <td>NaN</td>\n",
              "    </tr>\n",
              "    <tr>\n",
              "      <th>55358</th>\n",
              "      <td>724</td>\n",
              "      <td>5</td>\n",
              "      <td>2015-06-12</td>\n",
              "      <td>6515</td>\n",
              "      <td>676</td>\n",
              "      <td>1</td>\n",
              "      <td>0</td>\n",
              "      <td>0</td>\n",
              "      <td>0</td>\n",
              "      <td>d</td>\n",
              "      <td>c</td>\n",
              "      <td>5900.0</td>\n",
              "      <td>NaN</td>\n",
              "      <td>NaN</td>\n",
              "      <td>0</td>\n",
              "      <td>NaN</td>\n",
              "      <td>NaN</td>\n",
              "      <td>NaN</td>\n",
              "    </tr>\n",
              "    <tr>\n",
              "      <th>374213</th>\n",
              "      <td>462</td>\n",
              "      <td>3</td>\n",
              "      <td>2014-08-06</td>\n",
              "      <td>5272</td>\n",
              "      <td>680</td>\n",
              "      <td>1</td>\n",
              "      <td>1</td>\n",
              "      <td>0</td>\n",
              "      <td>1</td>\n",
              "      <td>a</td>\n",
              "      <td>a</td>\n",
              "      <td>44320.0</td>\n",
              "      <td>8.0</td>\n",
              "      <td>2008.0</td>\n",
              "      <td>0</td>\n",
              "      <td>NaN</td>\n",
              "      <td>NaN</td>\n",
              "      <td>NaN</td>\n",
              "    </tr>\n",
              "    <tr>\n",
              "      <th>679798</th>\n",
              "      <td>434</td>\n",
              "      <td>3</td>\n",
              "      <td>2013-10-30</td>\n",
              "      <td>7297</td>\n",
              "      <td>639</td>\n",
              "      <td>1</td>\n",
              "      <td>0</td>\n",
              "      <td>0</td>\n",
              "      <td>1</td>\n",
              "      <td>a</td>\n",
              "      <td>a</td>\n",
              "      <td>13020.0</td>\n",
              "      <td>8.0</td>\n",
              "      <td>2003.0</td>\n",
              "      <td>1</td>\n",
              "      <td>40.0</td>\n",
              "      <td>2014.0</td>\n",
              "      <td>Jan,Apr,Jul,Oct</td>\n",
              "    </tr>\n",
              "    <tr>\n",
              "      <th>579729</th>\n",
              "      <td>715</td>\n",
              "      <td>2</td>\n",
              "      <td>2014-01-28</td>\n",
              "      <td>5046</td>\n",
              "      <td>568</td>\n",
              "      <td>1</td>\n",
              "      <td>0</td>\n",
              "      <td>0</td>\n",
              "      <td>0</td>\n",
              "      <td>a</td>\n",
              "      <td>a</td>\n",
              "      <td>14810.0</td>\n",
              "      <td>6.0</td>\n",
              "      <td>2014.0</td>\n",
              "      <td>0</td>\n",
              "      <td>NaN</td>\n",
              "      <td>NaN</td>\n",
              "      <td>NaN</td>\n",
              "    </tr>\n",
              "    <tr>\n",
              "      <th>506544</th>\n",
              "      <td>5</td>\n",
              "      <td>4</td>\n",
              "      <td>2014-04-03</td>\n",
              "      <td>4853</td>\n",
              "      <td>605</td>\n",
              "      <td>1</td>\n",
              "      <td>1</td>\n",
              "      <td>0</td>\n",
              "      <td>0</td>\n",
              "      <td>a</td>\n",
              "      <td>a</td>\n",
              "      <td>29910.0</td>\n",
              "      <td>4.0</td>\n",
              "      <td>2015.0</td>\n",
              "      <td>0</td>\n",
              "      <td>NaN</td>\n",
              "      <td>NaN</td>\n",
              "      <td>NaN</td>\n",
              "    </tr>\n",
              "    <tr>\n",
              "      <th>248304</th>\n",
              "      <td>845</td>\n",
              "      <td>5</td>\n",
              "      <td>2014-12-19</td>\n",
              "      <td>7114</td>\n",
              "      <td>453</td>\n",
              "      <td>1</td>\n",
              "      <td>1</td>\n",
              "      <td>0</td>\n",
              "      <td>0</td>\n",
              "      <td>d</td>\n",
              "      <td>a</td>\n",
              "      <td>7860.0</td>\n",
              "      <td>11.0</td>\n",
              "      <td>2005.0</td>\n",
              "      <td>1</td>\n",
              "      <td>14.0</td>\n",
              "      <td>2011.0</td>\n",
              "      <td>Jan,Apr,Jul,Oct</td>\n",
              "    </tr>\n",
              "    <tr>\n",
              "      <th>212492</th>\n",
              "      <td>643</td>\n",
              "      <td>4</td>\n",
              "      <td>2015-01-22</td>\n",
              "      <td>6480</td>\n",
              "      <td>904</td>\n",
              "      <td>1</td>\n",
              "      <td>0</td>\n",
              "      <td>0</td>\n",
              "      <td>0</td>\n",
              "      <td>a</td>\n",
              "      <td>a</td>\n",
              "      <td>230.0</td>\n",
              "      <td>6.0</td>\n",
              "      <td>2010.0</td>\n",
              "      <td>1</td>\n",
              "      <td>18.0</td>\n",
              "      <td>2010.0</td>\n",
              "      <td>Feb,May,Aug,Nov</td>\n",
              "    </tr>\n",
              "    <tr>\n",
              "      <th>566711</th>\n",
              "      <td>1077</td>\n",
              "      <td>7</td>\n",
              "      <td>2014-02-09</td>\n",
              "      <td>0</td>\n",
              "      <td>0</td>\n",
              "      <td>0</td>\n",
              "      <td>0</td>\n",
              "      <td>0</td>\n",
              "      <td>0</td>\n",
              "      <td>a</td>\n",
              "      <td>a</td>\n",
              "      <td>3750.0</td>\n",
              "      <td>11.0</td>\n",
              "      <td>2001.0</td>\n",
              "      <td>1</td>\n",
              "      <td>35.0</td>\n",
              "      <td>2010.0</td>\n",
              "      <td>Mar,Jun,Sept,Dec</td>\n",
              "    </tr>\n",
              "    <tr>\n",
              "      <th>698380</th>\n",
              "      <td>61</td>\n",
              "      <td>7</td>\n",
              "      <td>2013-10-13</td>\n",
              "      <td>0</td>\n",
              "      <td>0</td>\n",
              "      <td>0</td>\n",
              "      <td>0</td>\n",
              "      <td>0</td>\n",
              "      <td>0</td>\n",
              "      <td>a</td>\n",
              "      <td>c</td>\n",
              "      <td>350.0</td>\n",
              "      <td>12.0</td>\n",
              "      <td>2007.0</td>\n",
              "      <td>1</td>\n",
              "      <td>1.0</td>\n",
              "      <td>2012.0</td>\n",
              "      <td>Jan,Apr,Jul,Oct</td>\n",
              "    </tr>\n",
              "    <tr>\n",
              "      <th>35143</th>\n",
              "      <td>579</td>\n",
              "      <td>2</td>\n",
              "      <td>2015-06-30</td>\n",
              "      <td>12801</td>\n",
              "      <td>1086</td>\n",
              "      <td>1</td>\n",
              "      <td>1</td>\n",
              "      <td>0</td>\n",
              "      <td>1</td>\n",
              "      <td>c</td>\n",
              "      <td>a</td>\n",
              "      <td>20970.0</td>\n",
              "      <td>11.0</td>\n",
              "      <td>2012.0</td>\n",
              "      <td>0</td>\n",
              "      <td>NaN</td>\n",
              "      <td>NaN</td>\n",
              "      <td>NaN</td>\n",
              "    </tr>\n",
              "    <tr>\n",
              "      <th>134765</th>\n",
              "      <td>966</td>\n",
              "      <td>4</td>\n",
              "      <td>2015-04-02</td>\n",
              "      <td>6795</td>\n",
              "      <td>818</td>\n",
              "      <td>1</td>\n",
              "      <td>1</td>\n",
              "      <td>0</td>\n",
              "      <td>1</td>\n",
              "      <td>a</td>\n",
              "      <td>a</td>\n",
              "      <td>760.0</td>\n",
              "      <td>2.0</td>\n",
              "      <td>2008.0</td>\n",
              "      <td>0</td>\n",
              "      <td>NaN</td>\n",
              "      <td>NaN</td>\n",
              "      <td>NaN</td>\n",
              "    </tr>\n",
              "    <tr>\n",
              "      <th>767932</th>\n",
              "      <td>483</td>\n",
              "      <td>1</td>\n",
              "      <td>2013-08-12</td>\n",
              "      <td>7366</td>\n",
              "      <td>877</td>\n",
              "      <td>1</td>\n",
              "      <td>1</td>\n",
              "      <td>0</td>\n",
              "      <td>1</td>\n",
              "      <td>a</td>\n",
              "      <td>c</td>\n",
              "      <td>2310.0</td>\n",
              "      <td>9.0</td>\n",
              "      <td>2011.0</td>\n",
              "      <td>1</td>\n",
              "      <td>13.0</td>\n",
              "      <td>2010.0</td>\n",
              "      <td>Jan,Apr,Jul,Oct</td>\n",
              "    </tr>\n",
              "    <tr>\n",
              "      <th>979985</th>\n",
              "      <td>686</td>\n",
              "      <td>7</td>\n",
              "      <td>2013-02-03</td>\n",
              "      <td>0</td>\n",
              "      <td>0</td>\n",
              "      <td>0</td>\n",
              "      <td>0</td>\n",
              "      <td>0</td>\n",
              "      <td>0</td>\n",
              "      <td>a</td>\n",
              "      <td>a</td>\n",
              "      <td>20050.0</td>\n",
              "      <td>4.0</td>\n",
              "      <td>2002.0</td>\n",
              "      <td>0</td>\n",
              "      <td>NaN</td>\n",
              "      <td>NaN</td>\n",
              "      <td>NaN</td>\n",
              "    </tr>\n",
              "    <tr>\n",
              "      <th>943079</th>\n",
              "      <td>575</td>\n",
              "      <td>5</td>\n",
              "      <td>2013-03-08</td>\n",
              "      <td>5674</td>\n",
              "      <td>533</td>\n",
              "      <td>1</td>\n",
              "      <td>1</td>\n",
              "      <td>0</td>\n",
              "      <td>0</td>\n",
              "      <td>a</td>\n",
              "      <td>a</td>\n",
              "      <td>960.0</td>\n",
              "      <td>5.0</td>\n",
              "      <td>2008.0</td>\n",
              "      <td>1</td>\n",
              "      <td>13.0</td>\n",
              "      <td>2010.0</td>\n",
              "      <td>Jan,Apr,Jul,Oct</td>\n",
              "    </tr>\n",
              "    <tr>\n",
              "      <th>766621</th>\n",
              "      <td>287</td>\n",
              "      <td>2</td>\n",
              "      <td>2013-08-13</td>\n",
              "      <td>8496</td>\n",
              "      <td>827</td>\n",
              "      <td>1</td>\n",
              "      <td>1</td>\n",
              "      <td>0</td>\n",
              "      <td>1</td>\n",
              "      <td>c</td>\n",
              "      <td>a</td>\n",
              "      <td>2740.0</td>\n",
              "      <td>5.0</td>\n",
              "      <td>2009.0</td>\n",
              "      <td>1</td>\n",
              "      <td>40.0</td>\n",
              "      <td>2014.0</td>\n",
              "      <td>Jan,Apr,Jul,Oct</td>\n",
              "    </tr>\n",
              "    <tr>\n",
              "      <th>438928</th>\n",
              "      <td>404</td>\n",
              "      <td>2</td>\n",
              "      <td>2014-06-03</td>\n",
              "      <td>6879</td>\n",
              "      <td>732</td>\n",
              "      <td>1</td>\n",
              "      <td>1</td>\n",
              "      <td>0</td>\n",
              "      <td>0</td>\n",
              "      <td>a</td>\n",
              "      <td>c</td>\n",
              "      <td>1420.0</td>\n",
              "      <td>NaN</td>\n",
              "      <td>NaN</td>\n",
              "      <td>1</td>\n",
              "      <td>10.0</td>\n",
              "      <td>2013.0</td>\n",
              "      <td>Mar,Jun,Sept,Dec</td>\n",
              "    </tr>\n",
              "    <tr>\n",
              "      <th>667327</th>\n",
              "      <td>228</td>\n",
              "      <td>7</td>\n",
              "      <td>2013-11-10</td>\n",
              "      <td>0</td>\n",
              "      <td>0</td>\n",
              "      <td>0</td>\n",
              "      <td>0</td>\n",
              "      <td>0</td>\n",
              "      <td>0</td>\n",
              "      <td>d</td>\n",
              "      <td>c</td>\n",
              "      <td>10800.0</td>\n",
              "      <td>NaN</td>\n",
              "      <td>NaN</td>\n",
              "      <td>1</td>\n",
              "      <td>18.0</td>\n",
              "      <td>2011.0</td>\n",
              "      <td>Feb,May,Aug,Nov</td>\n",
              "    </tr>\n",
              "    <tr>\n",
              "      <th>600329</th>\n",
              "      <td>130</td>\n",
              "      <td>4</td>\n",
              "      <td>2014-01-09</td>\n",
              "      <td>4912</td>\n",
              "      <td>573</td>\n",
              "      <td>1</td>\n",
              "      <td>1</td>\n",
              "      <td>0</td>\n",
              "      <td>1</td>\n",
              "      <td>c</td>\n",
              "      <td>a</td>\n",
              "      <td>900.0</td>\n",
              "      <td>NaN</td>\n",
              "      <td>NaN</td>\n",
              "      <td>1</td>\n",
              "      <td>13.0</td>\n",
              "      <td>2010.0</td>\n",
              "      <td>Jan,Apr,Jul,Oct</td>\n",
              "    </tr>\n",
              "    <tr>\n",
              "      <th>808579</th>\n",
              "      <td>990</td>\n",
              "      <td>7</td>\n",
              "      <td>2013-07-07</td>\n",
              "      <td>0</td>\n",
              "      <td>0</td>\n",
              "      <td>0</td>\n",
              "      <td>0</td>\n",
              "      <td>0</td>\n",
              "      <td>0</td>\n",
              "      <td>d</td>\n",
              "      <td>a</td>\n",
              "      <td>20930.0</td>\n",
              "      <td>NaN</td>\n",
              "      <td>NaN</td>\n",
              "      <td>0</td>\n",
              "      <td>NaN</td>\n",
              "      <td>NaN</td>\n",
              "      <td>NaN</td>\n",
              "    </tr>\n",
              "  </tbody>\n",
              "</table>\n",
              "</div>\n",
              "      <button class=\"colab-df-convert\" onclick=\"convertToInteractive('df-d9a3b7c2-52bc-4508-9825-134976f8e2ed')\"\n",
              "              title=\"Convert this dataframe to an interactive table.\"\n",
              "              style=\"display:none;\">\n",
              "        \n",
              "  <svg xmlns=\"http://www.w3.org/2000/svg\" height=\"24px\"viewBox=\"0 0 24 24\"\n",
              "       width=\"24px\">\n",
              "    <path d=\"M0 0h24v24H0V0z\" fill=\"none\"/>\n",
              "    <path d=\"M18.56 5.44l.94 2.06.94-2.06 2.06-.94-2.06-.94-.94-2.06-.94 2.06-2.06.94zm-11 1L8.5 8.5l.94-2.06 2.06-.94-2.06-.94L8.5 2.5l-.94 2.06-2.06.94zm10 10l.94 2.06.94-2.06 2.06-.94-2.06-.94-.94-2.06-.94 2.06-2.06.94z\"/><path d=\"M17.41 7.96l-1.37-1.37c-.4-.4-.92-.59-1.43-.59-.52 0-1.04.2-1.43.59L10.3 9.45l-7.72 7.72c-.78.78-.78 2.05 0 2.83L4 21.41c.39.39.9.59 1.41.59.51 0 1.02-.2 1.41-.59l7.78-7.78 2.81-2.81c.8-.78.8-2.07 0-2.86zM5.41 20L4 18.59l7.72-7.72 1.47 1.35L5.41 20z\"/>\n",
              "  </svg>\n",
              "      </button>\n",
              "      \n",
              "  <style>\n",
              "    .colab-df-container {\n",
              "      display:flex;\n",
              "      flex-wrap:wrap;\n",
              "      gap: 12px;\n",
              "    }\n",
              "\n",
              "    .colab-df-convert {\n",
              "      background-color: #E8F0FE;\n",
              "      border: none;\n",
              "      border-radius: 50%;\n",
              "      cursor: pointer;\n",
              "      display: none;\n",
              "      fill: #1967D2;\n",
              "      height: 32px;\n",
              "      padding: 0 0 0 0;\n",
              "      width: 32px;\n",
              "    }\n",
              "\n",
              "    .colab-df-convert:hover {\n",
              "      background-color: #E2EBFA;\n",
              "      box-shadow: 0px 1px 2px rgba(60, 64, 67, 0.3), 0px 1px 3px 1px rgba(60, 64, 67, 0.15);\n",
              "      fill: #174EA6;\n",
              "    }\n",
              "\n",
              "    [theme=dark] .colab-df-convert {\n",
              "      background-color: #3B4455;\n",
              "      fill: #D2E3FC;\n",
              "    }\n",
              "\n",
              "    [theme=dark] .colab-df-convert:hover {\n",
              "      background-color: #434B5C;\n",
              "      box-shadow: 0px 1px 3px 1px rgba(0, 0, 0, 0.15);\n",
              "      filter: drop-shadow(0px 1px 2px rgba(0, 0, 0, 0.3));\n",
              "      fill: #FFFFFF;\n",
              "    }\n",
              "  </style>\n",
              "\n",
              "      <script>\n",
              "        const buttonEl =\n",
              "          document.querySelector('#df-d9a3b7c2-52bc-4508-9825-134976f8e2ed button.colab-df-convert');\n",
              "        buttonEl.style.display =\n",
              "          google.colab.kernel.accessAllowed ? 'block' : 'none';\n",
              "\n",
              "        async function convertToInteractive(key) {\n",
              "          const element = document.querySelector('#df-d9a3b7c2-52bc-4508-9825-134976f8e2ed');\n",
              "          const dataTable =\n",
              "            await google.colab.kernel.invokeFunction('convertToInteractive',\n",
              "                                                     [key], {});\n",
              "          if (!dataTable) return;\n",
              "\n",
              "          const docLinkHtml = 'Like what you see? Visit the ' +\n",
              "            '<a target=\"_blank\" href=https://colab.research.google.com/notebooks/data_table.ipynb>data table notebook</a>'\n",
              "            + ' to learn more about interactive tables.';\n",
              "          element.innerHTML = '';\n",
              "          dataTable['output_type'] = 'display_data';\n",
              "          await google.colab.output.renderOutput(dataTable, element);\n",
              "          const docLink = document.createElement('div');\n",
              "          docLink.innerHTML = docLinkHtml;\n",
              "          element.appendChild(docLink);\n",
              "        }\n",
              "      </script>\n",
              "    </div>\n",
              "  </div>\n",
              "  "
            ],
            "text/plain": [
              "        Store  DayOfWeek        Date  Sales  Customers  Open  Promo  \\\n",
              "321275    892          4  2014-10-02   9388       1040     1      1   \n",
              "55358     724          5  2015-06-12   6515        676     1      0   \n",
              "374213    462          3  2014-08-06   5272        680     1      1   \n",
              "679798    434          3  2013-10-30   7297        639     1      0   \n",
              "579729    715          2  2014-01-28   5046        568     1      0   \n",
              "506544      5          4  2014-04-03   4853        605     1      1   \n",
              "248304    845          5  2014-12-19   7114        453     1      1   \n",
              "212492    643          4  2015-01-22   6480        904     1      0   \n",
              "566711   1077          7  2014-02-09      0          0     0      0   \n",
              "698380     61          7  2013-10-13      0          0     0      0   \n",
              "35143     579          2  2015-06-30  12801       1086     1      1   \n",
              "134765    966          4  2015-04-02   6795        818     1      1   \n",
              "767932    483          1  2013-08-12   7366        877     1      1   \n",
              "979985    686          7  2013-02-03      0          0     0      0   \n",
              "943079    575          5  2013-03-08   5674        533     1      1   \n",
              "766621    287          2  2013-08-13   8496        827     1      1   \n",
              "438928    404          2  2014-06-03   6879        732     1      1   \n",
              "667327    228          7  2013-11-10      0          0     0      0   \n",
              "600329    130          4  2014-01-09   4912        573     1      1   \n",
              "808579    990          7  2013-07-07      0          0     0      0   \n",
              "\n",
              "       StateHoliday  SchoolHoliday StoreType Assortment  CompetitionDistance  \\\n",
              "321275            0              0         a          a              19370.0   \n",
              "55358             0              0         d          c               5900.0   \n",
              "374213            0              1         a          a              44320.0   \n",
              "679798            0              1         a          a              13020.0   \n",
              "579729            0              0         a          a              14810.0   \n",
              "506544            0              0         a          a              29910.0   \n",
              "248304            0              0         d          a               7860.0   \n",
              "212492            0              0         a          a                230.0   \n",
              "566711            0              0         a          a               3750.0   \n",
              "698380            0              0         a          c                350.0   \n",
              "35143             0              1         c          a              20970.0   \n",
              "134765            0              1         a          a                760.0   \n",
              "767932            0              1         a          c               2310.0   \n",
              "979985            0              0         a          a              20050.0   \n",
              "943079            0              0         a          a                960.0   \n",
              "766621            0              1         c          a               2740.0   \n",
              "438928            0              0         a          c               1420.0   \n",
              "667327            0              0         d          c              10800.0   \n",
              "600329            0              1         c          a                900.0   \n",
              "808579            0              0         d          a              20930.0   \n",
              "\n",
              "        CompetitionOpenSinceMonth  CompetitionOpenSinceYear  Promo2  \\\n",
              "321275                        4.0                    2002.0       0   \n",
              "55358                         NaN                       NaN       0   \n",
              "374213                        8.0                    2008.0       0   \n",
              "679798                        8.0                    2003.0       1   \n",
              "579729                        6.0                    2014.0       0   \n",
              "506544                        4.0                    2015.0       0   \n",
              "248304                       11.0                    2005.0       1   \n",
              "212492                        6.0                    2010.0       1   \n",
              "566711                       11.0                    2001.0       1   \n",
              "698380                       12.0                    2007.0       1   \n",
              "35143                        11.0                    2012.0       0   \n",
              "134765                        2.0                    2008.0       0   \n",
              "767932                        9.0                    2011.0       1   \n",
              "979985                        4.0                    2002.0       0   \n",
              "943079                        5.0                    2008.0       1   \n",
              "766621                        5.0                    2009.0       1   \n",
              "438928                        NaN                       NaN       1   \n",
              "667327                        NaN                       NaN       1   \n",
              "600329                        NaN                       NaN       1   \n",
              "808579                        NaN                       NaN       0   \n",
              "\n",
              "        Promo2SinceWeek  Promo2SinceYear     PromoInterval  \n",
              "321275              NaN              NaN               NaN  \n",
              "55358               NaN              NaN               NaN  \n",
              "374213              NaN              NaN               NaN  \n",
              "679798             40.0           2014.0   Jan,Apr,Jul,Oct  \n",
              "579729              NaN              NaN               NaN  \n",
              "506544              NaN              NaN               NaN  \n",
              "248304             14.0           2011.0   Jan,Apr,Jul,Oct  \n",
              "212492             18.0           2010.0   Feb,May,Aug,Nov  \n",
              "566711             35.0           2010.0  Mar,Jun,Sept,Dec  \n",
              "698380              1.0           2012.0   Jan,Apr,Jul,Oct  \n",
              "35143               NaN              NaN               NaN  \n",
              "134765              NaN              NaN               NaN  \n",
              "767932             13.0           2010.0   Jan,Apr,Jul,Oct  \n",
              "979985              NaN              NaN               NaN  \n",
              "943079             13.0           2010.0   Jan,Apr,Jul,Oct  \n",
              "766621             40.0           2014.0   Jan,Apr,Jul,Oct  \n",
              "438928             10.0           2013.0  Mar,Jun,Sept,Dec  \n",
              "667327             18.0           2011.0   Feb,May,Aug,Nov  \n",
              "600329             13.0           2010.0   Jan,Apr,Jul,Oct  \n",
              "808579              NaN              NaN               NaN  "
            ]
          },
          "metadata": {},
          "execution_count": 28
        }
      ],
      "source": [
        "df.sample(20)"
      ]
    },
    {
      "cell_type": "markdown",
      "metadata": {
        "id": "50urBogPra3Y"
      },
      "source": [
        "**DayOfWeek**\n",
        "* It representsents Day of Week like 1=Monday,2=Tuesday,3=Wednesday,4=Thrusday,5=Friday,6=Saturday,7=Sunday.\n",
        "\n",
        "* **We will verify our above assumption of Days with Sales and Holiday that 7=Sunday.**\n"
      ]
    },
    {
      "cell_type": "code",
      "execution_count": null,
      "metadata": {
        "id": "L_zr3GI_rKaX"
      },
      "outputs": [],
      "source": [
        "df.DayOfWeek.value_counts()"
      ]
    },
    {
      "cell_type": "markdown",
      "metadata": {
        "id": "pbjJHgbsEljv"
      },
      "source": [
        "**Date**\n",
        "* Date itself  is not very useful to us we need months Days and Years to track our sales and customers mood.  \n",
        "* Extract Day, year , months from Date and drop the Date feature itself."
      ]
    },
    {
      "cell_type": "code",
      "execution_count": null,
      "metadata": {
        "colab": {
          "base_uri": "https://localhost:8080/",
          "height": 35
        },
        "id": "OadyKjWy532S",
        "outputId": "cf01efd7-ebf1-43b3-c8e1-72712bc8cddd"
      },
      "outputs": [
        {
          "output_type": "execute_result",
          "data": {
            "application/vnd.google.colaboratory.intrinsic+json": {
              "type": "string"
            },
            "text/plain": [
              "'2015-07-31'"
            ]
          },
          "metadata": {},
          "execution_count": 11
        }
      ],
      "source": [
        "df.Date[1]"
      ]
    },
    {
      "cell_type": "code",
      "execution_count": null,
      "metadata": {
        "id": "EZIlR6_5qeFz"
      },
      "outputs": [],
      "source": [
        "#Create new features Year and month out of Date.\n",
        "df['year'] = df['Date'].apply(lambda x : int(str(x)[0:4]))\n",
        "df['month'] = df['Date'].apply(lambda x : int(str(x)[5:7]))\n",
        "df[\"Day\"]=df[\"Date\"].apply(lambda x: int(str(x)[8:10]))"
      ]
    },
    {
      "cell_type": "code",
      "execution_count": null,
      "metadata": {
        "id": "Gu49pHozrPhV"
      },
      "outputs": [],
      "source": [
        "#Drop the Date feature\n",
        "df.drop([\"Date\"], axis='columns', inplace=True)"
      ]
    },
    {
      "cell_type": "markdown",
      "metadata": {
        "id": "G_hIbihguCPL"
      },
      "source": [
        "* **We added 3 New Features into our Data set & removed 1 Feature Date.**"
      ]
    },
    {
      "cell_type": "markdown",
      "metadata": {
        "id": "CJ7tF0HlCoj2"
      },
      "source": [
        "**StateHoliday**\n",
        "*  In the stateHoliday a = public holiday, b = Easter holiday, c = Christmas holiday, 0 = No State Holidays. \n",
        "* Hence we can consider a,b,c as holiday and imput them with 1.\n",
        "* Then convert column into numeric type\n"
      ]
    },
    {
      "cell_type": "code",
      "execution_count": null,
      "metadata": {
        "colab": {
          "base_uri": "https://localhost:8080/"
        },
        "id": "20X2P8mvwfFb",
        "outputId": "a3e94612-a61b-4230-8ddc-9180f94dc89b"
      },
      "outputs": [
        {
          "output_type": "stream",
          "name": "stdout",
          "text": [
            "['0' 'a' 'b' 'c' 0]\n"
          ]
        }
      ],
      "source": [
        "print(df[\"StateHoliday\"].unique())\n"
      ]
    },
    {
      "cell_type": "code",
      "execution_count": null,
      "metadata": {
        "id": "QNarSj5FvqoT"
      },
      "outputs": [],
      "source": [
        "#Convert the a,b,c into 1 as they represent Holiday\n",
        "df[\"StateHoliday\"] = df['StateHoliday'].apply(lambda x: str(x).replace('a',\"1\") if 'a' in str(x) else x)\n",
        "df[\"StateHoliday\"] = df['StateHoliday'].apply(lambda x: str(x).replace('b',\"1\") if 'b' in str(x) else x)\n",
        "df[\"StateHoliday\"] = df['StateHoliday'].apply(lambda x: str(x).replace('c',\"1\") if 'c' in str(x) else x)\n",
        "\n",
        "df[\"StateHoliday\"] = df[\"StateHoliday\"].astype(int)"
      ]
    },
    {
      "cell_type": "markdown",
      "metadata": {
        "id": "cZx7WQ-gtM4c"
      },
      "source": [
        "* **By doing the above Imputation and conversion we get a categorical values of 0 & 1 for StateHoliday.**"
      ]
    },
    {
      "cell_type": "code",
      "execution_count": null,
      "metadata": {
        "colab": {
          "base_uri": "https://localhost:8080/"
        },
        "id": "Rg1rZtQUDZ1B",
        "outputId": "383cabb4-bf10-45c5-a4d3-cb8cb2cd3e6d"
      },
      "outputs": [
        {
          "output_type": "execute_result",
          "data": {
            "text/plain": [
              "0    986159\n",
              "1     31050\n",
              "Name: StateHoliday, dtype: int64"
            ]
          },
          "metadata": {},
          "execution_count": 16
        }
      ],
      "source": [
        "#cout\n",
        "df[\"StateHoliday\"].value_counts()"
      ]
    },
    {
      "cell_type": "markdown",
      "metadata": {
        "id": "OuLWeoomA_r3"
      },
      "source": [
        "#Handling Missing Values.\n"
      ]
    },
    {
      "cell_type": "code",
      "execution_count": null,
      "metadata": {
        "colab": {
          "base_uri": "https://localhost:8080/"
        },
        "id": "FIo8okeR3rK_",
        "outputId": "e1682269-0cf5-4dfe-b27e-9778e143ca0f"
      },
      "outputs": [
        {
          "output_type": "execute_result",
          "data": {
            "text/plain": [
              "(1017209, 20)"
            ]
          },
          "metadata": {},
          "execution_count": 36
        }
      ],
      "source": [
        "df.shape"
      ]
    },
    {
      "cell_type": "code",
      "execution_count": null,
      "metadata": {
        "colab": {
          "base_uri": "https://localhost:8080/"
        },
        "id": "lTEqwefVow00",
        "outputId": "df7b70fe-1bce-4b59-c638-ef035ab58a73"
      },
      "outputs": [
        {
          "output_type": "execute_result",
          "data": {
            "text/plain": [
              "Store                             0\n",
              "DayOfWeek                         0\n",
              "Sales                             0\n",
              "Customers                         0\n",
              "Open                              0\n",
              "Promo                             0\n",
              "StateHoliday                      0\n",
              "SchoolHoliday                     0\n",
              "StoreType                         0\n",
              "Assortment                        0\n",
              "CompetitionDistance            2642\n",
              "CompetitionOpenSinceMonth    323348\n",
              "CompetitionOpenSinceYear     323348\n",
              "Promo2                            0\n",
              "Promo2SinceWeek              508031\n",
              "Promo2SinceYear              508031\n",
              "PromoInterval                508031\n",
              "year                              0\n",
              "month                             0\n",
              "Day                               0\n",
              "dtype: int64"
            ]
          },
          "metadata": {},
          "execution_count": 37
        }
      ],
      "source": [
        "df.isnull().sum()"
      ]
    },
    {
      "cell_type": "markdown",
      "metadata": {
        "id": "YmlAgSndHi8z"
      },
      "source": [
        "**Handling the Missing Value**\n",
        "* Fill CompetitionDistance with median value.\n",
        "* Fill CompetitionOpenSinceMonth & CompetitionOpenSinceYear with mode.\n",
        "* Fill Promo2SinceWeek ,Promo2SinceYear , PromoInterval with repective median values.\n",
        "* Fill PromoInterval with mode values.\n",
        "\n",
        "\n",
        "\n"
      ]
    },
    {
      "cell_type": "code",
      "execution_count": null,
      "metadata": {
        "id": "_itehvIstGVq"
      },
      "outputs": [],
      "source": [
        "#Handle missing values \n",
        "df['CompetitionDistance'] = df['CompetitionDistance'].fillna(df['CompetitionDistance'].median())\n",
        "df['CompetitionOpenSinceMonth'] = df['CompetitionOpenSinceMonth'].fillna(df['CompetitionOpenSinceMonth'].mode().iloc[0])\n",
        "df['CompetitionOpenSinceYear'] = df['CompetitionOpenSinceYear'].fillna(df['CompetitionOpenSinceYear'].mode().iloc[0])\n",
        "df['Promo2SinceWeek']=df['Promo2SinceWeek'].fillna(df['Promo2SinceWeek'].median())\n",
        "df['Promo2SinceYear']=df['Promo2SinceYear'].fillna(df['Promo2SinceYear'].median())\n",
        "df['PromoInterval']=df['PromoInterval'].fillna(df['PromoInterval'].mode().iloc[0])"
      ]
    },
    {
      "cell_type": "code",
      "execution_count": null,
      "metadata": {
        "colab": {
          "base_uri": "https://localhost:8080/"
        },
        "id": "RSf1qnTDNSbI",
        "outputId": "12370a35-c4c6-4662-f96b-49dc02796e86"
      },
      "outputs": [
        {
          "output_type": "execute_result",
          "data": {
            "text/plain": [
              "array(['Jan,Apr,Jul,Oct', 'Feb,May,Aug,Nov', 'Mar,Jun,Sept,Dec'],\n",
              "      dtype=object)"
            ]
          },
          "metadata": {},
          "execution_count": 39
        }
      ],
      "source": [
        "df['PromoInterval'].unique()"
      ]
    },
    {
      "cell_type": "code",
      "execution_count": null,
      "metadata": {
        "colab": {
          "base_uri": "https://localhost:8080/"
        },
        "id": "_4yaMYbC0bNL",
        "outputId": "a036c984-9e45-48fc-b6d0-4e917acfae12"
      },
      "outputs": [
        {
          "output_type": "execute_result",
          "data": {
            "text/plain": [
              "0"
            ]
          },
          "metadata": {},
          "execution_count": 40
        }
      ],
      "source": [
        "df.PromoInterval.isnull().sum()"
      ]
    },
    {
      "cell_type": "code",
      "execution_count": null,
      "metadata": {
        "colab": {
          "base_uri": "https://localhost:8080/"
        },
        "id": "qMFe-Umqrn62",
        "outputId": "de59dd5f-89f5-443f-9221-263f58856c5e"
      },
      "outputs": [
        {
          "output_type": "stream",
          "name": "stdout",
          "text": [
            "<class 'pandas.core.frame.DataFrame'>\n",
            "Int64Index: 1017209 entries, 0 to 1017208\n",
            "Data columns (total 20 columns):\n",
            " #   Column                     Non-Null Count    Dtype  \n",
            "---  ------                     --------------    -----  \n",
            " 0   Store                      1017209 non-null  int64  \n",
            " 1   DayOfWeek                  1017209 non-null  int64  \n",
            " 2   Sales                      1017209 non-null  int64  \n",
            " 3   Customers                  1017209 non-null  int64  \n",
            " 4   Open                       1017209 non-null  int64  \n",
            " 5   Promo                      1017209 non-null  int64  \n",
            " 6   StateHoliday               1017209 non-null  int64  \n",
            " 7   SchoolHoliday              1017209 non-null  int64  \n",
            " 8   StoreType                  1017209 non-null  object \n",
            " 9   Assortment                 1017209 non-null  object \n",
            " 10  CompetitionDistance        1017209 non-null  float64\n",
            " 11  CompetitionOpenSinceMonth  1017209 non-null  float64\n",
            " 12  CompetitionOpenSinceYear   1017209 non-null  float64\n",
            " 13  Promo2                     1017209 non-null  int64  \n",
            " 14  Promo2SinceWeek            1017209 non-null  float64\n",
            " 15  Promo2SinceYear            1017209 non-null  float64\n",
            " 16  PromoInterval              1017209 non-null  object \n",
            " 17  year                       1017209 non-null  int64  \n",
            " 18  month                      1017209 non-null  int64  \n",
            " 19  Day                        1017209 non-null  int64  \n",
            "dtypes: float64(5), int64(12), object(3)\n",
            "memory usage: 163.0+ MB\n"
          ]
        }
      ],
      "source": [
        "df.info()"
      ]
    },
    {
      "cell_type": "markdown",
      "metadata": {
        "id": "1aQpOZFizClh"
      },
      "source": [
        "* **We will analyse the above imputed features and will give them place in our selected features only if they can satisfy our assumptions.**\n",
        "\n"
      ]
    },
    {
      "cell_type": "markdown",
      "metadata": {
        "id": "ETzJYGnP1YQ1"
      },
      "source": [
        "**StoreType, Assortment, PromoInterval**\n"
      ]
    },
    {
      "cell_type": "code",
      "execution_count": null,
      "metadata": {
        "colab": {
          "base_uri": "https://localhost:8080/"
        },
        "id": "808NzMwUCAhL",
        "outputId": "eb9e7ba6-16b4-4fdc-e933-e7f2f766ab89"
      },
      "outputs": [
        {
          "output_type": "stream",
          "name": "stdout",
          "text": [
            "['c' 'a' 'd' 'b']\n",
            "['a' 'c' 'b']\n",
            "['Jan,Apr,Jul,Oct' 'Feb,May,Aug,Nov' 'Mar,Jun,Sept,Dec']\n"
          ]
        }
      ],
      "source": [
        "print(df.StoreType.unique())\n",
        "print(df.Assortment.unique())\n",
        "print(df.PromoInterval.unique())"
      ]
    },
    {
      "cell_type": "markdown",
      "metadata": {
        "id": "SBWRd07oq-3u"
      },
      "source": [
        "* **We will impute the values in these features with dummies.**"
      ]
    },
    {
      "cell_type": "code",
      "source": [
        "# label_encoder object knows how to understand word labels.\n",
        "label_encoder = preprocessing.LabelEncoder()\n",
        " \n",
        "# Encode labels in column 'species'.\n",
        "df['StoreType']= label_encoder.fit_transform(df['StoreType'])\n",
        "df['Assortment']= label_encoder.fit_transform(df['Assortment'])\n",
        "df['PromoInterval']= label_encoder.fit_transform(df['PromoInterval'])"
      ],
      "metadata": {
        "id": "gGsoQvb6t1Bd"
      },
      "execution_count": null,
      "outputs": []
    },
    {
      "cell_type": "markdown",
      "metadata": {
        "id": "4xr2IaXc8GV2"
      },
      "source": [
        "#Outliers\n"
      ]
    },
    {
      "cell_type": "markdown",
      "metadata": {
        "id": "bak8mTFvSu7l"
      },
      "source": [
        "**Handling outliers**\n",
        "* Start with our target variable as it is the most important variable.\n",
        "* Then we will explore other Numerical based variables like Customers, competition distance and all.\n",
        "* This Data set have some geniune values which seems as outliers. so we will be working on only those values which is very impotant  to remove and removal of those will does not affect or data set.\n",
        "\n",
        "**1** **Sales and Customers**"
      ]
    },
    {
      "cell_type": "code",
      "execution_count": null,
      "metadata": {
        "colab": {
          "base_uri": "https://localhost:8080/",
          "height": 230
        },
        "id": "kTAJ59yDihRv",
        "outputId": "c18aeca3-1217-4a50-8b81-71989f7eb671"
      },
      "outputs": [
        {
          "output_type": "display_data",
          "data": {
            "image/png": "[encoded data removed]",
            "text/plain": [
              "<Figure size 1080x216 with 1 Axes>"
            ]
          },
          "metadata": {}
        }
      ],
      "source": [
        "\n",
        "sns.set_theme(rc={'figure.figsize': (15,3)},style='whitegrid')\n",
        "sns.boxenplot(x=df[\"Sales\"],color='#175ee3')\n",
        "\n",
        "plt.show()"
      ]
    },
    {
      "cell_type": "markdown",
      "metadata": {
        "id": "huYuE-EtXInQ"
      },
      "source": [
        "* Customers is the only feature which has linear relation with Sales.Hence it is the most important for our linear regression.\n",
        "* Hence regulate the feature in such a way that it would provide accurate result."
      ]
    },
    {
      "cell_type": "markdown",
      "source": [
        "**Remove Outliers**"
      ],
      "metadata": {
        "id": "6l-bc4rvuJBd"
      }
    },
    {
      "cell_type": "code",
      "execution_count": null,
      "metadata": {
        "id": "6Wu5JKiItq6M"
      },
      "outputs": [],
      "source": [
        "percentile_25 = np.percentile(df['Sales'],25)\n",
        "percentile_75 = np.percentile(df['Sales'],75)\n",
        "iqr = (percentile_75 - percentile_25)\n",
        "upper_outlier_bound = percentile_75 + 1.5*iqr\n",
        "lower_outlier_bound = percentile_25 - 1.5*iqr\n",
        "\n",
        "df.drop(index=df[df['Sales']>upper_outlier_bound].index,axis=0,inplace=True)\n",
        "df.drop(index=df[df['Sales']<lower_outlier_bound].index,axis=0,inplace=True)\n"
      ]
    },
    {
      "cell_type": "markdown",
      "metadata": {
        "id": "osOM3KFzynk5"
      },
      "source": [
        "**Obervation:-**\n",
        "We can drop the sales datapoints which are greater than 35k as they are very less percentage of the dataset and are probably outliers for our Algo.\n",
        "\n",
        "\n",
        "**Drop Outliers**\n"
      ]
    },
    {
      "cell_type": "markdown",
      "metadata": {
        "id": "VKmuVs7h9Y75"
      },
      "source": [
        "**2** **Customers**"
      ]
    },
    {
      "cell_type": "code",
      "execution_count": null,
      "metadata": {
        "colab": {
          "base_uri": "https://localhost:8080/",
          "height": 231
        },
        "id": "8CfaFqAJjSxD",
        "outputId": "b0dab510-b7ab-4b35-cdfc-cbeb9bfa86bf"
      },
      "outputs": [
        {
          "output_type": "display_data",
          "data": {
            "image/png": "[encoded data removed]",
            "text/plain": [
              "<Figure size 1080x216 with 1 Axes>"
            ]
          },
          "metadata": {}
        }
      ],
      "source": [
        "sns.set_theme(rc={'figure.figsize': (15,3)},style='whitegrid')\n",
        "sns.boxenplot(x=df['Customers'],color='#175ee3')\n",
        "plt.grid(False)\n",
        "plt.xlabel('')\n",
        "plt.title('Range of Customers Values',size=15)\n",
        "ax = plt.gca()\n",
        "for spine in ax.spines.values():\n",
        "  spine.set_visible(False)"
      ]
    },
    {
      "cell_type": "code",
      "execution_count": null,
      "metadata": {
        "id": "9oZinwybtJJJ",
        "colab": {
          "base_uri": "https://localhost:8080/",
          "height": 113
        },
        "outputId": "d6cdd25a-f0bd-4c71-cb98-8e46b1b025f4"
      },
      "outputs": [
        {
          "output_type": "execute_result",
          "data": {
            "text/html": [
              "\n",
              "  <div id=\"df-34f99b4c-c542-4197-bc88-7f6cb8780e7f\">\n",
              "    <div class=\"colab-df-container\">\n",
              "      <div>\n",
              "<style scoped>\n",
              "    .dataframe tbody tr th:only-of-type {\n",
              "        vertical-align: middle;\n",
              "    }\n",
              "\n",
              "    .dataframe tbody tr th {\n",
              "        vertical-align: top;\n",
              "    }\n",
              "\n",
              "    .dataframe thead th {\n",
              "        text-align: right;\n",
              "    }\n",
              "</style>\n",
              "<table border=\"1\" class=\"dataframe\">\n",
              "  <thead>\n",
              "    <tr style=\"text-align: right;\">\n",
              "      <th></th>\n",
              "      <th>Store</th>\n",
              "      <th>DayOfWeek</th>\n",
              "      <th>Sales</th>\n",
              "      <th>Customers</th>\n",
              "      <th>Open</th>\n",
              "      <th>Promo</th>\n",
              "      <th>StateHoliday</th>\n",
              "      <th>SchoolHoliday</th>\n",
              "      <th>StoreType</th>\n",
              "      <th>Assortment</th>\n",
              "      <th>CompetitionDistance</th>\n",
              "      <th>CompetitionOpenSinceMonth</th>\n",
              "      <th>CompetitionOpenSinceYear</th>\n",
              "      <th>Promo2</th>\n",
              "      <th>Promo2SinceWeek</th>\n",
              "      <th>Promo2SinceYear</th>\n",
              "      <th>PromoInterval</th>\n",
              "      <th>year</th>\n",
              "      <th>month</th>\n",
              "      <th>Day</th>\n",
              "    </tr>\n",
              "  </thead>\n",
              "  <tbody>\n",
              "  </tbody>\n",
              "</table>\n",
              "</div>\n",
              "      <button class=\"colab-df-convert\" onclick=\"convertToInteractive('df-34f99b4c-c542-4197-bc88-7f6cb8780e7f')\"\n",
              "              title=\"Convert this dataframe to an interactive table.\"\n",
              "              style=\"display:none;\">\n",
              "        \n",
              "  <svg xmlns=\"http://www.w3.org/2000/svg\" height=\"24px\"viewBox=\"0 0 24 24\"\n",
              "       width=\"24px\">\n",
              "    <path d=\"M0 0h24v24H0V0z\" fill=\"none\"/>\n",
              "    <path d=\"M18.56 5.44l.94 2.06.94-2.06 2.06-.94-2.06-.94-.94-2.06-.94 2.06-2.06.94zm-11 1L8.5 8.5l.94-2.06 2.06-.94-2.06-.94L8.5 2.5l-.94 2.06-2.06.94zm10 10l.94 2.06.94-2.06 2.06-.94-2.06-.94-.94-2.06-.94 2.06-2.06.94z\"/><path d=\"M17.41 7.96l-1.37-1.37c-.4-.4-.92-.59-1.43-.59-.52 0-1.04.2-1.43.59L10.3 9.45l-7.72 7.72c-.78.78-.78 2.05 0 2.83L4 21.41c.39.39.9.59 1.41.59.51 0 1.02-.2 1.41-.59l7.78-7.78 2.81-2.81c.8-.78.8-2.07 0-2.86zM5.41 20L4 18.59l7.72-7.72 1.47 1.35L5.41 20z\"/>\n",
              "  </svg>\n",
              "      </button>\n",
              "      \n",
              "  <style>\n",
              "    .colab-df-container {\n",
              "      display:flex;\n",
              "      flex-wrap:wrap;\n",
              "      gap: 12px;\n",
              "    }\n",
              "\n",
              "    .colab-df-convert {\n",
              "      background-color: #E8F0FE;\n",
              "      border: none;\n",
              "      border-radius: 50%;\n",
              "      cursor: pointer;\n",
              "      display: none;\n",
              "      fill: #1967D2;\n",
              "      height: 32px;\n",
              "      padding: 0 0 0 0;\n",
              "      width: 32px;\n",
              "    }\n",
              "\n",
              "    .colab-df-convert:hover {\n",
              "      background-color: #E2EBFA;\n",
              "      box-shadow: 0px 1px 2px rgba(60, 64, 67, 0.3), 0px 1px 3px 1px rgba(60, 64, 67, 0.15);\n",
              "      fill: #174EA6;\n",
              "    }\n",
              "\n",
              "    [theme=dark] .colab-df-convert {\n",
              "      background-color: #3B4455;\n",
              "      fill: #D2E3FC;\n",
              "    }\n",
              "\n",
              "    [theme=dark] .colab-df-convert:hover {\n",
              "      background-color: #434B5C;\n",
              "      box-shadow: 0px 1px 3px 1px rgba(0, 0, 0, 0.15);\n",
              "      filter: drop-shadow(0px 1px 2px rgba(0, 0, 0, 0.3));\n",
              "      fill: #FFFFFF;\n",
              "    }\n",
              "  </style>\n",
              "\n",
              "      <script>\n",
              "        const buttonEl =\n",
              "          document.querySelector('#df-34f99b4c-c542-4197-bc88-7f6cb8780e7f button.colab-df-convert');\n",
              "        buttonEl.style.display =\n",
              "          google.colab.kernel.accessAllowed ? 'block' : 'none';\n",
              "\n",
              "        async function convertToInteractive(key) {\n",
              "          const element = document.querySelector('#df-34f99b4c-c542-4197-bc88-7f6cb8780e7f');\n",
              "          const dataTable =\n",
              "            await google.colab.kernel.invokeFunction('convertToInteractive',\n",
              "                                                     [key], {});\n",
              "          if (!dataTable) return;\n",
              "\n",
              "          const docLinkHtml = 'Like what you see? Visit the ' +\n",
              "            '<a target=\"_blank\" href=https://colab.research.google.com/notebooks/data_table.ipynb>data table notebook</a>'\n",
              "            + ' to learn more about interactive tables.';\n",
              "          element.innerHTML = '';\n",
              "          dataTable['output_type'] = 'display_data';\n",
              "          await google.colab.output.renderOutput(dataTable, element);\n",
              "          const docLink = document.createElement('div');\n",
              "          docLink.innerHTML = docLinkHtml;\n",
              "          element.appendChild(docLink);\n",
              "        }\n",
              "      </script>\n",
              "    </div>\n",
              "  </div>\n",
              "  "
            ],
            "text/plain": [
              "Empty DataFrame\n",
              "Columns: [Store, DayOfWeek, Sales, Customers, Open, Promo, StateHoliday, SchoolHoliday, StoreType, Assortment, CompetitionDistance, CompetitionOpenSinceMonth, CompetitionOpenSinceYear, Promo2, Promo2SinceWeek, Promo2SinceYear, PromoInterval, year, month, Day]\n",
              "Index: []"
            ]
          },
          "metadata": {},
          "execution_count": 22
        }
      ],
      "source": [
        "#Customers above 5000\n",
        "df_mask2=df.loc[(df['Customers']>=5000) & (df[\"Sales\"]<30000)]\n",
        "\n",
        "df_mask2"
      ]
    },
    {
      "cell_type": "markdown",
      "metadata": {
        "id": "XUERCCPh1bPZ"
      },
      "source": [
        "**Obervation:-**We can drop the Customers datapoints which are greater than 2500 as they are very less percentage of the dataset and are probably outliers.\n",
        "\n",
        "**Drop Outliers**"
      ]
    },
    {
      "cell_type": "markdown",
      "metadata": {
        "id": "_fqxWEk9LMM-"
      },
      "source": [
        "**CompetitionOpenSinceYear**\n",
        "* In real world scenario it is possible to have these values as exceptionals.But for the ML algos and they may create problem.\n",
        "* This feature seems to have an outlier for the model. \n",
        "* Hence we remove only those values Removal of which does not affect the original data. And also which are at extreme point."
      ]
    },
    {
      "cell_type": "code",
      "execution_count": null,
      "metadata": {
        "colab": {
          "base_uri": "https://localhost:8080/",
          "height": 230
        },
        "id": "5bJg78Le6Dg5",
        "outputId": "93ea6d61-017c-434c-fb0c-fbcd337fafcd"
      },
      "outputs": [
        {
          "output_type": "display_data",
          "data": {
            "image/png": "[encoded data removed]",
            "text/plain": [
              "<Figure size 1080x216 with 2 Axes>"
            ]
          },
          "metadata": {}
        }
      ],
      "source": [
        "# Scatter plot\n",
        "fig = plt.figure()\n",
        "ax1 = fig.add_subplot(121)\n",
        "ax2 = fig.add_subplot(122)\n",
        "ax1.scatter(df0['Sales'], df0['Customers'])\n",
        "ax2.scatter(df['Sales'], df['Customers'])\n",
        "\n",
        "# x-axis label\n",
        "ax1.set_xlabel('Sales')\n",
        "ax2.set_xlabel('Sales')\n",
        " \n",
        "# y-axis label\n",
        "ax1.set_ylabel('Customers')\n",
        "plt.show()"
      ]
    },
    {
      "cell_type": "markdown",
      "metadata": {
        "id": "ZNMccXfoI5KG"
      },
      "source": [
        "**CompetitionOpenSinceYear**"
      ]
    },
    {
      "cell_type": "code",
      "execution_count": null,
      "metadata": {
        "colab": {
          "base_uri": "https://localhost:8080/",
          "height": 231
        },
        "id": "ZcBfdEHu9Ht8",
        "outputId": "5c430e78-8516-4a46-f957-1a80eb76beec"
      },
      "outputs": [
        {
          "output_type": "display_data",
          "data": {
            "image/png": "[encoded data removed]",
            "text/plain": [
              "<Figure size 1080x216 with 1 Axes>"
            ]
          },
          "metadata": {}
        }
      ],
      "source": [
        "sns.set_theme(rc={'figure.figsize': (15,3)},style='whitegrid')\n",
        "sns.boxenplot(x=df['CompetitionOpenSinceYear'],color='#175ee3')\n",
        "plt.grid(False)\n",
        "plt.xlabel('')\n",
        "plt.title('Range of Customers Values',size=15)\n",
        "ax = plt.gca()\n",
        "for spine in ax.spines.values():\n",
        "   spine.set_visible(False)"
      ]
    },
    {
      "cell_type": "code",
      "execution_count": null,
      "metadata": {
        "id": "IdwYtvDH-GFS"
      },
      "outputs": [],
      "source": [
        "#Drop CompetitionOpenSinceYear value below 1980\n",
        "df.drop(df.loc[df['CompetitionOpenSinceYear'] < 1980].index,inplace=True)"
      ]
    },
    {
      "cell_type": "markdown",
      "metadata": {
        "id": "BmWNqkkcJFV4"
      },
      "source": [
        "**CompetitionDistance**"
      ]
    },
    {
      "cell_type": "code",
      "execution_count": null,
      "metadata": {
        "colab": {
          "base_uri": "https://localhost:8080/",
          "height": 231
        },
        "id": "mj7pHijM-TDP",
        "outputId": "6f787d13-4efb-4b46-9df6-539eb387906e"
      },
      "outputs": [
        {
          "output_type": "display_data",
          "data": {
            "image/png": "[encoded data removed]",
            "text/plain": [
              "<Figure size 1008x216 with 1 Axes>"
            ]
          },
          "metadata": {}
        }
      ],
      "source": [
        "sns.set_theme(rc={'figure.figsize': (14,3)},style='whitegrid')\n",
        "sns.boxenplot(x=df1['CompetitionDistance'],color='#175ee3')\n",
        "plt.grid(False)\n",
        "plt.xlabel('')\n",
        "plt.title('Range of Customers Values',size=15)\n",
        "ax = plt.gca()\n",
        "# for spine in ax.spines.values():\n",
        "#   spine.set_visible(False)"
      ]
    },
    {
      "cell_type": "code",
      "execution_count": null,
      "metadata": {
        "id": "LlDiF7ErfD7J"
      },
      "outputs": [],
      "source": [
        "#Drop CompetitionOpenSinceYear value below 1980\n",
        "df.drop(df.loc[df['CompetitionDistance'] > 55000].index,inplace=True)"
      ]
    },
    {
      "cell_type": "markdown",
      "metadata": {
        "id": "udDafAEWEExF"
      },
      "source": [
        "**Conclusion:-**\n",
        "* We have converted the data type in usable formate.\n",
        "* hadled the missing values.\n",
        "* Deal with categorical values.\n",
        "* Handled outliers \n",
        "\n",
        "**GREAT ! we can move head towards understanding our Data set for further exploration using visualization** "
      ]
    },
    {
      "cell_type": "code",
      "execution_count": null,
      "metadata": {
        "colab": {
          "base_uri": "https://localhost:8080/"
        },
        "id": "OgqpR5NmtVKS",
        "outputId": "e9c64193-2be8-4db9-b12c-638d40fb0390"
      },
      "outputs": [
        {
          "output_type": "execute_result",
          "data": {
            "text/plain": [
              "(983315, 20)"
            ]
          },
          "metadata": {},
          "execution_count": 54
        }
      ],
      "source": [
        "df.shape"
      ]
    },
    {
      "cell_type": "markdown",
      "metadata": {
        "id": "Aam_00l_IqJ4"
      },
      "source": [
        "#**EDA With Data Visualization**"
      ]
    },
    {
      "cell_type": "markdown",
      "source": [
        "**Target Distribution in Features**\n",
        "1Continuous Features\n",
        "\n"
      ],
      "metadata": {
        "id": "N2WX-uLRhxv_"
      }
    },
    {
      "cell_type": "code",
      "source": [
        "cont_features = ['Customers','CompetitionDistance']\n",
        "surv = df['Sales']==1\n",
        "\n",
        "fig, axs = plt.subplots(ncols=2, nrows=2, figsize=(20, 20))\n",
        "plt.subplots_adjust(right=1.5)\n",
        "\n",
        "for i, feature in enumerate(cont_features):    \n",
        "    # Distribution of survival in feature\n",
        "    sns.distplot(df[~surv][feature], label='Fre', hist=True, color='#e74c3c', ax=axs[0][i])\n",
        "    sns.distplot(df[surv][feature], label='Sales', hist=True, color='#2ecc71', ax=axs[0][i])\n",
        "    \n",
        "    # Distribution of feature in dataset\n",
        "    sns.distplot(df[feature], label='Training Set', hist=False, color='#e74c3c', ax=axs[1][i])\n",
        "    sns.distplot(df[feature], label='Test Set', hist=False, color='#2ecc71', ax=axs[1][i])\n",
        "    \n",
        "    axs[0][i].set_xlabel('')\n",
        "    axs[1][i].set_xlabel('')\n",
        "    \n",
        "    for j in range(2):        \n",
        "        axs[i][j].tick_params(axis='x', labelsize=20)\n",
        "        axs[i][j].tick_params(axis='y', labelsize=20)\n",
        "    \n",
        "    axs[0][i].legend(loc='upper right', prop={'size': 20})\n",
        "    axs[1][i].legend(loc='upper right', prop={'size': 20})\n",
        "    axs[0][i].set_title('Distribution of Survival in {}'.format(feature), size=20, y=1.05)\n",
        "\n",
        "axs[1][0].set_title('Distribution of {} Feature'.format('Age'), size=20, y=1.05)\n",
        "axs[1][1].set_title('Distribution of {} Feature'.format('Fare'), size=20, y=1.05)\n",
        "        \n",
        "plt.show()"
      ],
      "metadata": {
        "colab": {
          "base_uri": "https://localhost:8080/",
          "height": 716
        },
        "id": "9xFwsNeThskr",
        "outputId": "85053d7c-4b8a-4f2e-ddab-256bc53de4e6"
      },
      "execution_count": null,
      "outputs": [
        {
          "output_type": "display_data",
          "data": {
            "image/png": "[encoded data removed]",
            "text/plain": [
              "<Figure size 1440x1440 with 4 Axes>"
            ]
          },
          "metadata": {}
        }
      ]
    },
    {
      "cell_type": "code",
      "source": [
        "df[\"Sales\"]=df['Sales'].drop(df[\"Sales\"]==0,axis=1,inplace=True)"
      ],
      "metadata": {
        "colab": {
          "base_uri": "https://localhost:8080/",
          "height": 432
        },
        "id": "p09F8aajvW-u",
        "outputId": "c948da19-8894-4d0d-b4ab-2eb868cdc0b4"
      },
      "execution_count": null,
      "outputs": [
        {
          "output_type": "error",
          "ename": "ValueError",
          "evalue": "ignored",
          "traceback": [
            "\u001b[0;31m---------------------------------------------------------------------------\u001b[0m",
            "\u001b[0;31mKeyError\u001b[0m                                  Traceback (most recent call last)",
            "\u001b[0;32m/usr/local/lib/python3.7/dist-packages/pandas/core/generic.py\u001b[0m in \u001b[0;36m_get_axis_number\u001b[0;34m(cls, axis)\u001b[0m\n\u001b[1;32m    545\u001b[0m         \u001b[0;32mtry\u001b[0m\u001b[0;34m:\u001b[0m\u001b[0;34m\u001b[0m\u001b[0;34m\u001b[0m\u001b[0m\n\u001b[0;32m--> 546\u001b[0;31m             \u001b[0;32mreturn\u001b[0m \u001b[0mcls\u001b[0m\u001b[0;34m.\u001b[0m\u001b[0m_AXIS_TO_AXIS_NUMBER\u001b[0m\u001b[0;34m[\u001b[0m\u001b[0maxis\u001b[0m\u001b[0;34m]\u001b[0m\u001b[0;34m\u001b[0m\u001b[0;34m\u001b[0m\u001b[0m\n\u001b[0m\u001b[1;32m    547\u001b[0m         \u001b[0;32mexcept\u001b[0m \u001b[0mKeyError\u001b[0m\u001b[0;34m:\u001b[0m\u001b[0;34m\u001b[0m\u001b[0;34m\u001b[0m\u001b[0m\n",
            "\u001b[0;31mKeyError\u001b[0m: 1",
            "\nDuring handling of the above exception, another exception occurred:\n",
            "\u001b[0;31mValueError\u001b[0m                                Traceback (most recent call last)",
            "\u001b[0;32m<ipython-input-35-a9e3c5ac7b20>\u001b[0m in \u001b[0;36m<module>\u001b[0;34m()\u001b[0m\n\u001b[0;32m----> 1\u001b[0;31m \u001b[0mdf\u001b[0m\u001b[0;34m[\u001b[0m\u001b[0;34m\"Sales\"\u001b[0m\u001b[0;34m]\u001b[0m\u001b[0;34m=\u001b[0m\u001b[0mdf\u001b[0m\u001b[0;34m[\u001b[0m\u001b[0;34m'Sales'\u001b[0m\u001b[0;34m]\u001b[0m\u001b[0;34m.\u001b[0m\u001b[0mdrop\u001b[0m\u001b[0;34m(\u001b[0m\u001b[0mdf\u001b[0m\u001b[0;34m[\u001b[0m\u001b[0;34m\"Sales\"\u001b[0m\u001b[0;34m]\u001b[0m\u001b[0;34m==\u001b[0m\u001b[0;36m0\u001b[0m\u001b[0;34m,\u001b[0m\u001b[0maxis\u001b[0m\u001b[0;34m=\u001b[0m\u001b[0;36m1\u001b[0m\u001b[0;34m,\u001b[0m\u001b[0minplace\u001b[0m\u001b[0;34m=\u001b[0m\u001b[0;32mTrue\u001b[0m\u001b[0;34m)\u001b[0m\u001b[0;34m\u001b[0m\u001b[0;34m\u001b[0m\u001b[0m\n\u001b[0m",
            "\u001b[0;32m/usr/local/lib/python3.7/dist-packages/pandas/util/_decorators.py\u001b[0m in \u001b[0;36mwrapper\u001b[0;34m(*args, **kwargs)\u001b[0m\n\u001b[1;32m    309\u001b[0m                     \u001b[0mstacklevel\u001b[0m\u001b[0;34m=\u001b[0m\u001b[0mstacklevel\u001b[0m\u001b[0;34m,\u001b[0m\u001b[0;34m\u001b[0m\u001b[0;34m\u001b[0m\u001b[0m\n\u001b[1;32m    310\u001b[0m                 )\n\u001b[0;32m--> 311\u001b[0;31m             \u001b[0;32mreturn\u001b[0m \u001b[0mfunc\u001b[0m\u001b[0;34m(\u001b[0m\u001b[0;34m*\u001b[0m\u001b[0margs\u001b[0m\u001b[0;34m,\u001b[0m \u001b[0;34m**\u001b[0m\u001b[0mkwargs\u001b[0m\u001b[0;34m)\u001b[0m\u001b[0;34m\u001b[0m\u001b[0;34m\u001b[0m\u001b[0m\n\u001b[0m\u001b[1;32m    312\u001b[0m \u001b[0;34m\u001b[0m\u001b[0m\n\u001b[1;32m    313\u001b[0m         \u001b[0;32mreturn\u001b[0m \u001b[0mwrapper\u001b[0m\u001b[0;34m\u001b[0m\u001b[0;34m\u001b[0m\u001b[0m\n",
            "\u001b[0;32m/usr/local/lib/python3.7/dist-packages/pandas/core/series.py\u001b[0m in \u001b[0;36mdrop\u001b[0;34m(self, labels, axis, index, columns, level, inplace, errors)\u001b[0m\n\u001b[1;32m   4684\u001b[0m             \u001b[0mlevel\u001b[0m\u001b[0;34m=\u001b[0m\u001b[0mlevel\u001b[0m\u001b[0;34m,\u001b[0m\u001b[0;34m\u001b[0m\u001b[0;34m\u001b[0m\u001b[0m\n\u001b[1;32m   4685\u001b[0m             \u001b[0minplace\u001b[0m\u001b[0;34m=\u001b[0m\u001b[0minplace\u001b[0m\u001b[0;34m,\u001b[0m\u001b[0;34m\u001b[0m\u001b[0;34m\u001b[0m\u001b[0m\n\u001b[0;32m-> 4686\u001b[0;31m             \u001b[0merrors\u001b[0m\u001b[0;34m=\u001b[0m\u001b[0merrors\u001b[0m\u001b[0;34m,\u001b[0m\u001b[0;34m\u001b[0m\u001b[0;34m\u001b[0m\u001b[0m\n\u001b[0m\u001b[1;32m   4687\u001b[0m         )\n\u001b[1;32m   4688\u001b[0m \u001b[0;34m\u001b[0m\u001b[0m\n",
            "\u001b[0;32m/usr/local/lib/python3.7/dist-packages/pandas/core/generic.py\u001b[0m in \u001b[0;36mdrop\u001b[0;34m(self, labels, axis, index, columns, level, inplace, errors)\u001b[0m\n\u001b[1;32m   4135\u001b[0m             \u001b[0;32mif\u001b[0m \u001b[0mindex\u001b[0m \u001b[0;32mis\u001b[0m \u001b[0;32mnot\u001b[0m \u001b[0;32mNone\u001b[0m \u001b[0;32mor\u001b[0m \u001b[0mcolumns\u001b[0m \u001b[0;32mis\u001b[0m \u001b[0;32mnot\u001b[0m \u001b[0;32mNone\u001b[0m\u001b[0;34m:\u001b[0m\u001b[0;34m\u001b[0m\u001b[0;34m\u001b[0m\u001b[0m\n\u001b[1;32m   4136\u001b[0m                 \u001b[0;32mraise\u001b[0m \u001b[0mValueError\u001b[0m\u001b[0;34m(\u001b[0m\u001b[0;34m\"Cannot specify both 'labels' and 'index'/'columns'\"\u001b[0m\u001b[0;34m)\u001b[0m\u001b[0;34m\u001b[0m\u001b[0;34m\u001b[0m\u001b[0m\n\u001b[0;32m-> 4137\u001b[0;31m             \u001b[0maxis_name\u001b[0m \u001b[0;34m=\u001b[0m \u001b[0mself\u001b[0m\u001b[0;34m.\u001b[0m\u001b[0m_get_axis_name\u001b[0m\u001b[0;34m(\u001b[0m\u001b[0maxis\u001b[0m\u001b[0;34m)\u001b[0m\u001b[0;34m\u001b[0m\u001b[0;34m\u001b[0m\u001b[0m\n\u001b[0m\u001b[1;32m   4138\u001b[0m             \u001b[0maxes\u001b[0m \u001b[0;34m=\u001b[0m \u001b[0;34m{\u001b[0m\u001b[0maxis_name\u001b[0m\u001b[0;34m:\u001b[0m \u001b[0mlabels\u001b[0m\u001b[0;34m}\u001b[0m\u001b[0;34m\u001b[0m\u001b[0;34m\u001b[0m\u001b[0m\n\u001b[1;32m   4139\u001b[0m         \u001b[0;32melif\u001b[0m \u001b[0mindex\u001b[0m \u001b[0;32mis\u001b[0m \u001b[0;32mnot\u001b[0m \u001b[0;32mNone\u001b[0m \u001b[0;32mor\u001b[0m \u001b[0mcolumns\u001b[0m \u001b[0;32mis\u001b[0m \u001b[0;32mnot\u001b[0m \u001b[0;32mNone\u001b[0m\u001b[0;34m:\u001b[0m\u001b[0;34m\u001b[0m\u001b[0;34m\u001b[0m\u001b[0m\n",
            "\u001b[0;32m/usr/local/lib/python3.7/dist-packages/pandas/core/generic.py\u001b[0m in \u001b[0;36m_get_axis_name\u001b[0;34m(cls, axis)\u001b[0m\n\u001b[1;32m    551\u001b[0m     \u001b[0;34m@\u001b[0m\u001b[0mclassmethod\u001b[0m\u001b[0;34m\u001b[0m\u001b[0;34m\u001b[0m\u001b[0m\n\u001b[1;32m    552\u001b[0m     \u001b[0;32mdef\u001b[0m \u001b[0m_get_axis_name\u001b[0m\u001b[0;34m(\u001b[0m\u001b[0mcls\u001b[0m\u001b[0;34m,\u001b[0m \u001b[0maxis\u001b[0m\u001b[0;34m:\u001b[0m \u001b[0mAxis\u001b[0m\u001b[0;34m)\u001b[0m \u001b[0;34m->\u001b[0m \u001b[0mstr\u001b[0m\u001b[0;34m:\u001b[0m\u001b[0;34m\u001b[0m\u001b[0;34m\u001b[0m\u001b[0m\n\u001b[0;32m--> 553\u001b[0;31m         \u001b[0maxis_number\u001b[0m \u001b[0;34m=\u001b[0m \u001b[0mcls\u001b[0m\u001b[0;34m.\u001b[0m\u001b[0m_get_axis_number\u001b[0m\u001b[0;34m(\u001b[0m\u001b[0maxis\u001b[0m\u001b[0;34m)\u001b[0m\u001b[0;34m\u001b[0m\u001b[0;34m\u001b[0m\u001b[0m\n\u001b[0m\u001b[1;32m    554\u001b[0m         \u001b[0;32mreturn\u001b[0m \u001b[0mcls\u001b[0m\u001b[0;34m.\u001b[0m\u001b[0m_AXIS_ORDERS\u001b[0m\u001b[0;34m[\u001b[0m\u001b[0maxis_number\u001b[0m\u001b[0;34m]\u001b[0m\u001b[0;34m\u001b[0m\u001b[0;34m\u001b[0m\u001b[0m\n\u001b[1;32m    555\u001b[0m \u001b[0;34m\u001b[0m\u001b[0m\n",
            "\u001b[0;32m/usr/local/lib/python3.7/dist-packages/pandas/core/generic.py\u001b[0m in \u001b[0;36m_get_axis_number\u001b[0;34m(cls, axis)\u001b[0m\n\u001b[1;32m    546\u001b[0m             \u001b[0;32mreturn\u001b[0m \u001b[0mcls\u001b[0m\u001b[0;34m.\u001b[0m\u001b[0m_AXIS_TO_AXIS_NUMBER\u001b[0m\u001b[0;34m[\u001b[0m\u001b[0maxis\u001b[0m\u001b[0;34m]\u001b[0m\u001b[0;34m\u001b[0m\u001b[0;34m\u001b[0m\u001b[0m\n\u001b[1;32m    547\u001b[0m         \u001b[0;32mexcept\u001b[0m \u001b[0mKeyError\u001b[0m\u001b[0;34m:\u001b[0m\u001b[0;34m\u001b[0m\u001b[0;34m\u001b[0m\u001b[0m\n\u001b[0;32m--> 548\u001b[0;31m             \u001b[0;32mraise\u001b[0m \u001b[0mValueError\u001b[0m\u001b[0;34m(\u001b[0m\u001b[0;34mf\"No axis named {axis} for object type {cls.__name__}\"\u001b[0m\u001b[0;34m)\u001b[0m\u001b[0;34m\u001b[0m\u001b[0;34m\u001b[0m\u001b[0m\n\u001b[0m\u001b[1;32m    549\u001b[0m \u001b[0;34m\u001b[0m\u001b[0m\n\u001b[1;32m    550\u001b[0m     \u001b[0;34m@\u001b[0m\u001b[0mfinal\u001b[0m\u001b[0;34m\u001b[0m\u001b[0;34m\u001b[0m\u001b[0m\n",
            "\u001b[0;31mValueError\u001b[0m: No axis named 1 for object type Series"
          ]
        }
      ]
    },
    {
      "cell_type": "markdown",
      "source": [
        "**Categorical Features with sales"
      ],
      "metadata": {
        "id": "93ddWZEijD3F"
      }
    },
    {
      "cell_type": "code",
      "source": [
        "df.columns"
      ],
      "metadata": {
        "colab": {
          "base_uri": "https://localhost:8080/"
        },
        "id": "iUDoZkNRjKPO",
        "outputId": "7ab44395-3f8b-4b6b-851c-d9a5cb777275"
      },
      "execution_count": null,
      "outputs": [
        {
          "output_type": "execute_result",
          "data": {
            "text/plain": [
              "Index(['Store', 'DayOfWeek', 'Sales', 'Customers', 'Open', 'Promo',\n",
              "       'StateHoliday', 'SchoolHoliday', 'StoreType', 'Assortment',\n",
              "       'CompetitionDistance', 'CompetitionOpenSinceMonth',\n",
              "       'CompetitionOpenSinceYear', 'Promo2', 'Promo2SinceWeek',\n",
              "       'Promo2SinceYear', 'PromoInterval', 'year', 'month', 'Day'],\n",
              "      dtype='object')"
            ]
          },
          "metadata": {},
          "execution_count": 59
        }
      ]
    },
    {
      "cell_type": "markdown",
      "metadata": {
        "id": "GpeUw-7Ky1jp"
      },
      "source": [
        "#Independent Variable Selection."
      ]
    },
    {
      "cell_type": "code",
      "execution_count": null,
      "metadata": {
        "colab": {
          "background_save": true
        },
        "id": "DaEVAlBicO3j",
        "outputId": "051dd68a-8de8-447f-e87c-ca71cae98f74"
      },
      "outputs": [
        {
          "ename": "KeyError",
          "evalue": "ignored",
          "output_type": "error",
          "traceback": [
            "\u001b[0;31m---------------------------------------------------------------------------\u001b[0m",
            "\u001b[0;31mKeyError\u001b[0m                                  Traceback (most recent call last)",
            "\u001b[0;32m<ipython-input-234-572b13a76adc>\u001b[0m in \u001b[0;36m<module>\u001b[0;34m()\u001b[0m\n\u001b[1;32m      5\u001b[0m        \u001b[0;34m'Promo2SinceWeek'\u001b[0m\u001b[0;34m,\u001b[0m \u001b[0;34m'Promo2SinceYear'\u001b[0m\u001b[0;34m,\u001b[0m  \u001b[0;34m'year'\u001b[0m\u001b[0;34m,\u001b[0m \u001b[0;34m'month'\u001b[0m\u001b[0;34m,\u001b[0m\u001b[0;34m\u001b[0m\u001b[0;34m\u001b[0m\u001b[0m\n\u001b[1;32m      6\u001b[0m        \u001b[0;34m'Day'\u001b[0m\u001b[0;34m,\u001b[0m \u001b[0;34m'StoreType_a'\u001b[0m\u001b[0;34m,\u001b[0m\u001b[0;34m'StoreType_b'\u001b[0m\u001b[0;34m,\u001b[0m\u001b[0;34m'StoreType_c'\u001b[0m\u001b[0;34m,\u001b[0m\u001b[0;34m'StoreType_d'\u001b[0m\u001b[0;34m,\u001b[0m\u001b[0;34m\u001b[0m\u001b[0;34m\u001b[0m\u001b[0m\n\u001b[0;32m----> 7\u001b[0;31m        'Assortment_a','Assortment_b','Assortment_c']]\n\u001b[0m",
            "\u001b[0;32m/usr/local/lib/python3.7/dist-packages/pandas/core/frame.py\u001b[0m in \u001b[0;36m__getitem__\u001b[0;34m(self, key)\u001b[0m\n\u001b[1;32m   3462\u001b[0m             \u001b[0;32mif\u001b[0m \u001b[0mis_iterator\u001b[0m\u001b[0;34m(\u001b[0m\u001b[0mkey\u001b[0m\u001b[0;34m)\u001b[0m\u001b[0;34m:\u001b[0m\u001b[0;34m\u001b[0m\u001b[0;34m\u001b[0m\u001b[0m\n\u001b[1;32m   3463\u001b[0m                 \u001b[0mkey\u001b[0m \u001b[0;34m=\u001b[0m \u001b[0mlist\u001b[0m\u001b[0;34m(\u001b[0m\u001b[0mkey\u001b[0m\u001b[0;34m)\u001b[0m\u001b[0;34m\u001b[0m\u001b[0;34m\u001b[0m\u001b[0m\n\u001b[0;32m-> 3464\u001b[0;31m             \u001b[0mindexer\u001b[0m \u001b[0;34m=\u001b[0m \u001b[0mself\u001b[0m\u001b[0;34m.\u001b[0m\u001b[0mloc\u001b[0m\u001b[0;34m.\u001b[0m\u001b[0m_get_listlike_indexer\u001b[0m\u001b[0;34m(\u001b[0m\u001b[0mkey\u001b[0m\u001b[0;34m,\u001b[0m \u001b[0maxis\u001b[0m\u001b[0;34m=\u001b[0m\u001b[0;36m1\u001b[0m\u001b[0;34m)\u001b[0m\u001b[0;34m[\u001b[0m\u001b[0;36m1\u001b[0m\u001b[0;34m]\u001b[0m\u001b[0;34m\u001b[0m\u001b[0;34m\u001b[0m\u001b[0m\n\u001b[0m\u001b[1;32m   3465\u001b[0m \u001b[0;34m\u001b[0m\u001b[0m\n\u001b[1;32m   3466\u001b[0m         \u001b[0;31m# take() does not accept boolean indexers\u001b[0m\u001b[0;34m\u001b[0m\u001b[0;34m\u001b[0m\u001b[0;34m\u001b[0m\u001b[0m\n",
            "\u001b[0;32m/usr/local/lib/python3.7/dist-packages/pandas/core/indexing.py\u001b[0m in \u001b[0;36m_get_listlike_indexer\u001b[0;34m(self, key, axis)\u001b[0m\n\u001b[1;32m   1312\u001b[0m             \u001b[0mkeyarr\u001b[0m\u001b[0;34m,\u001b[0m \u001b[0mindexer\u001b[0m\u001b[0;34m,\u001b[0m \u001b[0mnew_indexer\u001b[0m \u001b[0;34m=\u001b[0m \u001b[0max\u001b[0m\u001b[0;34m.\u001b[0m\u001b[0m_reindex_non_unique\u001b[0m\u001b[0;34m(\u001b[0m\u001b[0mkeyarr\u001b[0m\u001b[0;34m)\u001b[0m\u001b[0;34m\u001b[0m\u001b[0;34m\u001b[0m\u001b[0m\n\u001b[1;32m   1313\u001b[0m \u001b[0;34m\u001b[0m\u001b[0m\n\u001b[0;32m-> 1314\u001b[0;31m         \u001b[0mself\u001b[0m\u001b[0;34m.\u001b[0m\u001b[0m_validate_read_indexer\u001b[0m\u001b[0;34m(\u001b[0m\u001b[0mkeyarr\u001b[0m\u001b[0;34m,\u001b[0m \u001b[0mindexer\u001b[0m\u001b[0;34m,\u001b[0m \u001b[0maxis\u001b[0m\u001b[0;34m)\u001b[0m\u001b[0;34m\u001b[0m\u001b[0;34m\u001b[0m\u001b[0m\n\u001b[0m\u001b[1;32m   1315\u001b[0m \u001b[0;34m\u001b[0m\u001b[0m\n\u001b[1;32m   1316\u001b[0m         if needs_i8_conversion(ax.dtype) or isinstance(\n",
            "\u001b[0;32m/usr/local/lib/python3.7/dist-packages/pandas/core/indexing.py\u001b[0m in \u001b[0;36m_validate_read_indexer\u001b[0;34m(self, key, indexer, axis)\u001b[0m\n\u001b[1;32m   1375\u001b[0m \u001b[0;34m\u001b[0m\u001b[0m\n\u001b[1;32m   1376\u001b[0m             \u001b[0mnot_found\u001b[0m \u001b[0;34m=\u001b[0m \u001b[0mlist\u001b[0m\u001b[0;34m(\u001b[0m\u001b[0mensure_index\u001b[0m\u001b[0;34m(\u001b[0m\u001b[0mkey\u001b[0m\u001b[0;34m)\u001b[0m\u001b[0;34m[\u001b[0m\u001b[0mmissing_mask\u001b[0m\u001b[0;34m.\u001b[0m\u001b[0mnonzero\u001b[0m\u001b[0;34m(\u001b[0m\u001b[0;34m)\u001b[0m\u001b[0;34m[\u001b[0m\u001b[0;36m0\u001b[0m\u001b[0;34m]\u001b[0m\u001b[0;34m]\u001b[0m\u001b[0;34m.\u001b[0m\u001b[0munique\u001b[0m\u001b[0;34m(\u001b[0m\u001b[0;34m)\u001b[0m\u001b[0;34m)\u001b[0m\u001b[0;34m\u001b[0m\u001b[0;34m\u001b[0m\u001b[0m\n\u001b[0;32m-> 1377\u001b[0;31m             \u001b[0;32mraise\u001b[0m \u001b[0mKeyError\u001b[0m\u001b[0;34m(\u001b[0m\u001b[0;34mf\"{not_found} not in index\"\u001b[0m\u001b[0;34m)\u001b[0m\u001b[0;34m\u001b[0m\u001b[0;34m\u001b[0m\u001b[0m\n\u001b[0m\u001b[1;32m   1378\u001b[0m \u001b[0;34m\u001b[0m\u001b[0m\n\u001b[1;32m   1379\u001b[0m \u001b[0;34m\u001b[0m\u001b[0m\n",
            "\u001b[0;31mKeyError\u001b[0m: \"['StoreType_a', 'StoreType_b', 'StoreType_c', 'StoreType_d', 'Assortment_a', 'Assortment_b', 'Assortment_c'] not in index\""
          ]
        }
      ],
      "source": [
        "## Select the ones you want\n",
        "Select_df=df[['Store', 'DayOfWeek', 'Sales', 'Customers',  'Promo',\n",
        "       'StateHoliday', 'SchoolHoliday', 'CompetitionDistance',\n",
        "       'CompetitionOpenSinceMonth', 'CompetitionOpenSinceYear', 'Promo2',\n",
        "       'Promo2SinceWeek', 'Promo2SinceYear',  'year', 'month',\n",
        "       'Day', 'StoreType',\n",
        "       'Assortment']]"
      ]
    },
    {
      "cell_type": "code",
      "execution_count": null,
      "metadata": {
        "colab": {
          "base_uri": "https://localhost:8080/",
          "height": 678
        },
        "id": "avT43hMRu2t2",
        "outputId": "cb7ff5e0-1526-49d1-c23f-e978ff386c08"
      },
      "outputs": [
        {
          "data": {
            "text/html": [
              "\n",
              "  <div id=\"df-d015bb87-95cb-4582-af7d-0fcf86dc2857\">\n",
              "    <div class=\"colab-df-container\">\n",
              "      <div>\n",
              "<style scoped>\n",
              "    .dataframe tbody tr th:only-of-type {\n",
              "        vertical-align: middle;\n",
              "    }\n",
              "\n",
              "    .dataframe tbody tr th {\n",
              "        vertical-align: top;\n",
              "    }\n",
              "\n",
              "    .dataframe thead th {\n",
              "        text-align: right;\n",
              "    }\n",
              "</style>\n",
              "<table border=\"1\" class=\"dataframe\">\n",
              "  <thead>\n",
              "    <tr style=\"text-align: right;\">\n",
              "      <th></th>\n",
              "      <th>Store</th>\n",
              "      <th>DayOfWeek</th>\n",
              "      <th>Sales</th>\n",
              "      <th>Customers</th>\n",
              "      <th>Promo</th>\n",
              "      <th>StateHoliday</th>\n",
              "      <th>SchoolHoliday</th>\n",
              "      <th>CompetitionDistance</th>\n",
              "      <th>CompetitionOpenSinceMonth</th>\n",
              "      <th>CompetitionOpenSinceYear</th>\n",
              "      <th>Promo2</th>\n",
              "      <th>Promo2SinceWeek</th>\n",
              "      <th>Promo2SinceYear</th>\n",
              "      <th>year</th>\n",
              "      <th>month</th>\n",
              "      <th>Day</th>\n",
              "      <th>StoreType</th>\n",
              "      <th>Assortment</th>\n",
              "    </tr>\n",
              "  </thead>\n",
              "  <tbody>\n",
              "    <tr>\n",
              "      <th>Store</th>\n",
              "      <td>1.000000</td>\n",
              "      <td>0.000671</td>\n",
              "      <td>0.007670</td>\n",
              "      <td>0.034066</td>\n",
              "      <td>-0.000165</td>\n",
              "      <td>0.003235</td>\n",
              "      <td>0.000457</td>\n",
              "      <td>-0.014589</td>\n",
              "      <td>-0.037572</td>\n",
              "      <td>0.001774</td>\n",
              "      <td>0.006588</td>\n",
              "      <td>0.010075</td>\n",
              "      <td>0.025621</td>\n",
              "      <td>0.000346</td>\n",
              "      <td>0.001640</td>\n",
              "      <td>-0.000115</td>\n",
              "      <td>-0.020714</td>\n",
              "      <td>0.009491</td>\n",
              "    </tr>\n",
              "    <tr>\n",
              "      <th>DayOfWeek</th>\n",
              "      <td>0.000671</td>\n",
              "      <td>1.000000</td>\n",
              "      <td>-0.178362</td>\n",
              "      <td>-0.096977</td>\n",
              "      <td>-0.289065</td>\n",
              "      <td>-0.001476</td>\n",
              "      <td>-0.139133</td>\n",
              "      <td>0.002520</td>\n",
              "      <td>0.000889</td>\n",
              "      <td>0.001441</td>\n",
              "      <td>-0.002849</td>\n",
              "      <td>-0.000555</td>\n",
              "      <td>0.002673</td>\n",
              "      <td>0.002103</td>\n",
              "      <td>-0.019819</td>\n",
              "      <td>0.008462</td>\n",
              "      <td>-0.001605</td>\n",
              "      <td>0.000803</td>\n",
              "    </tr>\n",
              "    <tr>\n",
              "      <th>Sales</th>\n",
              "      <td>0.007670</td>\n",
              "      <td>-0.178362</td>\n",
              "      <td>1.000000</td>\n",
              "      <td>0.823631</td>\n",
              "      <td>0.368106</td>\n",
              "      <td>0.020599</td>\n",
              "      <td>0.038050</td>\n",
              "      <td>-0.039996</td>\n",
              "      <td>-0.036046</td>\n",
              "      <td>0.025527</td>\n",
              "      <td>-0.128477</td>\n",
              "      <td>0.049883</td>\n",
              "      <td>-0.008641</td>\n",
              "      <td>0.036443</td>\n",
              "      <td>0.073277</td>\n",
              "      <td>-0.051861</td>\n",
              "      <td>-0.016228</td>\n",
              "      <td>0.109294</td>\n",
              "    </tr>\n",
              "    <tr>\n",
              "      <th>Customers</th>\n",
              "      <td>0.034066</td>\n",
              "      <td>-0.096977</td>\n",
              "      <td>0.823631</td>\n",
              "      <td>1.000000</td>\n",
              "      <td>0.182771</td>\n",
              "      <td>0.050497</td>\n",
              "      <td>0.024368</td>\n",
              "      <td>-0.163392</td>\n",
              "      <td>-0.034677</td>\n",
              "      <td>0.009536</td>\n",
              "      <td>-0.202239</td>\n",
              "      <td>0.022466</td>\n",
              "      <td>0.044130</td>\n",
              "      <td>-0.000586</td>\n",
              "      <td>0.053532</td>\n",
              "      <td>-0.035426</td>\n",
              "      <td>-0.194548</td>\n",
              "      <td>0.006994</td>\n",
              "    </tr>\n",
              "    <tr>\n",
              "      <th>Promo</th>\n",
              "      <td>-0.000165</td>\n",
              "      <td>-0.289065</td>\n",
              "      <td>0.368106</td>\n",
              "      <td>0.182771</td>\n",
              "      <td>1.000000</td>\n",
              "      <td>0.002765</td>\n",
              "      <td>0.028879</td>\n",
              "      <td>-0.000896</td>\n",
              "      <td>-0.000511</td>\n",
              "      <td>-0.000702</td>\n",
              "      <td>-0.000508</td>\n",
              "      <td>-0.000888</td>\n",
              "      <td>-0.001470</td>\n",
              "      <td>0.024000</td>\n",
              "      <td>-0.006376</td>\n",
              "      <td>-0.126450</td>\n",
              "      <td>0.000129</td>\n",
              "      <td>-0.000138</td>\n",
              "    </tr>\n",
              "    <tr>\n",
              "      <th>StateHoliday</th>\n",
              "      <td>0.003235</td>\n",
              "      <td>-0.001476</td>\n",
              "      <td>0.020599</td>\n",
              "      <td>0.050497</td>\n",
              "      <td>0.002765</td>\n",
              "      <td>1.000000</td>\n",
              "      <td>0.012604</td>\n",
              "      <td>0.004824</td>\n",
              "      <td>0.003629</td>\n",
              "      <td>0.001365</td>\n",
              "      <td>-0.009665</td>\n",
              "      <td>-0.004491</td>\n",
              "      <td>0.005140</td>\n",
              "      <td>0.002318</td>\n",
              "      <td>0.001287</td>\n",
              "      <td>-0.007909</td>\n",
              "      <td>-0.003679</td>\n",
              "      <td>-0.001156</td>\n",
              "    </tr>\n",
              "    <tr>\n",
              "      <th>SchoolHoliday</th>\n",
              "      <td>0.000457</td>\n",
              "      <td>-0.139133</td>\n",
              "      <td>0.038050</td>\n",
              "      <td>0.024368</td>\n",
              "      <td>0.028879</td>\n",
              "      <td>0.012604</td>\n",
              "      <td>1.000000</td>\n",
              "      <td>-0.003409</td>\n",
              "      <td>-0.000551</td>\n",
              "      <td>-0.000133</td>\n",
              "      <td>-0.008397</td>\n",
              "      <td>-0.003297</td>\n",
              "      <td>-0.001480</td>\n",
              "      <td>-0.038695</td>\n",
              "      <td>0.118487</td>\n",
              "      <td>0.038133</td>\n",
              "      <td>-0.002447</td>\n",
              "      <td>-0.002620</td>\n",
              "    </tr>\n",
              "    <tr>\n",
              "      <th>CompetitionDistance</th>\n",
              "      <td>-0.014589</td>\n",
              "      <td>0.002520</td>\n",
              "      <td>-0.039996</td>\n",
              "      <td>-0.163392</td>\n",
              "      <td>-0.000896</td>\n",
              "      <td>0.004824</td>\n",
              "      <td>-0.003409</td>\n",
              "      <td>1.000000</td>\n",
              "      <td>-0.046651</td>\n",
              "      <td>0.009349</td>\n",
              "      <td>-0.134200</td>\n",
              "      <td>-0.036117</td>\n",
              "      <td>-0.043139</td>\n",
              "      <td>0.000540</td>\n",
              "      <td>0.003123</td>\n",
              "      <td>-0.000419</td>\n",
              "      <td>0.094836</td>\n",
              "      <td>0.141689</td>\n",
              "    </tr>\n",
              "    <tr>\n",
              "      <th>CompetitionOpenSinceMonth</th>\n",
              "      <td>-0.037572</td>\n",
              "      <td>0.000889</td>\n",
              "      <td>-0.036046</td>\n",
              "      <td>-0.034677</td>\n",
              "      <td>-0.000511</td>\n",
              "      <td>0.003629</td>\n",
              "      <td>-0.000551</td>\n",
              "      <td>-0.046651</td>\n",
              "      <td>1.000000</td>\n",
              "      <td>0.036486</td>\n",
              "      <td>0.021132</td>\n",
              "      <td>0.007700</td>\n",
              "      <td>0.009586</td>\n",
              "      <td>-0.000664</td>\n",
              "      <td>-0.001282</td>\n",
              "      <td>0.000200</td>\n",
              "      <td>0.037122</td>\n",
              "      <td>0.035897</td>\n",
              "    </tr>\n",
              "    <tr>\n",
              "      <th>CompetitionOpenSinceYear</th>\n",
              "      <td>0.001774</td>\n",
              "      <td>0.001441</td>\n",
              "      <td>0.025527</td>\n",
              "      <td>0.009536</td>\n",
              "      <td>-0.000702</td>\n",
              "      <td>0.001365</td>\n",
              "      <td>-0.000133</td>\n",
              "      <td>0.009349</td>\n",
              "      <td>0.036486</td>\n",
              "      <td>1.000000</td>\n",
              "      <td>0.003758</td>\n",
              "      <td>0.040075</td>\n",
              "      <td>0.018122</td>\n",
              "      <td>0.000227</td>\n",
              "      <td>0.000461</td>\n",
              "      <td>-0.000005</td>\n",
              "      <td>0.053707</td>\n",
              "      <td>0.111407</td>\n",
              "    </tr>\n",
              "    <tr>\n",
              "      <th>Promo2</th>\n",
              "      <td>0.006588</td>\n",
              "      <td>-0.002849</td>\n",
              "      <td>-0.128477</td>\n",
              "      <td>-0.202239</td>\n",
              "      <td>-0.000508</td>\n",
              "      <td>-0.009665</td>\n",
              "      <td>-0.008397</td>\n",
              "      <td>-0.134200</td>\n",
              "      <td>0.021132</td>\n",
              "      <td>0.003758</td>\n",
              "      <td>1.000000</td>\n",
              "      <td>0.059436</td>\n",
              "      <td>-0.105855</td>\n",
              "      <td>-0.005679</td>\n",
              "      <td>-0.025657</td>\n",
              "      <td>0.001374</td>\n",
              "      <td>0.087281</td>\n",
              "      <td>0.010466</td>\n",
              "    </tr>\n",
              "    <tr>\n",
              "      <th>Promo2SinceWeek</th>\n",
              "      <td>0.010075</td>\n",
              "      <td>-0.000555</td>\n",
              "      <td>0.049883</td>\n",
              "      <td>0.022466</td>\n",
              "      <td>-0.000888</td>\n",
              "      <td>-0.004491</td>\n",
              "      <td>-0.003297</td>\n",
              "      <td>-0.036117</td>\n",
              "      <td>0.007700</td>\n",
              "      <td>0.040075</td>\n",
              "      <td>0.059436</td>\n",
              "      <td>1.000000</td>\n",
              "      <td>-0.253377</td>\n",
              "      <td>-0.004297</td>\n",
              "      <td>-0.020118</td>\n",
              "      <td>0.000721</td>\n",
              "      <td>-0.007941</td>\n",
              "      <td>-0.057084</td>\n",
              "    </tr>\n",
              "    <tr>\n",
              "      <th>Promo2SinceYear</th>\n",
              "      <td>0.025621</td>\n",
              "      <td>0.002673</td>\n",
              "      <td>-0.008641</td>\n",
              "      <td>0.044130</td>\n",
              "      <td>-0.001470</td>\n",
              "      <td>0.005140</td>\n",
              "      <td>-0.001480</td>\n",
              "      <td>-0.043139</td>\n",
              "      <td>0.009586</td>\n",
              "      <td>0.018122</td>\n",
              "      <td>-0.105855</td>\n",
              "      <td>-0.253377</td>\n",
              "      <td>1.000000</td>\n",
              "      <td>-0.000109</td>\n",
              "      <td>-0.001952</td>\n",
              "      <td>0.000218</td>\n",
              "      <td>-0.056752</td>\n",
              "      <td>0.040676</td>\n",
              "    </tr>\n",
              "    <tr>\n",
              "      <th>year</th>\n",
              "      <td>0.000346</td>\n",
              "      <td>0.002103</td>\n",
              "      <td>0.036443</td>\n",
              "      <td>-0.000586</td>\n",
              "      <td>0.024000</td>\n",
              "      <td>0.002318</td>\n",
              "      <td>-0.038695</td>\n",
              "      <td>0.000540</td>\n",
              "      <td>-0.000664</td>\n",
              "      <td>0.000227</td>\n",
              "      <td>-0.005679</td>\n",
              "      <td>-0.004297</td>\n",
              "      <td>-0.000109</td>\n",
              "      <td>1.000000</td>\n",
              "      <td>-0.268816</td>\n",
              "      <td>0.008382</td>\n",
              "      <td>-0.001521</td>\n",
              "      <td>0.001988</td>\n",
              "    </tr>\n",
              "    <tr>\n",
              "      <th>month</th>\n",
              "      <td>0.001640</td>\n",
              "      <td>-0.019819</td>\n",
              "      <td>0.073277</td>\n",
              "      <td>0.053532</td>\n",
              "      <td>-0.006376</td>\n",
              "      <td>0.001287</td>\n",
              "      <td>0.118487</td>\n",
              "      <td>0.003123</td>\n",
              "      <td>-0.001282</td>\n",
              "      <td>0.000461</td>\n",
              "      <td>-0.025657</td>\n",
              "      <td>-0.020118</td>\n",
              "      <td>-0.001952</td>\n",
              "      <td>-0.268816</td>\n",
              "      <td>1.000000</td>\n",
              "      <td>-0.006581</td>\n",
              "      <td>-0.007768</td>\n",
              "      <td>0.008072</td>\n",
              "    </tr>\n",
              "    <tr>\n",
              "      <th>Day</th>\n",
              "      <td>-0.000115</td>\n",
              "      <td>0.008462</td>\n",
              "      <td>-0.051861</td>\n",
              "      <td>-0.035426</td>\n",
              "      <td>-0.126450</td>\n",
              "      <td>-0.007909</td>\n",
              "      <td>0.038133</td>\n",
              "      <td>-0.000419</td>\n",
              "      <td>0.000200</td>\n",
              "      <td>-0.000005</td>\n",
              "      <td>0.001374</td>\n",
              "      <td>0.000721</td>\n",
              "      <td>0.000218</td>\n",
              "      <td>0.008382</td>\n",
              "      <td>-0.006581</td>\n",
              "      <td>1.000000</td>\n",
              "      <td>0.000306</td>\n",
              "      <td>0.000104</td>\n",
              "    </tr>\n",
              "    <tr>\n",
              "      <th>StoreType</th>\n",
              "      <td>-0.020714</td>\n",
              "      <td>-0.001605</td>\n",
              "      <td>-0.016228</td>\n",
              "      <td>-0.194548</td>\n",
              "      <td>0.000129</td>\n",
              "      <td>-0.003679</td>\n",
              "      <td>-0.002447</td>\n",
              "      <td>0.094836</td>\n",
              "      <td>0.037122</td>\n",
              "      <td>0.053707</td>\n",
              "      <td>0.087281</td>\n",
              "      <td>-0.007941</td>\n",
              "      <td>-0.056752</td>\n",
              "      <td>-0.001521</td>\n",
              "      <td>-0.007768</td>\n",
              "      <td>0.000306</td>\n",
              "      <td>1.000000</td>\n",
              "      <td>0.231827</td>\n",
              "    </tr>\n",
              "    <tr>\n",
              "      <th>Assortment</th>\n",
              "      <td>0.009491</td>\n",
              "      <td>0.000803</td>\n",
              "      <td>0.109294</td>\n",
              "      <td>0.006994</td>\n",
              "      <td>-0.000138</td>\n",
              "      <td>-0.001156</td>\n",
              "      <td>-0.002620</td>\n",
              "      <td>0.141689</td>\n",
              "      <td>0.035897</td>\n",
              "      <td>0.111407</td>\n",
              "      <td>0.010466</td>\n",
              "      <td>-0.057084</td>\n",
              "      <td>0.040676</td>\n",
              "      <td>0.001988</td>\n",
              "      <td>0.008072</td>\n",
              "      <td>0.000104</td>\n",
              "      <td>0.231827</td>\n",
              "      <td>1.000000</td>\n",
              "    </tr>\n",
              "  </tbody>\n",
              "</table>\n",
              "</div>\n",
              "      <button class=\"colab-df-convert\" onclick=\"convertToInteractive('df-d015bb87-95cb-4582-af7d-0fcf86dc2857')\"\n",
              "              title=\"Convert this dataframe to an interactive table.\"\n",
              "              style=\"display:none;\">\n",
              "        \n",
              "  <svg xmlns=\"http://www.w3.org/2000/svg\" height=\"24px\"viewBox=\"0 0 24 24\"\n",
              "       width=\"24px\">\n",
              "    <path d=\"M0 0h24v24H0V0z\" fill=\"none\"/>\n",
              "    <path d=\"M18.56 5.44l.94 2.06.94-2.06 2.06-.94-2.06-.94-.94-2.06-.94 2.06-2.06.94zm-11 1L8.5 8.5l.94-2.06 2.06-.94-2.06-.94L8.5 2.5l-.94 2.06-2.06.94zm10 10l.94 2.06.94-2.06 2.06-.94-2.06-.94-.94-2.06-.94 2.06-2.06.94z\"/><path d=\"M17.41 7.96l-1.37-1.37c-.4-.4-.92-.59-1.43-.59-.52 0-1.04.2-1.43.59L10.3 9.45l-7.72 7.72c-.78.78-.78 2.05 0 2.83L4 21.41c.39.39.9.59 1.41.59.51 0 1.02-.2 1.41-.59l7.78-7.78 2.81-2.81c.8-.78.8-2.07 0-2.86zM5.41 20L4 18.59l7.72-7.72 1.47 1.35L5.41 20z\"/>\n",
              "  </svg>\n",
              "      </button>\n",
              "      \n",
              "  <style>\n",
              "    .colab-df-container {\n",
              "      display:flex;\n",
              "      flex-wrap:wrap;\n",
              "      gap: 12px;\n",
              "    }\n",
              "\n",
              "    .colab-df-convert {\n",
              "      background-color: #E8F0FE;\n",
              "      border: none;\n",
              "      border-radius: 50%;\n",
              "      cursor: pointer;\n",
              "      display: none;\n",
              "      fill: #1967D2;\n",
              "      height: 32px;\n",
              "      padding: 0 0 0 0;\n",
              "      width: 32px;\n",
              "    }\n",
              "\n",
              "    .colab-df-convert:hover {\n",
              "      background-color: #E2EBFA;\n",
              "      box-shadow: 0px 1px 2px rgba(60, 64, 67, 0.3), 0px 1px 3px 1px rgba(60, 64, 67, 0.15);\n",
              "      fill: #174EA6;\n",
              "    }\n",
              "\n",
              "    [theme=dark] .colab-df-convert {\n",
              "      background-color: #3B4455;\n",
              "      fill: #D2E3FC;\n",
              "    }\n",
              "\n",
              "    [theme=dark] .colab-df-convert:hover {\n",
              "      background-color: #434B5C;\n",
              "      box-shadow: 0px 1px 3px 1px rgba(0, 0, 0, 0.15);\n",
              "      filter: drop-shadow(0px 1px 2px rgba(0, 0, 0, 0.3));\n",
              "      fill: #FFFFFF;\n",
              "    }\n",
              "  </style>\n",
              "\n",
              "      <script>\n",
              "        const buttonEl =\n",
              "          document.querySelector('#df-d015bb87-95cb-4582-af7d-0fcf86dc2857 button.colab-df-convert');\n",
              "        buttonEl.style.display =\n",
              "          google.colab.kernel.accessAllowed ? 'block' : 'none';\n",
              "\n",
              "        async function convertToInteractive(key) {\n",
              "          const element = document.querySelector('#df-d015bb87-95cb-4582-af7d-0fcf86dc2857');\n",
              "          const dataTable =\n",
              "            await google.colab.kernel.invokeFunction('convertToInteractive',\n",
              "                                                     [key], {});\n",
              "          if (!dataTable) return;\n",
              "\n",
              "          const docLinkHtml = 'Like what you see? Visit the ' +\n",
              "            '<a target=\"_blank\" href=https://colab.research.google.com/notebooks/data_table.ipynb>data table notebook</a>'\n",
              "            + ' to learn more about interactive tables.';\n",
              "          element.innerHTML = '';\n",
              "          dataTable['output_type'] = 'display_data';\n",
              "          await google.colab.output.renderOutput(dataTable, element);\n",
              "          const docLink = document.createElement('div');\n",
              "          docLink.innerHTML = docLinkHtml;\n",
              "          element.appendChild(docLink);\n",
              "        }\n",
              "      </script>\n",
              "    </div>\n",
              "  </div>\n",
              "  "
            ],
            "text/plain": [
              "                              Store  DayOfWeek  ...  StoreType  Assortment\n",
              "Store                      1.000000   0.000671  ...  -0.020714    0.009491\n",
              "DayOfWeek                  0.000671   1.000000  ...  -0.001605    0.000803\n",
              "Sales                      0.007670  -0.178362  ...  -0.016228    0.109294\n",
              "Customers                  0.034066  -0.096977  ...  -0.194548    0.006994\n",
              "Promo                     -0.000165  -0.289065  ...   0.000129   -0.000138\n",
              "StateHoliday               0.003235  -0.001476  ...  -0.003679   -0.001156\n",
              "SchoolHoliday              0.000457  -0.139133  ...  -0.002447   -0.002620\n",
              "CompetitionDistance       -0.014589   0.002520  ...   0.094836    0.141689\n",
              "CompetitionOpenSinceMonth -0.037572   0.000889  ...   0.037122    0.035897\n",
              "CompetitionOpenSinceYear   0.001774   0.001441  ...   0.053707    0.111407\n",
              "Promo2                     0.006588  -0.002849  ...   0.087281    0.010466\n",
              "Promo2SinceWeek            0.010075  -0.000555  ...  -0.007941   -0.057084\n",
              "Promo2SinceYear            0.025621   0.002673  ...  -0.056752    0.040676\n",
              "year                       0.000346   0.002103  ...  -0.001521    0.001988\n",
              "month                      0.001640  -0.019819  ...  -0.007768    0.008072\n",
              "Day                       -0.000115   0.008462  ...   0.000306    0.000104\n",
              "StoreType                 -0.020714  -0.001605  ...   1.000000    0.231827\n",
              "Assortment                 0.009491   0.000803  ...   0.231827    1.000000\n",
              "\n",
              "[18 rows x 18 columns]"
            ]
          },
          "execution_count": 312,
          "metadata": {},
          "output_type": "execute_result"
        }
      ],
      "source": [
        "#Corr map\n",
        "correlation = Select_df.corr()\n",
        "correlation"
      ]
    },
    {
      "cell_type": "markdown",
      "metadata": {
        "id": "xyeYKxDXv3gH"
      },
      "source": [
        "**Conslusion**\n",
        "* Look for correlation of rows where the dependent variable (Sales in this case) is not involved because if a variable is correlated with the dependent variable then this would be a good sign for our model. \n",
        "* Correlation within dependent variables is what we need to look for and avoid. * This data doesn't contain perfect multicollinearity among independent variables. "
      ]
    },
    {
      "cell_type": "code",
      "execution_count": null,
      "metadata": {
        "colab": {
          "base_uri": "https://localhost:8080/"
        },
        "id": "7V4p0rg_z_kN",
        "outputId": "fd79adaa-28e5-4bc4-8f19-c13446c18ac7"
      },
      "outputs": [
        {
          "name": "stderr",
          "output_type": "stream",
          "text": [
            "/usr/local/lib/python3.7/dist-packages/statsmodels/tools/_testing.py:19: FutureWarning: pandas.util.testing is deprecated. Use the functions in the public API at pandas.testing instead.\n",
            "  import pandas.util.testing as tm\n"
          ]
        }
      ],
      "source": [
        "# Import library for VIF\n",
        "from statsmodels.stats.outliers_influence import variance_inflation_factor\n",
        "\n",
        "def calc_vif(X):\n",
        "\n",
        "    # Calculating VIF\n",
        "    vif = pd.DataFrame()\n",
        "    vif[\"variables\"] = X.columns\n",
        "    vif[\"VIF\"] = [variance_inflation_factor(X.values, i) for i in range(X.shape[1])]\n",
        "\n",
        "    return(vif)"
      ]
    },
    {
      "cell_type": "code",
      "execution_count": null,
      "metadata": {
        "colab": {
          "base_uri": "https://localhost:8080/",
          "height": 582
        },
        "id": "9BIqgxBr0FT1",
        "outputId": "8540e3ef-3b68-4522-eee8-45ee47870b6e"
      },
      "outputs": [
        {
          "data": {
            "text/html": [
              "\n",
              "  <div id=\"df-eb919f03-2288-4faf-8b35-b7736454e67b\">\n",
              "    <div class=\"colab-df-container\">\n",
              "      <div>\n",
              "<style scoped>\n",
              "    .dataframe tbody tr th:only-of-type {\n",
              "        vertical-align: middle;\n",
              "    }\n",
              "\n",
              "    .dataframe tbody tr th {\n",
              "        vertical-align: top;\n",
              "    }\n",
              "\n",
              "    .dataframe thead th {\n",
              "        text-align: right;\n",
              "    }\n",
              "</style>\n",
              "<table border=\"1\" class=\"dataframe\">\n",
              "  <thead>\n",
              "    <tr style=\"text-align: right;\">\n",
              "      <th></th>\n",
              "      <th>variables</th>\n",
              "      <th>VIF</th>\n",
              "    </tr>\n",
              "  </thead>\n",
              "  <tbody>\n",
              "    <tr>\n",
              "      <th>0</th>\n",
              "      <td>Store</td>\n",
              "      <td>4.037120e+00</td>\n",
              "    </tr>\n",
              "    <tr>\n",
              "      <th>1</th>\n",
              "      <td>DayOfWeek</td>\n",
              "      <td>5.768537e+00</td>\n",
              "    </tr>\n",
              "    <tr>\n",
              "      <th>2</th>\n",
              "      <td>Customers</td>\n",
              "      <td>5.429088e+00</td>\n",
              "    </tr>\n",
              "    <tr>\n",
              "      <th>3</th>\n",
              "      <td>Promo</td>\n",
              "      <td>2.065405e+00</td>\n",
              "    </tr>\n",
              "    <tr>\n",
              "      <th>4</th>\n",
              "      <td>StateHoliday</td>\n",
              "      <td>1.004194e+00</td>\n",
              "    </tr>\n",
              "    <tr>\n",
              "      <th>5</th>\n",
              "      <td>SchoolHoliday</td>\n",
              "      <td>1.284642e+00</td>\n",
              "    </tr>\n",
              "    <tr>\n",
              "      <th>6</th>\n",
              "      <td>CompetitionDistance</td>\n",
              "      <td>1.679860e+00</td>\n",
              "    </tr>\n",
              "    <tr>\n",
              "      <th>7</th>\n",
              "      <td>CompetitionOpenSinceMonth</td>\n",
              "      <td>8.990602e+00</td>\n",
              "    </tr>\n",
              "    <tr>\n",
              "      <th>8</th>\n",
              "      <td>CompetitionOpenSinceYear</td>\n",
              "      <td>2.338271e+05</td>\n",
              "    </tr>\n",
              "    <tr>\n",
              "      <th>9</th>\n",
              "      <td>Promo2</td>\n",
              "      <td>2.179577e+00</td>\n",
              "    </tr>\n",
              "    <tr>\n",
              "      <th>10</th>\n",
              "      <td>Promo2SinceWeek</td>\n",
              "      <td>6.510530e+00</td>\n",
              "    </tr>\n",
              "    <tr>\n",
              "      <th>11</th>\n",
              "      <td>Promo2SinceYear</td>\n",
              "      <td>2.225221e+06</td>\n",
              "    </tr>\n",
              "    <tr>\n",
              "      <th>12</th>\n",
              "      <td>year</td>\n",
              "      <td>2.285126e+06</td>\n",
              "    </tr>\n",
              "    <tr>\n",
              "      <th>13</th>\n",
              "      <td>month</td>\n",
              "      <td>4.255969e+00</td>\n",
              "    </tr>\n",
              "    <tr>\n",
              "      <th>14</th>\n",
              "      <td>Day</td>\n",
              "      <td>4.408448e+00</td>\n",
              "    </tr>\n",
              "    <tr>\n",
              "      <th>15</th>\n",
              "      <td>StoreType</td>\n",
              "      <td>1.984084e+00</td>\n",
              "    </tr>\n",
              "    <tr>\n",
              "      <th>16</th>\n",
              "      <td>Assortment</td>\n",
              "      <td>2.067601e+00</td>\n",
              "    </tr>\n",
              "  </tbody>\n",
              "</table>\n",
              "</div>\n",
              "      <button class=\"colab-df-convert\" onclick=\"convertToInteractive('df-eb919f03-2288-4faf-8b35-b7736454e67b')\"\n",
              "              title=\"Convert this dataframe to an interactive table.\"\n",
              "              style=\"display:none;\">\n",
              "        \n",
              "  <svg xmlns=\"http://www.w3.org/2000/svg\" height=\"24px\"viewBox=\"0 0 24 24\"\n",
              "       width=\"24px\">\n",
              "    <path d=\"M0 0h24v24H0V0z\" fill=\"none\"/>\n",
              "    <path d=\"M18.56 5.44l.94 2.06.94-2.06 2.06-.94-2.06-.94-.94-2.06-.94 2.06-2.06.94zm-11 1L8.5 8.5l.94-2.06 2.06-.94-2.06-.94L8.5 2.5l-.94 2.06-2.06.94zm10 10l.94 2.06.94-2.06 2.06-.94-2.06-.94-.94-2.06-.94 2.06-2.06.94z\"/><path d=\"M17.41 7.96l-1.37-1.37c-.4-.4-.92-.59-1.43-.59-.52 0-1.04.2-1.43.59L10.3 9.45l-7.72 7.72c-.78.78-.78 2.05 0 2.83L4 21.41c.39.39.9.59 1.41.59.51 0 1.02-.2 1.41-.59l7.78-7.78 2.81-2.81c.8-.78.8-2.07 0-2.86zM5.41 20L4 18.59l7.72-7.72 1.47 1.35L5.41 20z\"/>\n",
              "  </svg>\n",
              "      </button>\n",
              "      \n",
              "  <style>\n",
              "    .colab-df-container {\n",
              "      display:flex;\n",
              "      flex-wrap:wrap;\n",
              "      gap: 12px;\n",
              "    }\n",
              "\n",
              "    .colab-df-convert {\n",
              "      background-color: #E8F0FE;\n",
              "      border: none;\n",
              "      border-radius: 50%;\n",
              "      cursor: pointer;\n",
              "      display: none;\n",
              "      fill: #1967D2;\n",
              "      height: 32px;\n",
              "      padding: 0 0 0 0;\n",
              "      width: 32px;\n",
              "    }\n",
              "\n",
              "    .colab-df-convert:hover {\n",
              "      background-color: #E2EBFA;\n",
              "      box-shadow: 0px 1px 2px rgba(60, 64, 67, 0.3), 0px 1px 3px 1px rgba(60, 64, 67, 0.15);\n",
              "      fill: #174EA6;\n",
              "    }\n",
              "\n",
              "    [theme=dark] .colab-df-convert {\n",
              "      background-color: #3B4455;\n",
              "      fill: #D2E3FC;\n",
              "    }\n",
              "\n",
              "    [theme=dark] .colab-df-convert:hover {\n",
              "      background-color: #434B5C;\n",
              "      box-shadow: 0px 1px 3px 1px rgba(0, 0, 0, 0.15);\n",
              "      filter: drop-shadow(0px 1px 2px rgba(0, 0, 0, 0.3));\n",
              "      fill: #FFFFFF;\n",
              "    }\n",
              "  </style>\n",
              "\n",
              "      <script>\n",
              "        const buttonEl =\n",
              "          document.querySelector('#df-eb919f03-2288-4faf-8b35-b7736454e67b button.colab-df-convert');\n",
              "        buttonEl.style.display =\n",
              "          google.colab.kernel.accessAllowed ? 'block' : 'none';\n",
              "\n",
              "        async function convertToInteractive(key) {\n",
              "          const element = document.querySelector('#df-eb919f03-2288-4faf-8b35-b7736454e67b');\n",
              "          const dataTable =\n",
              "            await google.colab.kernel.invokeFunction('convertToInteractive',\n",
              "                                                     [key], {});\n",
              "          if (!dataTable) return;\n",
              "\n",
              "          const docLinkHtml = 'Like what you see? Visit the ' +\n",
              "            '<a target=\"_blank\" href=https://colab.research.google.com/notebooks/data_table.ipynb>data table notebook</a>'\n",
              "            + ' to learn more about interactive tables.';\n",
              "          element.innerHTML = '';\n",
              "          dataTable['output_type'] = 'display_data';\n",
              "          await google.colab.output.renderOutput(dataTable, element);\n",
              "          const docLink = document.createElement('div');\n",
              "          docLink.innerHTML = docLinkHtml;\n",
              "          element.appendChild(docLink);\n",
              "        }\n",
              "      </script>\n",
              "    </div>\n",
              "  </div>\n",
              "  "
            ],
            "text/plain": [
              "                    variables           VIF\n",
              "0                       Store  4.037120e+00\n",
              "1                   DayOfWeek  5.768537e+00\n",
              "2                   Customers  5.429088e+00\n",
              "3                       Promo  2.065405e+00\n",
              "4                StateHoliday  1.004194e+00\n",
              "5               SchoolHoliday  1.284642e+00\n",
              "6         CompetitionDistance  1.679860e+00\n",
              "7   CompetitionOpenSinceMonth  8.990602e+00\n",
              "8    CompetitionOpenSinceYear  2.338271e+05\n",
              "9                      Promo2  2.179577e+00\n",
              "10            Promo2SinceWeek  6.510530e+00\n",
              "11            Promo2SinceYear  2.225221e+06\n",
              "12                       year  2.285126e+06\n",
              "13                      month  4.255969e+00\n",
              "14                        Day  4.408448e+00\n",
              "15                  StoreType  1.984084e+00\n",
              "16                 Assortment  2.067601e+00"
            ]
          },
          "execution_count": 314,
          "metadata": {},
          "output_type": "execute_result"
        }
      ],
      "source": [
        "X = Select_df.drop([\"Sales\"],axis=1)\n",
        "calc_vif(X)"
      ]
    },
    {
      "cell_type": "markdown",
      "metadata": {
        "id": "UBLvws7lLOEv"
      },
      "source": [
        "**Conclusion:-**\n",
        "* An infinite value of VIF for a given independent variable indicates that it can be perfectly predicted by other variables in the model.\n",
        "* Hence for now we will discard the StoreTypes & Assortments.\n",
        "\n",
        "**So Our Selected Independent variables are**\n",
        "\n",
        " **{'Store', 'DayOfWeek', 'Sales', 'Customers','Promo','SchoolHoliday', 'CompetitionDistance',CompetitionOpenSinceMonth', 'CompetitionOpenSinceYear', 'Promo2',\n",
        "       'Promo2SinceWeek', 'Promo2SinceYear',  'year', 'month',\n",
        "       'Day',}**"
      ]
    },
    {
      "cell_type": "markdown",
      "metadata": {
        "id": "1Kcuv1koX7ny"
      },
      "source": [
        "#Now rest of the assumptions require us to perform the regression before we can even check for them. So let's perform regression on it."
      ]
    },
    {
      "cell_type": "markdown",
      "metadata": {
        "id": "W9bUlH0dX0fD"
      },
      "source": [
        " # Linear Regression"
      ]
    },
    {
      "cell_type": "code",
      "execution_count": null,
      "metadata": {
        "id": "r1OO3sOEnC6j"
      },
      "outputs": [],
      "source": [
        ""
      ]
    },
    {
      "cell_type": "markdown",
      "metadata": {
        "id": "qH-9Q70hMWte"
      },
      "source": [
        "\n",
        "\n",
        "Linear Regression is the simplest algorithm in machine learning, it can be trained in different ways. In this notebook we will cover the following linear algorithms:\n",
        "\n",
        "* Linear Regression\n",
        "* Ridge Regression\n",
        "* LASSO Regression\n"
      ]
    },
    {
      "cell_type": "code",
      "execution_count": null,
      "metadata": {
        "id": "L4xFsodDaj8r"
      },
      "outputs": [],
      "source": [
        "from sklearn import metrics\n",
        "\n",
        "#Evaluate matrices\n",
        "def print_evaluate(true, predicted):  \n",
        "    mae = metrics.mean_absolute_error(true, predicted)\n",
        "    mse = metrics.mean_squared_error(true, predicted)\n",
        "    rmse = np.sqrt(metrics.mean_squared_error(true, predicted))\n",
        "    r2_square = metrics.r2_score(true, predicted)\n",
        "    print('MAE:', mae)\n",
        "    print('MSE:', mse)\n",
        "    print('RMSE:', rmse)\n",
        "    print('R2 Square', r2_square)\n",
        "    print('__________________________________')\n",
        "    \n",
        "def evaluate(true, predicted):\n",
        "    mae = metrics.mean_absolute_error(true, predicted)\n",
        "    mse = metrics.mean_squared_error(true, predicted)\n",
        "    rmse = np.sqrt(metrics.mean_squared_error(true, predicted))\n",
        "    r2_square = metrics.r2_score(true, predicted)\n",
        "    return mae, mse, rmse, r2_square\n"
      ]
    },
    {
      "cell_type": "code",
      "source": [
        "models = pd.DataFrame({\n",
        "    'Model': ['Support Vector Machines', 'KNN', 'Logistic Regression', \n",
        "              'Random Forest', 'Naive Bayes', 'Perceptron', \n",
        "              'Stochastic Gradient Decent', 'Linear SVC', \n",
        "              'Decision Tree'],\n",
        "    'Score': [acc_svc, acc_knn, acc_log, \n",
        "              acc_random_forest, acc_gaussian, acc_perceptron, \n",
        "              acc_sgd, acc_linear_svc, acc_decision_tree]})\n",
        "models.sort_values(by='Score', ascending=False)\n",
        "\n",
        "acc_random_forest = round(random_forest.score(X_train, Y_train) * 100, 2)\n",
        "acc_random_forest\n"
      ],
      "metadata": {
        "id": "h05Js0QHh_VW"
      },
      "execution_count": null,
      "outputs": []
    },
    {
      "cell_type": "markdown",
      "metadata": {
        "id": "h4-qIh0bZ3YB"
      },
      "source": [
        "**Fitting the Linear Model**"
      ]
    },
    {
      "cell_type": "code",
      "execution_count": null,
      "metadata": {
        "id": "Nv_GCNplZwX2"
      },
      "outputs": [],
      "source": [
        "x = Select_df.drop([\"Sales\"],axis=1)\n",
        "y = Select_df.Sales"
      ]
    },
    {
      "cell_type": "code",
      "execution_count": null,
      "metadata": {
        "id": "B0MWW0apZ-Yv"
      },
      "outputs": [],
      "source": [
        "#Scale the Features.\n",
        "from sklearn.preprocessing import StandardScaler\n",
        "sc = StandardScaler()\n",
        "X = sc.fit_transform(x)"
      ]
    },
    {
      "cell_type": "markdown",
      "metadata": {
        "id": "cro-4GdaU36J"
      },
      "source": [
        "**Train Test Split**\n",
        "\n",
        "Now let's split the data into a training set and a testing set. We will train out model on the training set and then use the test set to evaluate the model."
      ]
    },
    {
      "cell_type": "code",
      "execution_count": null,
      "metadata": {
        "id": "Gv2rrhOyv-bb"
      },
      "outputs": [],
      "source": [
        "from sklearn.model_selection import train_test_split\n",
        "from sklearn.metrics import r2_score,mean_squared_error,mean_absolute_error\n",
        "import math\n",
        "\n",
        "\n",
        "\n",
        "X_train, X_test, y_train, y_test = train_test_split(X,y ,test_size=0.2, random_state=0)"
      ]
    },
    {
      "cell_type": "code",
      "execution_count": null,
      "metadata": {
        "colab": {
          "base_uri": "https://localhost:8080/"
        },
        "id": "u0oDA2EHHh0O",
        "outputId": "4dc6a7f3-db8d-49d2-bf37-21e07d47d6d9"
      },
      "outputs": [
        {
          "data": {
            "text/plain": [
              "((672928, 17), (672928,))"
            ]
          },
          "execution_count": 318,
          "metadata": {},
          "output_type": "execute_result"
        }
      ],
      "source": [
        "X_train.shape, y_train.shape"
      ]
    },
    {
      "cell_type": "markdown",
      "metadata": {
        "id": "BMVlegJnJkXu"
      },
      "source": [
        "**1.Linear Regression**"
      ]
    },
    {
      "cell_type": "code",
      "execution_count": null,
      "metadata": {
        "colab": {
          "base_uri": "https://localhost:8080/"
        },
        "id": "_L3jNdCGwn_s",
        "outputId": "3d321edd-e3d0-486a-db64-01377b7173e3"
      },
      "outputs": [
        {
          "data": {
            "text/plain": [
              "LinearRegression(normalize=True)"
            ]
          },
          "execution_count": 319,
          "metadata": {},
          "output_type": "execute_result"
        }
      ],
      "source": [
        "from sklearn.linear_model import LinearRegression\n",
        "\n",
        "LR_model = LinearRegression(normalize=True)\n",
        "LR_model.fit(X_train,y_train)"
      ]
    },
    {
      "cell_type": "markdown",
      "metadata": {
        "id": "1pS925sobpEy"
      },
      "source": [
        "**Evaluate Matrices**"
      ]
    },
    {
      "cell_type": "code",
      "execution_count": null,
      "metadata": {
        "colab": {
          "base_uri": "https://localhost:8080/"
        },
        "id": "gttrEB4haIYP",
        "outputId": "ecd3cb25-ae27-4a4d-b9f9-07333fb053ca"
      },
      "outputs": [
        {
          "name": "stdout",
          "output_type": "stream",
          "text": [
            "Test set evaluation:\n",
            "_____________________________________\n",
            "MAE: 1036.2090866188737\n",
            "MSE: 2227557.939525402\n",
            "RMSE: 1492.5005660050526\n",
            "R2 Square 0.7676827563827706\n",
            "__________________________________\n",
            "Train set evaluation:\n",
            "_____________________________________\n",
            "MAE: 1038.6746933441752\n",
            "MSE: 2269682.0129825505\n",
            "RMSE: 1506.5463859379008\n",
            "R2 Square 0.7648833368884441\n",
            "__________________________________\n"
          ]
        }
      ],
      "source": [
        "test_pred = LR_model.predict(X_test)\n",
        "train_pred = LR_model.predict(X_train)\n",
        "\n",
        "print('Test set evaluation:\\n_____________________________________')\n",
        "print_evaluate(y_test, test_pred)\n",
        "print('Train set evaluation:\\n_____________________________________')\n",
        "print_evaluate(y_train, train_pred)\n",
        "\n",
        "results_df = pd.DataFrame(data=[[\"Linear Regression\", *evaluate(y_test, test_pred) , cross_val(LinearRegression())]], \n",
        "                          columns=['Model', 'MAE', 'MSE', 'RMSE', 'R2 Square', \"Cross Validation\"])"
      ]
    },
    {
      "cell_type": "markdown",
      "metadata": {
        "id": "qXM0wQXAdpB7"
      },
      "source": [
        "**2. Mean of Residuals**\n",
        "\n",
        "* Residuals as we know are the differences between the true value and the predicted value. One of the assumptions of linear regression is that the mean of the residuals should be zero. So let's find out."
      ]
    },
    {
      "cell_type": "code",
      "execution_count": null,
      "metadata": {
        "colab": {
          "base_uri": "https://localhost:8080/"
        },
        "id": "1IjcaV1LdyXA",
        "outputId": "f0533e91-6144-48d5-a333-d830aa4497a6"
      },
      "outputs": [
        {
          "name": "stdout",
          "output_type": "stream",
          "text": [
            "Mean of Residuals -3.8251358109951145e-12\n"
          ]
        }
      ],
      "source": [
        "residuals = y_train.values-train_pred\n",
        "mean_residuals = np.mean(residuals)\n",
        "print(\"Mean of Residuals {}\".format(mean_residuals))"
      ]
    },
    {
      "cell_type": "markdown",
      "metadata": {
        "id": "EGkX1dTBedPW"
      },
      "source": [
        "**Note:-**Very close to zero so all good here."
      ]
    },
    {
      "cell_type": "markdown",
      "metadata": {
        "id": "KEPKiQLit9I0"
      },
      "source": [
        "**4. Check for Normality of error terms/residuals**"
      ]
    },
    {
      "cell_type": "code",
      "execution_count": null,
      "metadata": {
        "colab": {
          "base_uri": "https://localhost:8080/",
          "height": 338
        },
        "id": "RO65_uMauCBc",
        "outputId": "5a5ab61f-41da-4718-d863-9bfa0eadb4e8"
      },
      "outputs": [
        {
          "data": {
            "image/png": "[encoded data removed]",
            "text/plain": [
              "<Figure size 864x360 with 1 Axes>"
            ]
          },
          "metadata": {},
          "output_type": "display_data"
        }
      ],
      "source": [
        "p = sns.distplot(residuals,kde=True)\n",
        "p = plt.title('Normality of error terms/residuals')"
      ]
    },
    {
      "cell_type": "markdown",
      "metadata": {
        "id": "MUKIlwOBuLyS"
      },
      "source": [
        "**The residual terms are pretty much normally distributed for the number of test points we took. Remember the central limit theorem which says that as the sample size increases the distribution tends to be normal. A skew is also visible from the plot. It's very difficult to get perfect curves, distributions in real life data.**"
      ]
    },
    {
      "cell_type": "markdown",
      "metadata": {
        "id": "JEJMqwskn1Es"
      },
      "source": [
        "**Conclusion:-**\n",
        "* Over Data is as such that our Linear model is not able to performe well in it.\n",
        "* Apply cross validation and check different accuracy.\n"
      ]
    },
    {
      "cell_type": "markdown",
      "metadata": {
        "id": "S8ofTLcq5EjU"
      },
      "source": [
        "#CROSS VALIDATION\n",
        "* As you know in KNN method we use train test split with random_state that split exactly same at each time. However, if we do not use random_state, data is split differently at each time and according to split accuracy will be different. Therefore, we can conclude that model performance is dependent on train_test_split. For example you split, fit and predict data 5 times and accuracies are 0.89, 0.9, 0.91, 0.92 and 0.93, respectively. Which accuracy do you use? Do you know what accuracy will be at 6th times split, train and predict. The answer is I do not know but if I use cross validation I can find acceptable accuracy.\n",
        "Cross Validation (CV)\n",
        "\n",
        "* K folds = K fold CV.\n",
        "\n",
        "* When K is increase, computationally cost is increase\n",
        "* cross_val_score(LR_model,x,y,cv=5): use reg(linear regression) with x and y that we define at above and K is 5. It means 5 times(split, train,predict)"
      ]
    },
    {
      "cell_type": "code",
      "execution_count": null,
      "metadata": {
        "colab": {
          "base_uri": "https://localhost:8080/"
        },
        "id": "2ip1NfL_4MDK",
        "outputId": "a14de171-befa-4dbb-97a8-aa35c9995bdc"
      },
      "outputs": [
        {
          "name": "stdout",
          "output_type": "stream",
          "text": [
            "CV Scores:  [0.74454709 0.76544828 0.76334473 0.76800975 0.77196045]\n",
            "CV scores average:  0.7626620621480062\n"
          ]
        }
      ],
      "source": [
        "# CV\n",
        "from sklearn.model_selection import cross_val_score\n",
        "reg = LinearRegression()\n",
        "k = 5\n",
        "\n",
        "\n",
        "\n",
        "cv_result = cross_val_score(LR_model,x,y,cv=k) # uses R^2 as score \n",
        "print('CV Scores: ',cv_result)\n",
        "print('CV scores average: ',np.sum(cv_result)/k)"
      ]
    },
    {
      "cell_type": "markdown",
      "metadata": {
        "id": "bHTwraJe55BS"
      },
      "source": [
        "#Regularized Regression with Hyper parameter Tunning.\n",
        "**As we learn linear regression choose parameters (coefficients) while minimizing lost function. If linear regression thinks that one of the feature is important, it gives high coefficient to this feature. However, this can cause overfitting that is like memorizing in KNN. In order to avoid overfitting, we use regularization that penalize large coefficients.**\n",
        "\n",
        "**Ridge regression:** First regularization technique. Also it is called L2 regularization.\n",
        "* Ridge regression lost fuction = OLS + alpha * sum(parameter^2)\n",
        "alpha is parameter we need to choose to fit and predict. alpha is hyperparameter that we need to choose for best accuracy and model complexity. **This process is called hyperparameter tuning.**\n",
        "* What if alpha is zero? lost function = OLS so that is linear rigression \n",
        "* If alpha is small that can cause overfitting\n",
        "* If alpha is big that can cause underfitting. \n",
        "\n",
        "**Lasso regression:** Second regularization technique. Also it is called L1 regularization.\n",
        "* Lasso regression lost fuction = OLS + alpha * sum(absolute_value(parameter))\n",
        "* It can be used to select important features od the data. Because features whose values are not shrinked to zero, is chosen by lasso regression\n",
        "\n",
        "\n"
      ]
    },
    {
      "cell_type": "markdown",
      "metadata": {
        "id": "wNjo0M2R97QP"
      },
      "source": [
        "#Lasso Reg"
      ]
    },
    {
      "cell_type": "markdown",
      "metadata": {
        "id": "H3Ic1aQc5NqM"
      },
      "source": [
        "**Models**\n",
        "Now we are going to use regularized linear regression models from the scikit learn module. I'm going to try both l_1(Lasso) and l_2(Ridge) regularization. I'll also define a function that returns the cross-validation rmse error so we can evaluate our models and pick the best tuning par"
      ]
    },
    {
      "cell_type": "code",
      "execution_count": null,
      "metadata": {
        "colab": {
          "base_uri": "https://localhost:8080/",
          "height": 244
        },
        "id": "gTNbjNpG5MBR",
        "outputId": "81b026f2-775b-4521-90a6-a97d81741f51"
      },
      "outputs": [
        {
          "ename": "NameError",
          "evalue": "ignored",
          "output_type": "error",
          "traceback": [
            "\u001b[0;31m---------------------------------------------------------------------------\u001b[0m",
            "\u001b[0;31mNameError\u001b[0m                                 Traceback (most recent call last)",
            "\u001b[0;32m<ipython-input-2-a3e152dcea1d>\u001b[0m in \u001b[0;36m<module>\u001b[0;34m()\u001b[0m\n\u001b[1;32m      9\u001b[0m \u001b[0mlasso\u001b[0m \u001b[0;34m=\u001b[0m \u001b[0mLasso\u001b[0m\u001b[0;34m(\u001b[0m\u001b[0mselection\u001b[0m\u001b[0;34m=\u001b[0m\u001b[0;34m'random'\u001b[0m\u001b[0;34m,\u001b[0m\u001b[0mrandom_state\u001b[0m\u001b[0;34m=\u001b[0m\u001b[0;36m0\u001b[0m\u001b[0;34m)\u001b[0m\u001b[0;34m\u001b[0m\u001b[0;34m\u001b[0m\u001b[0m\n\u001b[1;32m     10\u001b[0m \u001b[0mparameters\u001b[0m \u001b[0;34m=\u001b[0m \u001b[0;34m{\u001b[0m\u001b[0;34m'alpha'\u001b[0m\u001b[0;34m:\u001b[0m \u001b[0;34m[\u001b[0m\u001b[0;36m1e-8\u001b[0m\u001b[0;34m,\u001b[0m\u001b[0;36m1e-5\u001b[0m\u001b[0;34m,\u001b[0m\u001b[0;36m1e-4\u001b[0m\u001b[0;34m,\u001b[0m\u001b[0;36m1e-3\u001b[0m\u001b[0;34m,\u001b[0m\u001b[0;36m1e-2\u001b[0m\u001b[0;34m,\u001b[0m\u001b[0;36m1e-1\u001b[0m\u001b[0;34m,\u001b[0m\u001b[0;36m1\u001b[0m\u001b[0;34m,\u001b[0m\u001b[0;36m5\u001b[0m\u001b[0;34m,\u001b[0m\u001b[0;36m10\u001b[0m\u001b[0;34m,\u001b[0m\u001b[0;34m]\u001b[0m\u001b[0;34m}\u001b[0m\u001b[0;34m\u001b[0m\u001b[0;34m\u001b[0m\u001b[0m\n\u001b[0;32m---> 11\u001b[0;31m \u001b[0mlasso_regressor\u001b[0m \u001b[0;34m=\u001b[0m \u001b[0mGridSearchCV\u001b[0m\u001b[0;34m(\u001b[0m\u001b[0mlasso\u001b[0m\u001b[0;34m,\u001b[0m \u001b[0mparameters\u001b[0m\u001b[0;34m,\u001b[0m \u001b[0mscoring\u001b[0m\u001b[0;34m=\u001b[0m\u001b[0;34m'neg_mean_squared_error'\u001b[0m\u001b[0;34m,\u001b[0m \u001b[0mcv\u001b[0m\u001b[0;34m=\u001b[0m\u001b[0;36m5\u001b[0m\u001b[0;34m)\u001b[0m\u001b[0;34m\u001b[0m\u001b[0;34m\u001b[0m\u001b[0m\n\u001b[0m\u001b[1;32m     12\u001b[0m \u001b[0mlasso_regressor\u001b[0m\u001b[0;34m.\u001b[0m\u001b[0mfit\u001b[0m\u001b[0;34m(\u001b[0m\u001b[0mX_train\u001b[0m\u001b[0;34m,\u001b[0m \u001b[0my_train\u001b[0m\u001b[0;34m)\u001b[0m\u001b[0;34m\u001b[0m\u001b[0;34m\u001b[0m\u001b[0m\n\u001b[1;32m     13\u001b[0m \u001b[0;34m\u001b[0m\u001b[0m\n",
            "\u001b[0;31mNameError\u001b[0m: name 'GridSearchCV' is not defined"
          ]
        }
      ],
      "source": [
        "from sklearn.linear_model import Lasso\n",
        "from sklearn.model_selection import cross_val_score\n",
        "\n",
        "# lasso = Lasso()\n",
        "# parameters = {'alpha': [1e-8,1e-5,1e-4,1e-3,1e-2,1e-1,1,5,10,]}\n",
        "# lasso_regressor = GridSearchCV(lasso, parameters, scoring='neg_mean_squared_error', cv=5)\n",
        "\n",
        "\n",
        "lasso = Lasso(selection='random',random_state=0)\n",
        "parameters = {'alpha': [1e-8,1e-5,1e-4,1e-3,1e-2,1e-1,1,5,10,]}\n",
        "lasso_regressor = GridSearchCV(lasso, parameters, scoring='neg_mean_squared_error', cv=5)\n",
        "lasso_regressor.fit(X_train, y_train)\n",
        "\n",
        "test_pred = lasso_regressor.predict(X_test)\n",
        "train_pred = lasso_regressor.predict(X_train)\n",
        "\n",
        "print('Test set evaluation:\\n_____________________________________')\n",
        "print_evaluate(y_test, test_pred)\n",
        "print('====================================')\n",
        "print('Train set evaluation:\\n_____________________________________')\n",
        "print_evaluate(y_train, train_pred)\n",
        "\n",
        "print(\"The best fit alpha value is found out to be :\" ,lasso_regressor.best_params_)"
      ]
    },
    {
      "cell_type": "code",
      "execution_count": null,
      "metadata": {
        "colab": {
          "base_uri": "https://localhost:8080/"
        },
        "id": "MYICNpZc8OmV",
        "outputId": "04a13e07-fc35-44a2-ea2a-6baa53b9a2e9"
      },
      "outputs": [
        {
          "name": "stdout",
          "output_type": "stream",
          "text": [
            "Lasso score:  0.7459381735566322\n",
            "Lasso coefficients:  [ -56.56207522 -119.72348923 2495.45426042  650.24150325   14.51213709\n",
            "  298.78061624  -16.52234532   52.30304313  135.31039634   80.27060372\n",
            "  -85.81220982  136.24514392  134.96826821    8.67585261]\n"
          ]
        }
      ],
      "source": [
        "print('Lasso score: ',model.score(X_test,y_test))\n",
        "print('Lasso coefficients: ',model.coef_)"
      ]
    },
    {
      "cell_type": "markdown",
      "metadata": {
        "id": "aF3iCL61_HNw"
      },
      "source": [
        "#Ridge Reg"
      ]
    },
    {
      "cell_type": "code",
      "execution_count": null,
      "metadata": {
        "colab": {
          "base_uri": "https://localhost:8080/"
        },
        "id": "MNtYNGZuZL1r",
        "outputId": "f278f38a-3a47-4590-bb8a-dbfd72e731f5"
      },
      "outputs": [
        {
          "name": "stdout",
          "output_type": "stream",
          "text": [
            "Test set evaluation:\n",
            "_____________________________________\n",
            "MAE: 1274.5623862237521\n",
            "MSE: 3075838.656368912\n",
            "RMSE: 1753.8069039574773\n",
            "R2 Square 0.679213570260178\n",
            "__________________________________\n",
            "====================================\n",
            "Train set evaluation:\n",
            "_____________________________________\n",
            "MAE: 1273.707239678606\n",
            "MSE: 3106885.195640964\n",
            "RMSE: 1762.6358658670724\n",
            "R2 Square 0.6781573472885372\n",
            "__________________________________\n"
          ]
        }
      ],
      "source": [
        "from sklearn.linear_model import Ridge\n",
        "\n",
        "\n",
        "ridge = Ridge()\n",
        "parameters = {'alpha': [1e-8,1e-5,1e-4,1e-3,1e-2,1,5]}\n",
        "ridge_regressor = GridSearchCV(ridge, parameters, scoring='neg_mean_squared_error', cv=3)\n",
        "ridge_regressor.fit(X_train,y_train)\n",
        "\n",
        "\n",
        "test_pred = ridge_regressor.predict(X_test)\n",
        "train_pred = ridge_regressor.predict(X_train)\n",
        "\n",
        "print('Test set evaluation:\\n_____________________________________')\n",
        "print_evaluate(y_test, test_pred)\n",
        "print('====================================')\n",
        "print('Train set evaluation:\\n_____________________________________')\n",
        "print_evaluate(y_train, train_pred)\n",
        "\n",
        "print(\"The best fit alpha value is found out to be :\" ,ridge_regressor.best_params_)"
      ]
    },
    {
      "cell_type": "code",
      "execution_count": null,
      "metadata": {
        "colab": {
          "base_uri": "https://localhost:8080/"
        },
        "id": "47JRjo8I9V17",
        "outputId": "86c09ecc-92df-427b-feb1-1c9de04953ae"
      },
      "outputs": [
        {
          "name": "stdout",
          "output_type": "stream",
          "text": [
            "Lasso score:  0.7459392376066603\n",
            "Lasso coefficients:  [ -56.66891189 -119.77895958 2495.58361814  650.31129223   14.58696744\n",
            "  298.91501037  -16.62171075   52.40121982  135.45029172   80.34944856\n",
            "  -85.8740041   136.37972235  135.09352132    8.78692481]\n"
          ]
        }
      ],
      "source": [
        "print('Lasso score: ',model.score(X_test,y_test))\n",
        "print('Lasso coefficients: ',model.coef_)"
      ]
    },
    {
      "cell_type": "markdown",
      "metadata": {
        "id": "Z_XW2MR7A0Zx"
      },
      "source": [
        "#Decision Tree Regressor"
      ]
    },
    {
      "cell_type": "code",
      "execution_count": null,
      "metadata": {
        "colab": {
          "base_uri": "https://localhost:8080/"
        },
        "id": "GJDkToKmAzyA",
        "outputId": "25dd94ca-34bf-4496-f4ce-cb4222ac6bb0"
      },
      "outputs": [
        {
          "data": {
            "text/plain": [
              "DecisionTreeRegressor()"
            ]
          },
          "execution_count": 324,
          "metadata": {},
          "output_type": "execute_result"
        }
      ],
      "source": [
        "from sklearn.tree import DecisionTreeRegressor\n",
        "\n",
        "DT_model = DecisionTreeRegressor()\n",
        "DT_model.fit(X_train,y_train)\n"
      ]
    },
    {
      "cell_type": "code",
      "execution_count": null,
      "metadata": {
        "colab": {
          "background_save": true,
          "base_uri": "https://localhost:8080/"
        },
        "id": "zlPHi7tPcefy",
        "outputId": "b0ed0029-df57-4d0d-ea88-2675ebe61527"
      },
      "outputs": [
        {
          "name": "stdout",
          "output_type": "stream",
          "text": [
            "Test set evaluation:\n",
            "_____________________________________\n",
            "MAE: 451.31425650292454\n",
            "MSE: 473790.15225403017\n",
            "RMSE: 688.3241621896112\n",
            "R2 Square 0.9505873134558759\n",
            "__________________________________\n",
            "====================================\n",
            "Train set evaluation:\n",
            "_____________________________________\n",
            "MAE: 0.0\n",
            "MSE: 0.0\n",
            "RMSE: 0.0\n",
            "R2 Square 1.0\n",
            "__________________________________\n"
          ]
        }
      ],
      "source": [
        "test_pred = DT_model.predict(X_test)\n",
        "train_pred = DT_model.predict(X_train)\n",
        "\n",
        "print('Test set evaluation:\\n_____________________________________')\n",
        "print_evaluate(y_test, test_pred)\n",
        "print('====================================')\n",
        "print('Train set evaluation:\\n_____________________________________')\n",
        "print_evaluate(y_train, train_pred)\n",
        "\n",
        "\n"
      ]
    },
    {
      "cell_type": "markdown",
      "metadata": {
        "id": "laiuQi8qCY6E"
      },
      "source": [
        "**Observation:-**\n",
        "The decision tree regressor performing well compared to Linear"
      ]
    },
    {
      "cell_type": "markdown",
      "metadata": {
        "id": "T26vxFKfCexb"
      },
      "source": [
        "#Random Forest Regressor"
      ]
    },
    {
      "cell_type": "code",
      "execution_count": null,
      "metadata": {
        "colab": {
          "base_uri": "https://localhost:8080/"
        },
        "id": "Cn1cQ75sCLps",
        "outputId": "b8bddfc8-b39d-4800-85bd-109ae7e7c450"
      },
      "outputs": [
        {
          "data": {
            "text/plain": [
              "RandomForestRegressor()"
            ]
          },
          "execution_count": 219,
          "metadata": {},
          "output_type": "execute_result"
        }
      ],
      "source": [
        "from sklearn.ensemble import RandomForestRegressor\n",
        "\n",
        "random_forest_model = RandomForestRegressor(n_estimators=100)\n",
        "random_forest_model.fit(X_train,y_train)\n",
        "\n"
      ]
    },
    {
      "cell_type": "code",
      "execution_count": null,
      "metadata": {
        "colab": {
          "base_uri": "https://localhost:8080/"
        },
        "id": "2SlonEdccuVH",
        "outputId": "6b6c8943-17ff-41fd-dedb-8487d0939673"
      },
      "outputs": [
        {
          "name": "stdout",
          "output_type": "stream",
          "text": [
            "Test set evaluation:\n",
            "_____________________________________\n",
            "MAE: 1224.4610611785963\n",
            "MSE: 2834427.3013882404\n",
            "RMSE: 1683.575748633913\n",
            "R2 Square 0.7043909268495915\n",
            "__________________________________\n",
            "====================================\n",
            "Train set evaluation:\n",
            "_____________________________________\n",
            "MAE: 1207.4701103575933\n",
            "MSE: 2701152.719977805\n",
            "RMSE: 1643.5183966046152\n",
            "R2 Square 0.7201872286764397\n",
            "__________________________________\n"
          ]
        }
      ],
      "source": [
        "test_pred = random_forest_model.predict(X_test)\n",
        "train_pred = random_forest_model.predict(X_train)\n",
        "\n",
        "print('Test set evaluation:\\n_____________________________________')\n",
        "print_evaluate(y_test, test_pred)\n",
        "print('====================================')\n",
        "print('Train set evaluation:\\n_____________________________________')\n",
        "print_evaluate(y_train, train_pred)\n",
        "\n",
        "results_df_2 = pd.DataFrame(data=[[\"Ridge Regression\", *evaluate(y_test, test_pred) , cross_val(Ridge())]], \n",
        "                            columns=['Model', 'MAE', 'MSE', 'RMSE', 'R2 Square', \"Cross Validation\"])\n",
        "results_df = results_df.append(results_df_2, ignore_index=True)"
      ]
    },
    {
      "cell_type": "code",
      "execution_count": null,
      "metadata": {
        "id": "sHhB4YXRCwfE"
      },
      "outputs": [],
      "source": [
        "# Performance of the model\n",
        "\n",
        "# print('r2_score:',r2_score(y_test,y_predict))\n",
        "# print('Mean absolute error: %.2f' % mean_absolute_error(y_test,y_predict))\n",
        "# print('Root mean squared error: ', math.sqrt(mean_squared_error(y_test,y_predict)))\n",
        "\n",
        "plt.figure(figsize=(8,8))\n",
        "plt.scatter(y_test,y_predict)\n",
        "\n",
        "p1 = max(max(y_predict),max(y_test))\n",
        "p2 = min(min(y_predict),min(y_test))\n",
        "plt.plot([p1,p2],[p1,p2],c='r')\n",
        "plt.xlabel('Actual values')\n",
        "plt.ylabel('Predicted values')"
      ]
    },
    {
      "cell_type": "markdown",
      "metadata": {
        "id": "F2_K5EIhFvc9"
      },
      "source": [
        "**Observation:**\n",
        "Random Forest regressor had the lowest error as compared to other models, which means it is better at predicting sales than other models."
      ]
    },
    {
      "cell_type": "markdown",
      "metadata": {
        "id": "ClsYywpQHGYV"
      },
      "source": [
        "#Understanding the important features"
      ]
    },
    {
      "cell_type": "code",
      "execution_count": null,
      "metadata": {
        "id": "FqDucbRvH21N"
      },
      "outputs": [],
      "source": [
        "# features used\n",
        "columns = list(X_train.columns)\n",
        "columns"
      ]
    },
    {
      "cell_type": "code",
      "execution_count": null,
      "metadata": {
        "id": "PBwhGCzgHH_x"
      },
      "outputs": [],
      "source": [
        "# getting weights of all the features used in the data\n",
        "feature_importance = random_forest_model.feature_importances_\n",
        "# Lets make a dataframe consists of features and values\n",
        "feature_importance_df = pd.DataFrame({'Features':columns, 'Values':feature_importance})\n",
        "feature_importance_df.sort_values(by=[\"Values\"], inplace=True, ascending=False)\n",
        "feature_importance_df"
      ]
    },
    {
      "cell_type": "code",
      "execution_count": null,
      "metadata": {
        "id": "HIxh9_neHhXa"
      },
      "outputs": [],
      "source": [
        "# Feature Importance\n",
        "plt.figure(figsize=(15,6))\n",
        "\n",
        "sns.barplot(x=feature_importance_df['Features'], y=feature_importance_df['Values'],\n",
        "            data = feature_importance_df ).set(title='Feature Importance')\n",
        "\n",
        "plt.xticks(rotation=90)\n",
        "plt.show()"
      ]
    },
    {
      "cell_type": "markdown",
      "metadata": {
        "id": "PptXMDLHJdAL"
      },
      "source": [
        "**Gradient Boosting**\n",
        "We're now ready to train our gradient boosting machine (GBM) model. Here's how a GBM model works:\n",
        "\n",
        "* The average value of the target column and uses as an initial prediction every input.\n",
        "* The residuals (difference) of the predictions with the targets are computed.\n",
        "* A decision tree of limited depth is trained to predict just the residuals for each input.\n",
        "* Predictions from the decision tree are scaled using a parameter called the learning rate (this prevents overfitting)\n",
        "* Scaled predictions fro the tree are added to the previous predictions to obtain the new and improved predictions.\n",
        "* Steps 2 to 5 are repeated to create new decision trees, each of which is trained to predict just the residuals from the previous prediction.\n",
        "* The term \"gradient\" refers to the fact that each decision tree is trained with the purpose of reducing the loss from the previous iteration (similar to gradient descent). \n",
        "* The term \"boosting\" refers the general technique of training new models to improve the results of an existing model.\n",
        "\n",
        "* To train a GBM, we can use the XGBRegressor class from the XGBoost library."
      ]
    },
    {
      "cell_type": "code",
      "execution_count": null,
      "metadata": {
        "id": "OesHtRB5IHKy"
      },
      "outputs": [],
      "source": [
        "from xgboost import XGBRegressor\n",
        "XGBmodel = XGBRegressor(random_state=42, n_jobs=-1, n_estimators=100, max_depth=4)\n",
        "\n",
        "# %%time\n",
        "XGBmodel.fit(X_train, y_train)\n",
        "\n",
        "\n",
        "# y_predict = XGBmodel.predict(X_test)\n",
        "# r2_score(y_test, y_predict)"
      ]
    },
    {
      "cell_type": "code",
      "execution_count": null,
      "metadata": {
        "id": "74q0i4lhgbvP"
      },
      "outputs": [],
      "source": [
        "test_pred = XGBmodel.predict(X_test)\n",
        "train_pred = XGBmodel.predict(X_train)\n",
        "\n",
        "print('Test set evaluation:\\n_____________________________________')\n",
        "print_evaluate(y_test, test_pred)\n",
        "print('====================================')\n",
        "print('Train set evaluation:\\n_____________________________________')\n",
        "print_evaluate(y_train, train_pred)\n",
        "\n",
        "results_df_2 = pd.DataFrame(data=[[\"Ridge Regression\", *evaluate(y_test, test_pred) , cross_val(Ridge())]], \n",
        "                            columns=['Model', 'MAE', 'MSE', 'RMSE', 'R2 Square', \"Cross Validation\"])\n",
        "results_df = results_df.append(results_df_2, ignore_index=True)"
      ]
    },
    {
      "cell_type": "markdown",
      "metadata": {
        "id": "3phqOViIKpZL"
      },
      "source": [
        "**Feature importance**\n",
        "* Just like decision trees and random forests, XGBoost also provides a feature importance score for each column in the input."
      ]
    },
    {
      "cell_type": "code",
      "execution_count": null,
      "metadata": {
        "id": "LrQbQNFAKr81"
      },
      "outputs": [],
      "source": [
        "importance_df = pd.DataFrame({\n",
        "    'feature': columns,\n",
        "    'importance': XGBmodel.feature_importances_\n",
        "}).sort_values('importance', ascending=False)"
      ]
    },
    {
      "cell_type": "code",
      "execution_count": null,
      "metadata": {
        "id": "60Mj9VztNI8n"
      },
      "outputs": [],
      "source": [
        "importance_df"
      ]
    },
    {
      "cell_type": "markdown",
      "metadata": {
        "id": "Ci61dD_qfU5L"
      },
      "source": [
        "#Models Comparison"
      ]
    },
    {
      "cell_type": "code",
      "execution_count": null,
      "metadata": {
        "id": "KD-WvahONMYM"
      },
      "outputs": [],
      "source": [
        "\n",
        "results_df.set_index('Model', inplace=True)\n",
        "results_df['R2 Square'].plot(kind='barh', figsize=(12, 8))"
      ]
    },
    {
      "cell_type": "code",
      "execution_count": null,
      "metadata": {
        "id": "bNds9Ws1ftTN"
      },
      "outputs": [],
      "source": [
        ""
      ]
    }
  ],
  "metadata": {
    "colab": {
      "collapsed_sections": [
        "Y06xIdG26kRF",
        "WWeU1f9bwqQq",
        "zK9xgEzW_fKE",
        "3S8J5uihn0ya",
        "oqdHg22ITAfw",
        "go7tA5aHTRDE"
      ],
      "name": "ML Rossmann Sales Prediction - Capstone Project.ipynb",
      "provenance": [],
      "include_colab_link": true
    },
    "kernelspec": {
      "display_name": "Python 3",
      "language": "python",
      "name": "python3"
    },
    "language_info": {
      "codemirror_mode": {
        "name": "ipython",
        "version": 3
      },
      "file_extension": ".py",
      "mimetype": "text/x-python",
      "name": "python",
      "nbconvert_exporter": "python",
      "pygments_lexer": "ipython3",
      "version": "3.6.6"
    }
  },
  "nbformat": 4,
  "nbformat_minor": 0
}